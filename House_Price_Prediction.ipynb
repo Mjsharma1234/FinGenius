{
  "nbformat": 4,
  "nbformat_minor": 0,
  "metadata": {
    "colab": {
      "provenance": [],
      "include_colab_link": true
    },
    "kernelspec": {
      "name": "python3",
      "display_name": "Python 3"
    },
    "language_info": {
      "name": "python"
    }
  },
  "cells": [
    {
      "cell_type": "markdown",
      "metadata": {
        "id": "view-in-github",
        "colab_type": "text"
      },
      "source": [
        "<a href=\"https://colab.research.google.com/github/Mjsharma1234/FinGenius/blob/main/House_Price_Prediction.ipynb\" target=\"_parent\"><img src=\"https://colab.research.google.com/assets/colab-badge.svg\" alt=\"Open In Colab\"/></a>"
      ]
    },
    {
      "cell_type": "code",
      "execution_count": null,
      "metadata": {
        "id": "NxlXx8zIIxy-"
      },
      "outputs": [],
      "source": [
        "import numpy as np\n",
        "import pandas as pd\n",
        "import matplotlib.pyplot as plt\n",
        "import seaborn as sns\n",
        "import sklearn.datasets\n",
        "from sklearn.model_selection import train_test_split\n",
        "from xgboost import XGBRegressor\n",
        "from sklearn import metrics"
      ]
    },
    {
      "cell_type": "markdown",
      "metadata": {
        "id": "4d9170f1"
      },
      "source": [
        "## Summary:\n",
        "\n",
        "### Data Analysis Key Findings\n",
        "\n",
        "* The best hyperparameters found for the XGBoost Regressor model using GridSearchCV were `{'colsample_bytree': 0.8, 'learning_rate': 0.1, 'max_depth': 7, 'n_estimators': 300, 'subsample': 0.8}`.\n",
        "* The tuned XGBoost model achieved an R-squared error of approximately 0.852 on the test set.\n",
        "* The tuned XGBoost model resulted in a Mean Absolute Error (MAE) of approximately 0.290 on the test set.\n",
        "\n",
        "### Insights or Next Steps\n",
        "\n",
        "* Compare the performance of the tuned model with an untuned model to quantify the improvement gained from hyperparameter tuning.\n",
        "* Explore other hyperparameter tuning techniques like RandomizedSearchCV or Bayesian Optimization to potentially find even better hyperparameter combinations."
      ]
    },
    {
      "cell_type": "markdown",
      "source": [
        "Importing the Boston House Price Dataset"
      ],
      "metadata": {
        "id": "KF0NACJfKdZr"
      }
    },
    {
      "cell_type": "code",
      "source": [
        "house_price_dataset = sklearn.datasets.fetch_california_housing()"
      ],
      "metadata": {
        "id": "k6c8SqjtKNv7"
      },
      "execution_count": null,
      "outputs": []
    },
    {
      "cell_type": "code",
      "source": [
        "print(house_price_dataset)"
      ],
      "metadata": {
        "colab": {
          "base_uri": "https://localhost:8080/"
        },
        "id": "p_aMus38Kyb4",
        "outputId": "5d491c92-2a63-455c-cc0f-5206c2d02d14"
      },
      "execution_count": null,
      "outputs": [
        {
          "output_type": "stream",
          "name": "stdout",
          "text": [
            "{'data': array([[   8.3252    ,   41.        ,    6.98412698, ...,    2.55555556,\n",
            "          37.88      , -122.23      ],\n",
            "       [   8.3014    ,   21.        ,    6.23813708, ...,    2.10984183,\n",
            "          37.86      , -122.22      ],\n",
            "       [   7.2574    ,   52.        ,    8.28813559, ...,    2.80225989,\n",
            "          37.85      , -122.24      ],\n",
            "       ...,\n",
            "       [   1.7       ,   17.        ,    5.20554273, ...,    2.3256351 ,\n",
            "          39.43      , -121.22      ],\n",
            "       [   1.8672    ,   18.        ,    5.32951289, ...,    2.12320917,\n",
            "          39.43      , -121.32      ],\n",
            "       [   2.3886    ,   16.        ,    5.25471698, ...,    2.61698113,\n",
            "          39.37      , -121.24      ]]), 'target': array([4.526, 3.585, 3.521, ..., 0.923, 0.847, 0.894]), 'frame': None, 'target_names': ['MedHouseVal'], 'feature_names': ['MedInc', 'HouseAge', 'AveRooms', 'AveBedrms', 'Population', 'AveOccup', 'Latitude', 'Longitude'], 'DESCR': '.. _california_housing_dataset:\\n\\nCalifornia Housing dataset\\n--------------------------\\n\\n**Data Set Characteristics:**\\n\\n    :Number of Instances: 20640\\n\\n    :Number of Attributes: 8 numeric, predictive attributes and the target\\n\\n    :Attribute Information:\\n        - MedInc        median income in block group\\n        - HouseAge      median house age in block group\\n        - AveRooms      average number of rooms per household\\n        - AveBedrms     average number of bedrooms per household\\n        - Population    block group population\\n        - AveOccup      average number of household members\\n        - Latitude      block group latitude\\n        - Longitude     block group longitude\\n\\n    :Missing Attribute Values: None\\n\\nThis dataset was obtained from the StatLib repository.\\nhttps://www.dcc.fc.up.pt/~ltorgo/Regression/cal_housing.html\\n\\nThe target variable is the median house value for California districts,\\nexpressed in hundreds of thousands of dollars ($100,000).\\n\\nThis dataset was derived from the 1990 U.S. census, using one row per census\\nblock group. A block group is the smallest geographical unit for which the U.S.\\nCensus Bureau publishes sample data (a block group typically has a population\\nof 600 to 3,000 people).\\n\\nA household is a group of people residing within a home. Since the average\\nnumber of rooms and bedrooms in this dataset are provided per household, these\\ncolumns may take surprisingly large values for block groups with few households\\nand many empty houses, such as vacation resorts.\\n\\nIt can be downloaded/loaded using the\\n:func:`sklearn.datasets.fetch_california_housing` function.\\n\\n.. topic:: References\\n\\n    - Pace, R. Kelley and Ronald Barry, Sparse Spatial Autoregressions,\\n      Statistics and Probability Letters, 33 (1997) 291-297\\n'}\n"
          ]
        }
      ]
    },
    {
      "cell_type": "code",
      "source": [
        "# Loading the dataset to a pandas dataframe\n",
        "house_price_dataframe = pd.DataFrame(house_price_dataset.data, columns = house_price_dataset.feature_names)\n"
      ],
      "metadata": {
        "id": "gsCsZQ27LJgM"
      },
      "execution_count": null,
      "outputs": []
    },
    {
      "cell_type": "code",
      "source": [
        "house_price_dataframe.head()"
      ],
      "metadata": {
        "colab": {
          "base_uri": "https://localhost:8080/",
          "height": 206
        },
        "id": "0QMscwYcMUdI",
        "outputId": "f018b965-4733-45e9-bda0-08a366c07921"
      },
      "execution_count": null,
      "outputs": [
        {
          "output_type": "execute_result",
          "data": {
            "text/plain": [
              "   MedInc  HouseAge  AveRooms  ...  AveOccup  Latitude  Longitude\n",
              "0  8.3252      41.0  6.984127  ...  2.555556     37.88    -122.23\n",
              "1  8.3014      21.0  6.238137  ...  2.109842     37.86    -122.22\n",
              "2  7.2574      52.0  8.288136  ...  2.802260     37.85    -122.24\n",
              "3  5.6431      52.0  5.817352  ...  2.547945     37.85    -122.25\n",
              "4  3.8462      52.0  6.281853  ...  2.181467     37.85    -122.25\n",
              "\n",
              "[5 rows x 8 columns]"
            ],
            "text/html": [
              "\n",
              "  <div id=\"df-8f628791-3556-4010-91b7-d9440ded5ef1\" class=\"colab-df-container\">\n",
              "    <div>\n",
              "<style scoped>\n",
              "    .dataframe tbody tr th:only-of-type {\n",
              "        vertical-align: middle;\n",
              "    }\n",
              "\n",
              "    .dataframe tbody tr th {\n",
              "        vertical-align: top;\n",
              "    }\n",
              "\n",
              "    .dataframe thead th {\n",
              "        text-align: right;\n",
              "    }\n",
              "</style>\n",
              "<table border=\"1\" class=\"dataframe\">\n",
              "  <thead>\n",
              "    <tr style=\"text-align: right;\">\n",
              "      <th></th>\n",
              "      <th>MedInc</th>\n",
              "      <th>HouseAge</th>\n",
              "      <th>AveRooms</th>\n",
              "      <th>AveBedrms</th>\n",
              "      <th>Population</th>\n",
              "      <th>AveOccup</th>\n",
              "      <th>Latitude</th>\n",
              "      <th>Longitude</th>\n",
              "    </tr>\n",
              "  </thead>\n",
              "  <tbody>\n",
              "    <tr>\n",
              "      <th>0</th>\n",
              "      <td>8.3252</td>\n",
              "      <td>41.0</td>\n",
              "      <td>6.984127</td>\n",
              "      <td>1.023810</td>\n",
              "      <td>322.0</td>\n",
              "      <td>2.555556</td>\n",
              "      <td>37.88</td>\n",
              "      <td>-122.23</td>\n",
              "    </tr>\n",
              "    <tr>\n",
              "      <th>1</th>\n",
              "      <td>8.3014</td>\n",
              "      <td>21.0</td>\n",
              "      <td>6.238137</td>\n",
              "      <td>0.971880</td>\n",
              "      <td>2401.0</td>\n",
              "      <td>2.109842</td>\n",
              "      <td>37.86</td>\n",
              "      <td>-122.22</td>\n",
              "    </tr>\n",
              "    <tr>\n",
              "      <th>2</th>\n",
              "      <td>7.2574</td>\n",
              "      <td>52.0</td>\n",
              "      <td>8.288136</td>\n",
              "      <td>1.073446</td>\n",
              "      <td>496.0</td>\n",
              "      <td>2.802260</td>\n",
              "      <td>37.85</td>\n",
              "      <td>-122.24</td>\n",
              "    </tr>\n",
              "    <tr>\n",
              "      <th>3</th>\n",
              "      <td>5.6431</td>\n",
              "      <td>52.0</td>\n",
              "      <td>5.817352</td>\n",
              "      <td>1.073059</td>\n",
              "      <td>558.0</td>\n",
              "      <td>2.547945</td>\n",
              "      <td>37.85</td>\n",
              "      <td>-122.25</td>\n",
              "    </tr>\n",
              "    <tr>\n",
              "      <th>4</th>\n",
              "      <td>3.8462</td>\n",
              "      <td>52.0</td>\n",
              "      <td>6.281853</td>\n",
              "      <td>1.081081</td>\n",
              "      <td>565.0</td>\n",
              "      <td>2.181467</td>\n",
              "      <td>37.85</td>\n",
              "      <td>-122.25</td>\n",
              "    </tr>\n",
              "  </tbody>\n",
              "</table>\n",
              "</div>\n",
              "    <div class=\"colab-df-buttons\">\n",
              "\n",
              "  <div class=\"colab-df-container\">\n",
              "    <button class=\"colab-df-convert\" onclick=\"convertToInteractive('df-8f628791-3556-4010-91b7-d9440ded5ef1')\"\n",
              "            title=\"Convert this dataframe to an interactive table.\"\n",
              "            style=\"display:none;\">\n",
              "\n",
              "  <svg xmlns=\"http://www.w3.org/2000/svg\" height=\"24px\" viewBox=\"0 -960 960 960\">\n",
              "    <path d=\"M120-120v-720h720v720H120Zm60-500h600v-160H180v160Zm220 220h160v-160H400v160Zm0 220h160v-160H400v160ZM180-400h160v-160H180v160Zm440 0h160v-160H620v160ZM180-180h160v-160H180v160Zm440 0h160v-160H620v160Z\"/>\n",
              "  </svg>\n",
              "    </button>\n",
              "\n",
              "  <style>\n",
              "    .colab-df-container {\n",
              "      display:flex;\n",
              "      gap: 12px;\n",
              "    }\n",
              "\n",
              "    .colab-df-convert {\n",
              "      background-color: #E8F0FE;\n",
              "      border: none;\n",
              "      border-radius: 50%;\n",
              "      cursor: pointer;\n",
              "      display: none;\n",
              "      fill: #1967D2;\n",
              "      height: 32px;\n",
              "      padding: 0 0 0 0;\n",
              "      width: 32px;\n",
              "    }\n",
              "\n",
              "    .colab-df-convert:hover {\n",
              "      background-color: #E2EBFA;\n",
              "      box-shadow: 0px 1px 2px rgba(60, 64, 67, 0.3), 0px 1px 3px 1px rgba(60, 64, 67, 0.15);\n",
              "      fill: #174EA6;\n",
              "    }\n",
              "\n",
              "    .colab-df-buttons div {\n",
              "      margin-bottom: 4px;\n",
              "    }\n",
              "\n",
              "    [theme=dark] .colab-df-convert {\n",
              "      background-color: #3B4455;\n",
              "      fill: #D2E3FC;\n",
              "    }\n",
              "\n",
              "    [theme=dark] .colab-df-convert:hover {\n",
              "      background-color: #434B5C;\n",
              "      box-shadow: 0px 1px 3px 1px rgba(0, 0, 0, 0.15);\n",
              "      filter: drop-shadow(0px 1px 2px rgba(0, 0, 0, 0.3));\n",
              "      fill: #FFFFFF;\n",
              "    }\n",
              "  </style>\n",
              "\n",
              "    <script>\n",
              "      const buttonEl =\n",
              "        document.querySelector('#df-8f628791-3556-4010-91b7-d9440ded5ef1 button.colab-df-convert');\n",
              "      buttonEl.style.display =\n",
              "        google.colab.kernel.accessAllowed ? 'block' : 'none';\n",
              "\n",
              "      async function convertToInteractive(key) {\n",
              "        const element = document.querySelector('#df-8f628791-3556-4010-91b7-d9440ded5ef1');\n",
              "        const dataTable =\n",
              "          await google.colab.kernel.invokeFunction('convertToInteractive',\n",
              "                                                    [key], {});\n",
              "        if (!dataTable) return;\n",
              "\n",
              "        const docLinkHtml = 'Like what you see? Visit the ' +\n",
              "          '<a target=\"_blank\" href=https://colab.research.google.com/notebooks/data_table.ipynb>data table notebook</a>'\n",
              "          + ' to learn more about interactive tables.';\n",
              "        element.innerHTML = '';\n",
              "        dataTable['output_type'] = 'display_data';\n",
              "        await google.colab.output.renderOutput(dataTable, element);\n",
              "        const docLink = document.createElement('div');\n",
              "        docLink.innerHTML = docLinkHtml;\n",
              "        element.appendChild(docLink);\n",
              "      }\n",
              "    </script>\n",
              "  </div>\n",
              "\n",
              "\n",
              "<div id=\"df-586ff32e-6105-4859-9926-e43b759f4d46\">\n",
              "  <button class=\"colab-df-quickchart\" onclick=\"quickchart('df-586ff32e-6105-4859-9926-e43b759f4d46')\"\n",
              "            title=\"Suggest charts.\"\n",
              "            style=\"display:none;\">\n",
              "\n",
              "<svg xmlns=\"http://www.w3.org/2000/svg\" height=\"24px\"viewBox=\"0 0 24 24\"\n",
              "     width=\"24px\">\n",
              "    <g>\n",
              "        <path d=\"M19 3H5c-1.1 0-2 .9-2 2v14c0 1.1.9 2 2 2h14c1.1 0 2-.9 2-2V5c0-1.1-.9-2-2-2zM9 17H7v-7h2v7zm4 0h-2V7h2v10zm4 0h-2v-4h2v4z\"/>\n",
              "    </g>\n",
              "</svg>\n",
              "  </button>\n",
              "\n",
              "<style>\n",
              "  .colab-df-quickchart {\n",
              "      --bg-color: #E8F0FE;\n",
              "      --fill-color: #1967D2;\n",
              "      --hover-bg-color: #E2EBFA;\n",
              "      --hover-fill-color: #174EA6;\n",
              "      --disabled-fill-color: #AAA;\n",
              "      --disabled-bg-color: #DDD;\n",
              "  }\n",
              "\n",
              "  [theme=dark] .colab-df-quickchart {\n",
              "      --bg-color: #3B4455;\n",
              "      --fill-color: #D2E3FC;\n",
              "      --hover-bg-color: #434B5C;\n",
              "      --hover-fill-color: #FFFFFF;\n",
              "      --disabled-bg-color: #3B4455;\n",
              "      --disabled-fill-color: #666;\n",
              "  }\n",
              "\n",
              "  .colab-df-quickchart {\n",
              "    background-color: var(--bg-color);\n",
              "    border: none;\n",
              "    border-radius: 50%;\n",
              "    cursor: pointer;\n",
              "    display: none;\n",
              "    fill: var(--fill-color);\n",
              "    height: 32px;\n",
              "    padding: 0;\n",
              "    width: 32px;\n",
              "  }\n",
              "\n",
              "  .colab-df-quickchart:hover {\n",
              "    background-color: var(--hover-bg-color);\n",
              "    box-shadow: 0 1px 2px rgba(60, 64, 67, 0.3), 0 1px 3px 1px rgba(60, 64, 67, 0.15);\n",
              "    fill: var(--button-hover-fill-color);\n",
              "  }\n",
              "\n",
              "  .colab-df-quickchart-complete:disabled,\n",
              "  .colab-df-quickchart-complete:disabled:hover {\n",
              "    background-color: var(--disabled-bg-color);\n",
              "    fill: var(--disabled-fill-color);\n",
              "    box-shadow: none;\n",
              "  }\n",
              "\n",
              "  .colab-df-spinner {\n",
              "    border: 2px solid var(--fill-color);\n",
              "    border-color: transparent;\n",
              "    border-bottom-color: var(--fill-color);\n",
              "    animation:\n",
              "      spin 1s steps(1) infinite;\n",
              "  }\n",
              "\n",
              "  @keyframes spin {\n",
              "    0% {\n",
              "      border-color: transparent;\n",
              "      border-bottom-color: var(--fill-color);\n",
              "      border-left-color: var(--fill-color);\n",
              "    }\n",
              "    20% {\n",
              "      border-color: transparent;\n",
              "      border-left-color: var(--fill-color);\n",
              "      border-top-color: var(--fill-color);\n",
              "    }\n",
              "    30% {\n",
              "      border-color: transparent;\n",
              "      border-left-color: var(--fill-color);\n",
              "      border-top-color: var(--fill-color);\n",
              "      border-right-color: var(--fill-color);\n",
              "    }\n",
              "    40% {\n",
              "      border-color: transparent;\n",
              "      border-right-color: var(--fill-color);\n",
              "      border-top-color: var(--fill-color);\n",
              "    }\n",
              "    60% {\n",
              "      border-color: transparent;\n",
              "      border-right-color: var(--fill-color);\n",
              "    }\n",
              "    80% {\n",
              "      border-color: transparent;\n",
              "      border-right-color: var(--fill-color);\n",
              "      border-bottom-color: var(--fill-color);\n",
              "    }\n",
              "    90% {\n",
              "      border-color: transparent;\n",
              "      border-bottom-color: var(--fill-color);\n",
              "    }\n",
              "  }\n",
              "</style>\n",
              "\n",
              "  <script>\n",
              "    async function quickchart(key) {\n",
              "      const quickchartButtonEl =\n",
              "        document.querySelector('#' + key + ' button');\n",
              "      quickchartButtonEl.disabled = true;  // To prevent multiple clicks.\n",
              "      quickchartButtonEl.classList.add('colab-df-spinner');\n",
              "      try {\n",
              "        const charts = await google.colab.kernel.invokeFunction(\n",
              "            'suggestCharts', [key], {});\n",
              "      } catch (error) {\n",
              "        console.error('Error during call to suggestCharts:', error);\n",
              "      }\n",
              "      quickchartButtonEl.classList.remove('colab-df-spinner');\n",
              "      quickchartButtonEl.classList.add('colab-df-quickchart-complete');\n",
              "    }\n",
              "    (() => {\n",
              "      let quickchartButtonEl =\n",
              "        document.querySelector('#df-586ff32e-6105-4859-9926-e43b759f4d46 button');\n",
              "      quickchartButtonEl.style.display =\n",
              "        google.colab.kernel.accessAllowed ? 'block' : 'none';\n",
              "    })();\n",
              "  </script>\n",
              "</div>\n",
              "    </div>\n",
              "  </div>\n"
            ]
          },
          "metadata": {},
          "execution_count": 8
        }
      ]
    },
    {
      "cell_type": "code",
      "source": [
        "# add the target column to the dataframe\n",
        "house_price_dataframe['price'] = house_price_dataset.target"
      ],
      "metadata": {
        "id": "0jVZmCcCMva4"
      },
      "execution_count": null,
      "outputs": []
    },
    {
      "cell_type": "code",
      "source": [
        "house_price_dataframe.head()"
      ],
      "metadata": {
        "colab": {
          "base_uri": "https://localhost:8080/",
          "height": 206
        },
        "id": "JTSiwIMWNJNS",
        "outputId": "e400f513-3d96-42f3-b0c0-60d1da9b0dd8"
      },
      "execution_count": null,
      "outputs": [
        {
          "output_type": "execute_result",
          "data": {
            "text/plain": [
              "   MedInc  HouseAge  AveRooms  AveBedrms  ...  AveOccup  Latitude  Longitude  price\n",
              "0  8.3252      41.0  6.984127   1.023810  ...  2.555556     37.88    -122.23  4.526\n",
              "1  8.3014      21.0  6.238137   0.971880  ...  2.109842     37.86    -122.22  3.585\n",
              "2  7.2574      52.0  8.288136   1.073446  ...  2.802260     37.85    -122.24  3.521\n",
              "3  5.6431      52.0  5.817352   1.073059  ...  2.547945     37.85    -122.25  3.413\n",
              "4  3.8462      52.0  6.281853   1.081081  ...  2.181467     37.85    -122.25  3.422\n",
              "\n",
              "[5 rows x 9 columns]"
            ],
            "text/html": [
              "\n",
              "  <div id=\"df-7fd6a3e2-4a4d-440d-b677-b5fa3958ea92\" class=\"colab-df-container\">\n",
              "    <div>\n",
              "<style scoped>\n",
              "    .dataframe tbody tr th:only-of-type {\n",
              "        vertical-align: middle;\n",
              "    }\n",
              "\n",
              "    .dataframe tbody tr th {\n",
              "        vertical-align: top;\n",
              "    }\n",
              "\n",
              "    .dataframe thead th {\n",
              "        text-align: right;\n",
              "    }\n",
              "</style>\n",
              "<table border=\"1\" class=\"dataframe\">\n",
              "  <thead>\n",
              "    <tr style=\"text-align: right;\">\n",
              "      <th></th>\n",
              "      <th>MedInc</th>\n",
              "      <th>HouseAge</th>\n",
              "      <th>AveRooms</th>\n",
              "      <th>AveBedrms</th>\n",
              "      <th>Population</th>\n",
              "      <th>AveOccup</th>\n",
              "      <th>Latitude</th>\n",
              "      <th>Longitude</th>\n",
              "      <th>price</th>\n",
              "    </tr>\n",
              "  </thead>\n",
              "  <tbody>\n",
              "    <tr>\n",
              "      <th>0</th>\n",
              "      <td>8.3252</td>\n",
              "      <td>41.0</td>\n",
              "      <td>6.984127</td>\n",
              "      <td>1.023810</td>\n",
              "      <td>322.0</td>\n",
              "      <td>2.555556</td>\n",
              "      <td>37.88</td>\n",
              "      <td>-122.23</td>\n",
              "      <td>4.526</td>\n",
              "    </tr>\n",
              "    <tr>\n",
              "      <th>1</th>\n",
              "      <td>8.3014</td>\n",
              "      <td>21.0</td>\n",
              "      <td>6.238137</td>\n",
              "      <td>0.971880</td>\n",
              "      <td>2401.0</td>\n",
              "      <td>2.109842</td>\n",
              "      <td>37.86</td>\n",
              "      <td>-122.22</td>\n",
              "      <td>3.585</td>\n",
              "    </tr>\n",
              "    <tr>\n",
              "      <th>2</th>\n",
              "      <td>7.2574</td>\n",
              "      <td>52.0</td>\n",
              "      <td>8.288136</td>\n",
              "      <td>1.073446</td>\n",
              "      <td>496.0</td>\n",
              "      <td>2.802260</td>\n",
              "      <td>37.85</td>\n",
              "      <td>-122.24</td>\n",
              "      <td>3.521</td>\n",
              "    </tr>\n",
              "    <tr>\n",
              "      <th>3</th>\n",
              "      <td>5.6431</td>\n",
              "      <td>52.0</td>\n",
              "      <td>5.817352</td>\n",
              "      <td>1.073059</td>\n",
              "      <td>558.0</td>\n",
              "      <td>2.547945</td>\n",
              "      <td>37.85</td>\n",
              "      <td>-122.25</td>\n",
              "      <td>3.413</td>\n",
              "    </tr>\n",
              "    <tr>\n",
              "      <th>4</th>\n",
              "      <td>3.8462</td>\n",
              "      <td>52.0</td>\n",
              "      <td>6.281853</td>\n",
              "      <td>1.081081</td>\n",
              "      <td>565.0</td>\n",
              "      <td>2.181467</td>\n",
              "      <td>37.85</td>\n",
              "      <td>-122.25</td>\n",
              "      <td>3.422</td>\n",
              "    </tr>\n",
              "  </tbody>\n",
              "</table>\n",
              "</div>\n",
              "    <div class=\"colab-df-buttons\">\n",
              "\n",
              "  <div class=\"colab-df-container\">\n",
              "    <button class=\"colab-df-convert\" onclick=\"convertToInteractive('df-7fd6a3e2-4a4d-440d-b677-b5fa3958ea92')\"\n",
              "            title=\"Convert this dataframe to an interactive table.\"\n",
              "            style=\"display:none;\">\n",
              "\n",
              "  <svg xmlns=\"http://www.w3.org/2000/svg\" height=\"24px\" viewBox=\"0 -960 960 960\">\n",
              "    <path d=\"M120-120v-720h720v720H120Zm60-500h600v-160H180v160Zm220 220h160v-160H400v160Zm0 220h160v-160H400v160ZM180-400h160v-160H180v160Zm440 0h160v-160H620v160ZM180-180h160v-160H180v160Zm440 0h160v-160H620v160Z\"/>\n",
              "  </svg>\n",
              "    </button>\n",
              "\n",
              "  <style>\n",
              "    .colab-df-container {\n",
              "      display:flex;\n",
              "      gap: 12px;\n",
              "    }\n",
              "\n",
              "    .colab-df-convert {\n",
              "      background-color: #E8F0FE;\n",
              "      border: none;\n",
              "      border-radius: 50%;\n",
              "      cursor: pointer;\n",
              "      display: none;\n",
              "      fill: #1967D2;\n",
              "      height: 32px;\n",
              "      padding: 0 0 0 0;\n",
              "      width: 32px;\n",
              "    }\n",
              "\n",
              "    .colab-df-convert:hover {\n",
              "      background-color: #E2EBFA;\n",
              "      box-shadow: 0px 1px 2px rgba(60, 64, 67, 0.3), 0px 1px 3px 1px rgba(60, 64, 67, 0.15);\n",
              "      fill: #174EA6;\n",
              "    }\n",
              "\n",
              "    .colab-df-buttons div {\n",
              "      margin-bottom: 4px;\n",
              "    }\n",
              "\n",
              "    [theme=dark] .colab-df-convert {\n",
              "      background-color: #3B4455;\n",
              "      fill: #D2E3FC;\n",
              "    }\n",
              "\n",
              "    [theme=dark] .colab-df-convert:hover {\n",
              "      background-color: #434B5C;\n",
              "      box-shadow: 0px 1px 3px 1px rgba(0, 0, 0, 0.15);\n",
              "      filter: drop-shadow(0px 1px 2px rgba(0, 0, 0, 0.3));\n",
              "      fill: #FFFFFF;\n",
              "    }\n",
              "  </style>\n",
              "\n",
              "    <script>\n",
              "      const buttonEl =\n",
              "        document.querySelector('#df-7fd6a3e2-4a4d-440d-b677-b5fa3958ea92 button.colab-df-convert');\n",
              "      buttonEl.style.display =\n",
              "        google.colab.kernel.accessAllowed ? 'block' : 'none';\n",
              "\n",
              "      async function convertToInteractive(key) {\n",
              "        const element = document.querySelector('#df-7fd6a3e2-4a4d-440d-b677-b5fa3958ea92');\n",
              "        const dataTable =\n",
              "          await google.colab.kernel.invokeFunction('convertToInteractive',\n",
              "                                                    [key], {});\n",
              "        if (!dataTable) return;\n",
              "\n",
              "        const docLinkHtml = 'Like what you see? Visit the ' +\n",
              "          '<a target=\"_blank\" href=https://colab.research.google.com/notebooks/data_table.ipynb>data table notebook</a>'\n",
              "          + ' to learn more about interactive tables.';\n",
              "        element.innerHTML = '';\n",
              "        dataTable['output_type'] = 'display_data';\n",
              "        await google.colab.output.renderOutput(dataTable, element);\n",
              "        const docLink = document.createElement('div');\n",
              "        docLink.innerHTML = docLinkHtml;\n",
              "        element.appendChild(docLink);\n",
              "      }\n",
              "    </script>\n",
              "  </div>\n",
              "\n",
              "\n",
              "<div id=\"df-f10a6bb2-310e-4365-ada6-96b8cc769491\">\n",
              "  <button class=\"colab-df-quickchart\" onclick=\"quickchart('df-f10a6bb2-310e-4365-ada6-96b8cc769491')\"\n",
              "            title=\"Suggest charts.\"\n",
              "            style=\"display:none;\">\n",
              "\n",
              "<svg xmlns=\"http://www.w3.org/2000/svg\" height=\"24px\"viewBox=\"0 0 24 24\"\n",
              "     width=\"24px\">\n",
              "    <g>\n",
              "        <path d=\"M19 3H5c-1.1 0-2 .9-2 2v14c0 1.1.9 2 2 2h14c1.1 0 2-.9 2-2V5c0-1.1-.9-2-2-2zM9 17H7v-7h2v7zm4 0h-2V7h2v10zm4 0h-2v-4h2v4z\"/>\n",
              "    </g>\n",
              "</svg>\n",
              "  </button>\n",
              "\n",
              "<style>\n",
              "  .colab-df-quickchart {\n",
              "      --bg-color: #E8F0FE;\n",
              "      --fill-color: #1967D2;\n",
              "      --hover-bg-color: #E2EBFA;\n",
              "      --hover-fill-color: #174EA6;\n",
              "      --disabled-fill-color: #AAA;\n",
              "      --disabled-bg-color: #DDD;\n",
              "  }\n",
              "\n",
              "  [theme=dark] .colab-df-quickchart {\n",
              "      --bg-color: #3B4455;\n",
              "      --fill-color: #D2E3FC;\n",
              "      --hover-bg-color: #434B5C;\n",
              "      --hover-fill-color: #FFFFFF;\n",
              "      --disabled-bg-color: #3B4455;\n",
              "      --disabled-fill-color: #666;\n",
              "  }\n",
              "\n",
              "  .colab-df-quickchart {\n",
              "    background-color: var(--bg-color);\n",
              "    border: none;\n",
              "    border-radius: 50%;\n",
              "    cursor: pointer;\n",
              "    display: none;\n",
              "    fill: var(--fill-color);\n",
              "    height: 32px;\n",
              "    padding: 0;\n",
              "    width: 32px;\n",
              "  }\n",
              "\n",
              "  .colab-df-quickchart:hover {\n",
              "    background-color: var(--hover-bg-color);\n",
              "    box-shadow: 0 1px 2px rgba(60, 64, 67, 0.3), 0 1px 3px 1px rgba(60, 64, 67, 0.15);\n",
              "    fill: var(--button-hover-fill-color);\n",
              "  }\n",
              "\n",
              "  .colab-df-quickchart-complete:disabled,\n",
              "  .colab-df-quickchart-complete:disabled:hover {\n",
              "    background-color: var(--disabled-bg-color);\n",
              "    fill: var(--disabled-fill-color);\n",
              "    box-shadow: none;\n",
              "  }\n",
              "\n",
              "  .colab-df-spinner {\n",
              "    border: 2px solid var(--fill-color);\n",
              "    border-color: transparent;\n",
              "    border-bottom-color: var(--fill-color);\n",
              "    animation:\n",
              "      spin 1s steps(1) infinite;\n",
              "  }\n",
              "\n",
              "  @keyframes spin {\n",
              "    0% {\n",
              "      border-color: transparent;\n",
              "      border-bottom-color: var(--fill-color);\n",
              "      border-left-color: var(--fill-color);\n",
              "    }\n",
              "    20% {\n",
              "      border-color: transparent;\n",
              "      border-left-color: var(--fill-color);\n",
              "      border-top-color: var(--fill-color);\n",
              "    }\n",
              "    30% {\n",
              "      border-color: transparent;\n",
              "      border-left-color: var(--fill-color);\n",
              "      border-top-color: var(--fill-color);\n",
              "      border-right-color: var(--fill-color);\n",
              "    }\n",
              "    40% {\n",
              "      border-color: transparent;\n",
              "      border-right-color: var(--fill-color);\n",
              "      border-top-color: var(--fill-color);\n",
              "    }\n",
              "    60% {\n",
              "      border-color: transparent;\n",
              "      border-right-color: var(--fill-color);\n",
              "    }\n",
              "    80% {\n",
              "      border-color: transparent;\n",
              "      border-right-color: var(--fill-color);\n",
              "      border-bottom-color: var(--fill-color);\n",
              "    }\n",
              "    90% {\n",
              "      border-color: transparent;\n",
              "      border-bottom-color: var(--fill-color);\n",
              "    }\n",
              "  }\n",
              "</style>\n",
              "\n",
              "  <script>\n",
              "    async function quickchart(key) {\n",
              "      const quickchartButtonEl =\n",
              "        document.querySelector('#' + key + ' button');\n",
              "      quickchartButtonEl.disabled = true;  // To prevent multiple clicks.\n",
              "      quickchartButtonEl.classList.add('colab-df-spinner');\n",
              "      try {\n",
              "        const charts = await google.colab.kernel.invokeFunction(\n",
              "            'suggestCharts', [key], {});\n",
              "      } catch (error) {\n",
              "        console.error('Error during call to suggestCharts:', error);\n",
              "      }\n",
              "      quickchartButtonEl.classList.remove('colab-df-spinner');\n",
              "      quickchartButtonEl.classList.add('colab-df-quickchart-complete');\n",
              "    }\n",
              "    (() => {\n",
              "      let quickchartButtonEl =\n",
              "        document.querySelector('#df-f10a6bb2-310e-4365-ada6-96b8cc769491 button');\n",
              "      quickchartButtonEl.style.display =\n",
              "        google.colab.kernel.accessAllowed ? 'block' : 'none';\n",
              "    })();\n",
              "  </script>\n",
              "</div>\n",
              "    </div>\n",
              "  </div>\n"
            ]
          },
          "metadata": {},
          "execution_count": 10
        }
      ]
    },
    {
      "cell_type": "code",
      "source": [
        "# checking the number of rows and columns in the dataframe\n",
        "house_price_dataframe.shape"
      ],
      "metadata": {
        "colab": {
          "base_uri": "https://localhost:8080/"
        },
        "id": "bV44-OLJNOzz",
        "outputId": "fc754423-7845-438b-b77d-b1762654a57b"
      },
      "execution_count": null,
      "outputs": [
        {
          "output_type": "execute_result",
          "data": {
            "text/plain": [
              "(20640, 9)"
            ]
          },
          "metadata": {},
          "execution_count": 11
        }
      ]
    },
    {
      "cell_type": "code",
      "source": [
        "# check for missing values\n",
        "house_price_dataframe.isnull().sum"
      ],
      "metadata": {
        "colab": {
          "base_uri": "https://localhost:8080/"
        },
        "id": "IdA-5PW1Nc5q",
        "outputId": "6ba57f8b-2377-42d8-96a6-07c03652fee4"
      },
      "execution_count": null,
      "outputs": [
        {
          "output_type": "execute_result",
          "data": {
            "text/plain": [
              "<bound method NDFrame._add_numeric_operations.<locals>.sum of        MedInc  HouseAge  AveRooms  ...  Latitude  Longitude  price\n",
              "0       False     False     False  ...     False      False  False\n",
              "1       False     False     False  ...     False      False  False\n",
              "2       False     False     False  ...     False      False  False\n",
              "3       False     False     False  ...     False      False  False\n",
              "4       False     False     False  ...     False      False  False\n",
              "...       ...       ...       ...  ...       ...        ...    ...\n",
              "20635   False     False     False  ...     False      False  False\n",
              "20636   False     False     False  ...     False      False  False\n",
              "20637   False     False     False  ...     False      False  False\n",
              "20638   False     False     False  ...     False      False  False\n",
              "20639   False     False     False  ...     False      False  False\n",
              "\n",
              "[20640 rows x 9 columns]>"
            ]
          },
          "metadata": {},
          "execution_count": 12
        }
      ]
    },
    {
      "cell_type": "code",
      "source": [
        "# statistical measures of the dataset\n",
        "house_price_dataframe.describe()"
      ],
      "metadata": {
        "colab": {
          "base_uri": "https://localhost:8080/",
          "height": 300
        },
        "id": "Dlhhvm73NuXM",
        "outputId": "aaaed7e6-d9bf-4805-8ac9-e8a925e684e2"
      },
      "execution_count": null,
      "outputs": [
        {
          "output_type": "execute_result",
          "data": {
            "text/plain": [
              "             MedInc      HouseAge  ...     Longitude         price\n",
              "count  20640.000000  20640.000000  ...  20640.000000  20640.000000\n",
              "mean       3.870671     28.639486  ...   -119.569704      2.068558\n",
              "std        1.899822     12.585558  ...      2.003532      1.153956\n",
              "min        0.499900      1.000000  ...   -124.350000      0.149990\n",
              "25%        2.563400     18.000000  ...   -121.800000      1.196000\n",
              "50%        3.534800     29.000000  ...   -118.490000      1.797000\n",
              "75%        4.743250     37.000000  ...   -118.010000      2.647250\n",
              "max       15.000100     52.000000  ...   -114.310000      5.000010\n",
              "\n",
              "[8 rows x 9 columns]"
            ],
            "text/html": [
              "\n",
              "  <div id=\"df-c5bf6e21-1a7e-4bc4-ab2e-745186cfe10a\" class=\"colab-df-container\">\n",
              "    <div>\n",
              "<style scoped>\n",
              "    .dataframe tbody tr th:only-of-type {\n",
              "        vertical-align: middle;\n",
              "    }\n",
              "\n",
              "    .dataframe tbody tr th {\n",
              "        vertical-align: top;\n",
              "    }\n",
              "\n",
              "    .dataframe thead th {\n",
              "        text-align: right;\n",
              "    }\n",
              "</style>\n",
              "<table border=\"1\" class=\"dataframe\">\n",
              "  <thead>\n",
              "    <tr style=\"text-align: right;\">\n",
              "      <th></th>\n",
              "      <th>MedInc</th>\n",
              "      <th>HouseAge</th>\n",
              "      <th>AveRooms</th>\n",
              "      <th>AveBedrms</th>\n",
              "      <th>Population</th>\n",
              "      <th>AveOccup</th>\n",
              "      <th>Latitude</th>\n",
              "      <th>Longitude</th>\n",
              "      <th>price</th>\n",
              "    </tr>\n",
              "  </thead>\n",
              "  <tbody>\n",
              "    <tr>\n",
              "      <th>count</th>\n",
              "      <td>20640.000000</td>\n",
              "      <td>20640.000000</td>\n",
              "      <td>20640.000000</td>\n",
              "      <td>20640.000000</td>\n",
              "      <td>20640.000000</td>\n",
              "      <td>20640.000000</td>\n",
              "      <td>20640.000000</td>\n",
              "      <td>20640.000000</td>\n",
              "      <td>20640.000000</td>\n",
              "    </tr>\n",
              "    <tr>\n",
              "      <th>mean</th>\n",
              "      <td>3.870671</td>\n",
              "      <td>28.639486</td>\n",
              "      <td>5.429000</td>\n",
              "      <td>1.096675</td>\n",
              "      <td>1425.476744</td>\n",
              "      <td>3.070655</td>\n",
              "      <td>35.631861</td>\n",
              "      <td>-119.569704</td>\n",
              "      <td>2.068558</td>\n",
              "    </tr>\n",
              "    <tr>\n",
              "      <th>std</th>\n",
              "      <td>1.899822</td>\n",
              "      <td>12.585558</td>\n",
              "      <td>2.474173</td>\n",
              "      <td>0.473911</td>\n",
              "      <td>1132.462122</td>\n",
              "      <td>10.386050</td>\n",
              "      <td>2.135952</td>\n",
              "      <td>2.003532</td>\n",
              "      <td>1.153956</td>\n",
              "    </tr>\n",
              "    <tr>\n",
              "      <th>min</th>\n",
              "      <td>0.499900</td>\n",
              "      <td>1.000000</td>\n",
              "      <td>0.846154</td>\n",
              "      <td>0.333333</td>\n",
              "      <td>3.000000</td>\n",
              "      <td>0.692308</td>\n",
              "      <td>32.540000</td>\n",
              "      <td>-124.350000</td>\n",
              "      <td>0.149990</td>\n",
              "    </tr>\n",
              "    <tr>\n",
              "      <th>25%</th>\n",
              "      <td>2.563400</td>\n",
              "      <td>18.000000</td>\n",
              "      <td>4.440716</td>\n",
              "      <td>1.006079</td>\n",
              "      <td>787.000000</td>\n",
              "      <td>2.429741</td>\n",
              "      <td>33.930000</td>\n",
              "      <td>-121.800000</td>\n",
              "      <td>1.196000</td>\n",
              "    </tr>\n",
              "    <tr>\n",
              "      <th>50%</th>\n",
              "      <td>3.534800</td>\n",
              "      <td>29.000000</td>\n",
              "      <td>5.229129</td>\n",
              "      <td>1.048780</td>\n",
              "      <td>1166.000000</td>\n",
              "      <td>2.818116</td>\n",
              "      <td>34.260000</td>\n",
              "      <td>-118.490000</td>\n",
              "      <td>1.797000</td>\n",
              "    </tr>\n",
              "    <tr>\n",
              "      <th>75%</th>\n",
              "      <td>4.743250</td>\n",
              "      <td>37.000000</td>\n",
              "      <td>6.052381</td>\n",
              "      <td>1.099526</td>\n",
              "      <td>1725.000000</td>\n",
              "      <td>3.282261</td>\n",
              "      <td>37.710000</td>\n",
              "      <td>-118.010000</td>\n",
              "      <td>2.647250</td>\n",
              "    </tr>\n",
              "    <tr>\n",
              "      <th>max</th>\n",
              "      <td>15.000100</td>\n",
              "      <td>52.000000</td>\n",
              "      <td>141.909091</td>\n",
              "      <td>34.066667</td>\n",
              "      <td>35682.000000</td>\n",
              "      <td>1243.333333</td>\n",
              "      <td>41.950000</td>\n",
              "      <td>-114.310000</td>\n",
              "      <td>5.000010</td>\n",
              "    </tr>\n",
              "  </tbody>\n",
              "</table>\n",
              "</div>\n",
              "    <div class=\"colab-df-buttons\">\n",
              "\n",
              "  <div class=\"colab-df-container\">\n",
              "    <button class=\"colab-df-convert\" onclick=\"convertToInteractive('df-c5bf6e21-1a7e-4bc4-ab2e-745186cfe10a')\"\n",
              "            title=\"Convert this dataframe to an interactive table.\"\n",
              "            style=\"display:none;\">\n",
              "\n",
              "  <svg xmlns=\"http://www.w3.org/2000/svg\" height=\"24px\" viewBox=\"0 -960 960 960\">\n",
              "    <path d=\"M120-120v-720h720v720H120Zm60-500h600v-160H180v160Zm220 220h160v-160H400v160Zm0 220h160v-160H400v160ZM180-400h160v-160H180v160Zm440 0h160v-160H620v160ZM180-180h160v-160H180v160Zm440 0h160v-160H620v160Z\"/>\n",
              "  </svg>\n",
              "    </button>\n",
              "\n",
              "  <style>\n",
              "    .colab-df-container {\n",
              "      display:flex;\n",
              "      gap: 12px;\n",
              "    }\n",
              "\n",
              "    .colab-df-convert {\n",
              "      background-color: #E8F0FE;\n",
              "      border: none;\n",
              "      border-radius: 50%;\n",
              "      cursor: pointer;\n",
              "      display: none;\n",
              "      fill: #1967D2;\n",
              "      height: 32px;\n",
              "      padding: 0 0 0 0;\n",
              "      width: 32px;\n",
              "    }\n",
              "\n",
              "    .colab-df-convert:hover {\n",
              "      background-color: #E2EBFA;\n",
              "      box-shadow: 0px 1px 2px rgba(60, 64, 67, 0.3), 0px 1px 3px 1px rgba(60, 64, 67, 0.15);\n",
              "      fill: #174EA6;\n",
              "    }\n",
              "\n",
              "    .colab-df-buttons div {\n",
              "      margin-bottom: 4px;\n",
              "    }\n",
              "\n",
              "    [theme=dark] .colab-df-convert {\n",
              "      background-color: #3B4455;\n",
              "      fill: #D2E3FC;\n",
              "    }\n",
              "\n",
              "    [theme=dark] .colab-df-convert:hover {\n",
              "      background-color: #434B5C;\n",
              "      box-shadow: 0px 1px 3px 1px rgba(0, 0, 0, 0.15);\n",
              "      filter: drop-shadow(0px 1px 2px rgba(0, 0, 0, 0.3));\n",
              "      fill: #FFFFFF;\n",
              "    }\n",
              "  </style>\n",
              "\n",
              "    <script>\n",
              "      const buttonEl =\n",
              "        document.querySelector('#df-c5bf6e21-1a7e-4bc4-ab2e-745186cfe10a button.colab-df-convert');\n",
              "      buttonEl.style.display =\n",
              "        google.colab.kernel.accessAllowed ? 'block' : 'none';\n",
              "\n",
              "      async function convertToInteractive(key) {\n",
              "        const element = document.querySelector('#df-c5bf6e21-1a7e-4bc4-ab2e-745186cfe10a');\n",
              "        const dataTable =\n",
              "          await google.colab.kernel.invokeFunction('convertToInteractive',\n",
              "                                                    [key], {});\n",
              "        if (!dataTable) return;\n",
              "\n",
              "        const docLinkHtml = 'Like what you see? Visit the ' +\n",
              "          '<a target=\"_blank\" href=https://colab.research.google.com/notebooks/data_table.ipynb>data table notebook</a>'\n",
              "          + ' to learn more about interactive tables.';\n",
              "        element.innerHTML = '';\n",
              "        dataTable['output_type'] = 'display_data';\n",
              "        await google.colab.output.renderOutput(dataTable, element);\n",
              "        const docLink = document.createElement('div');\n",
              "        docLink.innerHTML = docLinkHtml;\n",
              "        element.appendChild(docLink);\n",
              "      }\n",
              "    </script>\n",
              "  </div>\n",
              "\n",
              "\n",
              "<div id=\"df-b3cf089e-ef8f-4fa4-909f-12d4ee1cf444\">\n",
              "  <button class=\"colab-df-quickchart\" onclick=\"quickchart('df-b3cf089e-ef8f-4fa4-909f-12d4ee1cf444')\"\n",
              "            title=\"Suggest charts.\"\n",
              "            style=\"display:none;\">\n",
              "\n",
              "<svg xmlns=\"http://www.w3.org/2000/svg\" height=\"24px\"viewBox=\"0 0 24 24\"\n",
              "     width=\"24px\">\n",
              "    <g>\n",
              "        <path d=\"M19 3H5c-1.1 0-2 .9-2 2v14c0 1.1.9 2 2 2h14c1.1 0 2-.9 2-2V5c0-1.1-.9-2-2-2zM9 17H7v-7h2v7zm4 0h-2V7h2v10zm4 0h-2v-4h2v4z\"/>\n",
              "    </g>\n",
              "</svg>\n",
              "  </button>\n",
              "\n",
              "<style>\n",
              "  .colab-df-quickchart {\n",
              "      --bg-color: #E8F0FE;\n",
              "      --fill-color: #1967D2;\n",
              "      --hover-bg-color: #E2EBFA;\n",
              "      --hover-fill-color: #174EA6;\n",
              "      --disabled-fill-color: #AAA;\n",
              "      --disabled-bg-color: #DDD;\n",
              "  }\n",
              "\n",
              "  [theme=dark] .colab-df-quickchart {\n",
              "      --bg-color: #3B4455;\n",
              "      --fill-color: #D2E3FC;\n",
              "      --hover-bg-color: #434B5C;\n",
              "      --hover-fill-color: #FFFFFF;\n",
              "      --disabled-bg-color: #3B4455;\n",
              "      --disabled-fill-color: #666;\n",
              "  }\n",
              "\n",
              "  .colab-df-quickchart {\n",
              "    background-color: var(--bg-color);\n",
              "    border: none;\n",
              "    border-radius: 50%;\n",
              "    cursor: pointer;\n",
              "    display: none;\n",
              "    fill: var(--fill-color);\n",
              "    height: 32px;\n",
              "    padding: 0;\n",
              "    width: 32px;\n",
              "  }\n",
              "\n",
              "  .colab-df-quickchart:hover {\n",
              "    background-color: var(--hover-bg-color);\n",
              "    box-shadow: 0 1px 2px rgba(60, 64, 67, 0.3), 0 1px 3px 1px rgba(60, 64, 67, 0.15);\n",
              "    fill: var(--button-hover-fill-color);\n",
              "  }\n",
              "\n",
              "  .colab-df-quickchart-complete:disabled,\n",
              "  .colab-df-quickchart-complete:disabled:hover {\n",
              "    background-color: var(--disabled-bg-color);\n",
              "    fill: var(--disabled-fill-color);\n",
              "    box-shadow: none;\n",
              "  }\n",
              "\n",
              "  .colab-df-spinner {\n",
              "    border: 2px solid var(--fill-color);\n",
              "    border-color: transparent;\n",
              "    border-bottom-color: var(--fill-color);\n",
              "    animation:\n",
              "      spin 1s steps(1) infinite;\n",
              "  }\n",
              "\n",
              "  @keyframes spin {\n",
              "    0% {\n",
              "      border-color: transparent;\n",
              "      border-bottom-color: var(--fill-color);\n",
              "      border-left-color: var(--fill-color);\n",
              "    }\n",
              "    20% {\n",
              "      border-color: transparent;\n",
              "      border-left-color: var(--fill-color);\n",
              "      border-top-color: var(--fill-color);\n",
              "    }\n",
              "    30% {\n",
              "      border-color: transparent;\n",
              "      border-left-color: var(--fill-color);\n",
              "      border-top-color: var(--fill-color);\n",
              "      border-right-color: var(--fill-color);\n",
              "    }\n",
              "    40% {\n",
              "      border-color: transparent;\n",
              "      border-right-color: var(--fill-color);\n",
              "      border-top-color: var(--fill-color);\n",
              "    }\n",
              "    60% {\n",
              "      border-color: transparent;\n",
              "      border-right-color: var(--fill-color);\n",
              "    }\n",
              "    80% {\n",
              "      border-color: transparent;\n",
              "      border-right-color: var(--fill-color);\n",
              "      border-bottom-color: var(--fill-color);\n",
              "    }\n",
              "    90% {\n",
              "      border-color: transparent;\n",
              "      border-bottom-color: var(--fill-color);\n",
              "    }\n",
              "  }\n",
              "</style>\n",
              "\n",
              "  <script>\n",
              "    async function quickchart(key) {\n",
              "      const quickchartButtonEl =\n",
              "        document.querySelector('#' + key + ' button');\n",
              "      quickchartButtonEl.disabled = true;  // To prevent multiple clicks.\n",
              "      quickchartButtonEl.classList.add('colab-df-spinner');\n",
              "      try {\n",
              "        const charts = await google.colab.kernel.invokeFunction(\n",
              "            'suggestCharts', [key], {});\n",
              "      } catch (error) {\n",
              "        console.error('Error during call to suggestCharts:', error);\n",
              "      }\n",
              "      quickchartButtonEl.classList.remove('colab-df-spinner');\n",
              "      quickchartButtonEl.classList.add('colab-df-quickchart-complete');\n",
              "    }\n",
              "    (() => {\n",
              "      let quickchartButtonEl =\n",
              "        document.querySelector('#df-b3cf089e-ef8f-4fa4-909f-12d4ee1cf444 button');\n",
              "      quickchartButtonEl.style.display =\n",
              "        google.colab.kernel.accessAllowed ? 'block' : 'none';\n",
              "    })();\n",
              "  </script>\n",
              "</div>\n",
              "    </div>\n",
              "  </div>\n"
            ]
          },
          "metadata": {},
          "execution_count": 13
        }
      ]
    },
    {
      "cell_type": "markdown",
      "source": [
        "Understanding the **correlation** between various features in the dataset"
      ],
      "metadata": {
        "id": "_4_WnRTfOJAB"
      }
    },
    {
      "cell_type": "markdown",
      "source": [
        "1. Positive Correlation\n",
        "2. Negative Correlation"
      ],
      "metadata": {
        "id": "m_qDVyB2ORPv"
      }
    },
    {
      "cell_type": "code",
      "source": [
        "correlation = house_price_dataframe.corr()"
      ],
      "metadata": {
        "id": "INlW8yk2N8uL"
      },
      "execution_count": null,
      "outputs": []
    },
    {
      "cell_type": "code",
      "source": [
        "# constructing a heatmap to understand the correlation\n",
        "\n",
        "plt.figure(figsize=(10,10))\n",
        "sns.heatmap(correlation, cbar=True, square=True, fmt='.1f', annot=True, annot_kws={'size':8}, cmap='Blues')"
      ],
      "metadata": {
        "colab": {
          "base_uri": "https://localhost:8080/",
          "height": 842
        },
        "id": "6hjfWdsmQ3Q7",
        "outputId": "4fc2d22d-5d6f-4787-92af-0f4feaf782cc"
      },
      "execution_count": null,
      "outputs": [
        {
          "output_type": "execute_result",
          "data": {
            "text/plain": [
              "<Axes: >"
            ]
          },
          "metadata": {},
          "execution_count": 20
        },
        {
          "output_type": "display_data",
          "data": {
            "text/plain": [
              "<Figure size 1000x1000 with 2 Axes>"
            ],
            "image/png": "[encoded data removed]"
          },
          "metadata": {}
        }
      ]
    },
    {
      "cell_type": "markdown",
      "source": [
        "Splitting the data and target"
      ],
      "metadata": {
        "id": "PW-ozm6ugVec"
      }
    },
    {
      "cell_type": "code",
      "source": [
        "X = house_price_dataframe.drop(['price'], axis=1)\n",
        "Y = house_price_dataframe['price']"
      ],
      "metadata": {
        "id": "OG-1ekOyRZ17"
      },
      "execution_count": null,
      "outputs": []
    },
    {
      "cell_type": "code",
      "source": [
        "print(X,Y)"
      ],
      "metadata": {
        "colab": {
          "base_uri": "https://localhost:8080/"
        },
        "id": "GEAZFIxZgx-T",
        "outputId": "d7f40f9b-a3a8-4519-da59-113457094437"
      },
      "execution_count": null,
      "outputs": [
        {
          "output_type": "stream",
          "name": "stdout",
          "text": [
            "       MedInc  HouseAge  AveRooms  ...  AveOccup  Latitude  Longitude\n",
            "0      8.3252      41.0  6.984127  ...  2.555556     37.88    -122.23\n",
            "1      8.3014      21.0  6.238137  ...  2.109842     37.86    -122.22\n",
            "2      7.2574      52.0  8.288136  ...  2.802260     37.85    -122.24\n",
            "3      5.6431      52.0  5.817352  ...  2.547945     37.85    -122.25\n",
            "4      3.8462      52.0  6.281853  ...  2.181467     37.85    -122.25\n",
            "...       ...       ...       ...  ...       ...       ...        ...\n",
            "20635  1.5603      25.0  5.045455  ...  2.560606     39.48    -121.09\n",
            "20636  2.5568      18.0  6.114035  ...  3.122807     39.49    -121.21\n",
            "20637  1.7000      17.0  5.205543  ...  2.325635     39.43    -121.22\n",
            "20638  1.8672      18.0  5.329513  ...  2.123209     39.43    -121.32\n",
            "20639  2.3886      16.0  5.254717  ...  2.616981     39.37    -121.24\n",
            "\n",
            "[20640 rows x 8 columns] 0        4.526\n",
            "1        3.585\n",
            "2        3.521\n",
            "3        3.413\n",
            "4        3.422\n",
            "         ...  \n",
            "20635    0.781\n",
            "20636    0.771\n",
            "20637    0.923\n",
            "20638    0.847\n",
            "20639    0.894\n",
            "Name: price, Length: 20640, dtype: float64\n"
          ]
        }
      ]
    },
    {
      "cell_type": "markdown",
      "source": [
        "Splitting the data into training data and test data"
      ],
      "metadata": {
        "id": "PiibjUFeg60p"
      }
    },
    {
      "cell_type": "code",
      "source": [
        "X_train, X_test, Y_train, Y_test = train_test_split(X,Y, test_size=0.2, random_state=2)"
      ],
      "metadata": {
        "id": "CmQ0u3VRgzrP"
      },
      "execution_count": null,
      "outputs": []
    },
    {
      "cell_type": "code",
      "source": [
        "print(X.shape, X_train.shape, X_test.shape)"
      ],
      "metadata": {
        "colab": {
          "base_uri": "https://localhost:8080/"
        },
        "id": "Zvt65MUWhrHh",
        "outputId": "752f1c3d-817d-42c2-fd02-b241a86482b2"
      },
      "execution_count": null,
      "outputs": [
        {
          "output_type": "stream",
          "name": "stdout",
          "text": [
            "(20640, 8) (16512, 8) (4128, 8)\n"
          ]
        }
      ]
    },
    {
      "cell_type": "markdown",
      "source": [
        "Model Training"
      ],
      "metadata": {
        "id": "QGOIdaw0iEiu"
      }
    },
    {
      "cell_type": "markdown",
      "source": [
        "XGBoost Regressor"
      ],
      "metadata": {
        "id": "Cz7W0nqhiIWC"
      }
    },
    {
      "cell_type": "code",
      "source": [
        "# load the model\n",
        "model = XGBRegressor()"
      ],
      "metadata": {
        "id": "QI5w4CLFhyv2"
      },
      "execution_count": null,
      "outputs": []
    },
    {
      "cell_type": "code",
      "source": [
        "#training the model with X_train\n",
        "model.fit(X_train, Y_train)"
      ],
      "metadata": {
        "colab": {
          "base_uri": "https://localhost:8080/",
          "height": 248
        },
        "id": "EMM8-waOiqMn",
        "outputId": "14abe134-2653-4dd0-da02-944fda628a19"
      },
      "execution_count": null,
      "outputs": [
        {
          "output_type": "execute_result",
          "data": {
            "text/plain": [
              "XGBRegressor(base_score=None, booster=None, callbacks=None,\n",
              "             colsample_bylevel=None, colsample_bynode=None,\n",
              "             colsample_bytree=None, early_stopping_rounds=None,\n",
              "             enable_categorical=False, eval_metric=None, feature_types=None,\n",
              "             gamma=None, gpu_id=None, grow_policy=None, importance_type=None,\n",
              "             interaction_constraints=None, learning_rate=None, max_bin=None,\n",
              "             max_cat_threshold=None, max_cat_to_onehot=None,\n",
              "             max_delta_step=None, max_depth=None, max_leaves=None,\n",
              "             min_child_weight=None, missing=nan, monotone_constraints=None,\n",
              "             n_estimators=100, n_jobs=None, num_parallel_tree=None,\n",
              "             predictor=None, random_state=None, ...)"
            ],
            "text/html": [
              "<style>#sk-container-id-1 {color: black;background-color: white;}#sk-container-id-1 pre{padding: 0;}#sk-container-id-1 div.sk-toggleable {background-color: white;}#sk-container-id-1 label.sk-toggleable__label {cursor: pointer;display: block;width: 100%;margin-bottom: 0;padding: 0.3em;box-sizing: border-box;text-align: center;}#sk-container-id-1 label.sk-toggleable__label-arrow:before {content: \"▸\";float: left;margin-right: 0.25em;color: #696969;}#sk-container-id-1 label.sk-toggleable__label-arrow:hover:before {color: black;}#sk-container-id-1 div.sk-estimator:hover label.sk-toggleable__label-arrow:before {color: black;}#sk-container-id-1 div.sk-toggleable__content {max-height: 0;max-width: 0;overflow: hidden;text-align: left;background-color: #f0f8ff;}#sk-container-id-1 div.sk-toggleable__content pre {margin: 0.2em;color: black;border-radius: 0.25em;background-color: #f0f8ff;}#sk-container-id-1 input.sk-toggleable__control:checked~div.sk-toggleable__content {max-height: 200px;max-width: 100%;overflow: auto;}#sk-container-id-1 input.sk-toggleable__control:checked~label.sk-toggleable__label-arrow:before {content: \"▾\";}#sk-container-id-1 div.sk-estimator input.sk-toggleable__control:checked~label.sk-toggleable__label {background-color: #d4ebff;}#sk-container-id-1 div.sk-label input.sk-toggleable__control:checked~label.sk-toggleable__label {background-color: #d4ebff;}#sk-container-id-1 input.sk-hidden--visually {border: 0;clip: rect(1px 1px 1px 1px);clip: rect(1px, 1px, 1px, 1px);height: 1px;margin: -1px;overflow: hidden;padding: 0;position: absolute;width: 1px;}#sk-container-id-1 div.sk-estimator {font-family: monospace;background-color: #f0f8ff;border: 1px dotted black;border-radius: 0.25em;box-sizing: border-box;margin-bottom: 0.5em;}#sk-container-id-1 div.sk-estimator:hover {background-color: #d4ebff;}#sk-container-id-1 div.sk-parallel-item::after {content: \"\";width: 100%;border-bottom: 1px solid gray;flex-grow: 1;}#sk-container-id-1 div.sk-label:hover label.sk-toggleable__label {background-color: #d4ebff;}#sk-container-id-1 div.sk-serial::before {content: \"\";position: absolute;border-left: 1px solid gray;box-sizing: border-box;top: 0;bottom: 0;left: 50%;z-index: 0;}#sk-container-id-1 div.sk-serial {display: flex;flex-direction: column;align-items: center;background-color: white;padding-right: 0.2em;padding-left: 0.2em;position: relative;}#sk-container-id-1 div.sk-item {position: relative;z-index: 1;}#sk-container-id-1 div.sk-parallel {display: flex;align-items: stretch;justify-content: center;background-color: white;position: relative;}#sk-container-id-1 div.sk-item::before, #sk-container-id-1 div.sk-parallel-item::before {content: \"\";position: absolute;border-left: 1px solid gray;box-sizing: border-box;top: 0;bottom: 0;left: 50%;z-index: -1;}#sk-container-id-1 div.sk-parallel-item {display: flex;flex-direction: column;z-index: 1;position: relative;background-color: white;}#sk-container-id-1 div.sk-parallel-item:first-child::after {align-self: flex-end;width: 50%;}#sk-container-id-1 div.sk-parallel-item:last-child::after {align-self: flex-start;width: 50%;}#sk-container-id-1 div.sk-parallel-item:only-child::after {width: 0;}#sk-container-id-1 div.sk-dashed-wrapped {border: 1px dashed gray;margin: 0 0.4em 0.5em 0.4em;box-sizing: border-box;padding-bottom: 0.4em;background-color: white;}#sk-container-id-1 div.sk-label label {font-family: monospace;font-weight: bold;display: inline-block;line-height: 1.2em;}#sk-container-id-1 div.sk-label-container {text-align: center;}#sk-container-id-1 div.sk-container {/* jupyter's `normalize.less` sets `[hidden] { display: none; }` but bootstrap.min.css set `[hidden] { display: none !important; }` so we also need the `!important` here to be able to override the default hidden behavior on the sphinx rendered scikit-learn.org. See: https://github.com/scikit-learn/scikit-learn/issues/21755 */display: inline-block !important;position: relative;}#sk-container-id-1 div.sk-text-repr-fallback {display: none;}</style><div id=\"sk-container-id-1\" class=\"sk-top-container\"><div class=\"sk-text-repr-fallback\"><pre>XGBRegressor(base_score=None, booster=None, callbacks=None,\n",
              "             colsample_bylevel=None, colsample_bynode=None,\n",
              "             colsample_bytree=None, early_stopping_rounds=None,\n",
              "             enable_categorical=False, eval_metric=None, feature_types=None,\n",
              "             gamma=None, gpu_id=None, grow_policy=None, importance_type=None,\n",
              "             interaction_constraints=None, learning_rate=None, max_bin=None,\n",
              "             max_cat_threshold=None, max_cat_to_onehot=None,\n",
              "             max_delta_step=None, max_depth=None, max_leaves=None,\n",
              "             min_child_weight=None, missing=nan, monotone_constraints=None,\n",
              "             n_estimators=100, n_jobs=None, num_parallel_tree=None,\n",
              "             predictor=None, random_state=None, ...)</pre><b>In a Jupyter environment, please rerun this cell to show the HTML representation or trust the notebook. <br />On GitHub, the HTML representation is unable to render, please try loading this page with nbviewer.org.</b></div><div class=\"sk-container\" hidden><div class=\"sk-item\"><div class=\"sk-estimator sk-toggleable\"><input class=\"sk-toggleable__control sk-hidden--visually\" id=\"sk-estimator-id-1\" type=\"checkbox\" checked><label for=\"sk-estimator-id-1\" class=\"sk-toggleable__label sk-toggleable__label-arrow\">XGBRegressor</label><div class=\"sk-toggleable__content\"><pre>XGBRegressor(base_score=None, booster=None, callbacks=None,\n",
              "             colsample_bylevel=None, colsample_bynode=None,\n",
              "             colsample_bytree=None, early_stopping_rounds=None,\n",
              "             enable_categorical=False, eval_metric=None, feature_types=None,\n",
              "             gamma=None, gpu_id=None, grow_policy=None, importance_type=None,\n",
              "             interaction_constraints=None, learning_rate=None, max_bin=None,\n",
              "             max_cat_threshold=None, max_cat_to_onehot=None,\n",
              "             max_delta_step=None, max_depth=None, max_leaves=None,\n",
              "             min_child_weight=None, missing=nan, monotone_constraints=None,\n",
              "             n_estimators=100, n_jobs=None, num_parallel_tree=None,\n",
              "             predictor=None, random_state=None, ...)</pre></div></div></div></div></div>"
            ]
          },
          "metadata": {},
          "execution_count": 27
        }
      ]
    },
    {
      "cell_type": "markdown",
      "source": [
        "Evaluation"
      ],
      "metadata": {
        "id": "WVIAIL2Qi75r"
      }
    },
    {
      "cell_type": "markdown",
      "source": [
        "Prediction on training data"
      ],
      "metadata": {
        "id": "KcNqvEpHjGqO"
      }
    },
    {
      "cell_type": "code",
      "source": [
        "# accuracy for prediction on training data\n",
        "training_data_prediction = model.predict(X_train)"
      ],
      "metadata": {
        "id": "-qBFZAuSi1t3"
      },
      "execution_count": null,
      "outputs": []
    },
    {
      "cell_type": "code",
      "source": [
        "print(training_data_prediction)"
      ],
      "metadata": {
        "colab": {
          "base_uri": "https://localhost:8080/"
        },
        "id": "5fNmbxhAjgD1",
        "outputId": "fb10a921-cd19-474b-a24d-5a87867bfc05"
      },
      "execution_count": null,
      "outputs": [
        {
          "output_type": "stream",
          "name": "stdout",
          "text": [
            "[0.6893792  2.986824   0.48874274 ... 1.8632544  1.7800125  0.7565893 ]\n"
          ]
        }
      ]
    },
    {
      "cell_type": "code",
      "source": [
        "# R Squared Error\n",
        "score_1 = metrics.r2_score(Y_train, training_data_prediction)\n",
        "\n",
        "# Mean Absolute Error\n",
        "score_2 = metrics.mean_absolute_error(Y_train, training_data_prediction)\n",
        "\n",
        "print('R Sqaured Error:', score_1)\n",
        "print('Mean Absolute Error:', score_2)"
      ],
      "metadata": {
        "colab": {
          "base_uri": "https://localhost:8080/"
        },
        "id": "MoRXGrVOjlc3",
        "outputId": "5131178c-c66d-4eb8-ea73-462c379037b6"
      },
      "execution_count": null,
      "outputs": [
        {
          "output_type": "stream",
          "name": "stdout",
          "text": [
            "R Sqaured Error: 0.9451221492760822\n",
            "Mean Absolute Error: 0.1919170860794262\n"
          ]
        }
      ]
    },
    {
      "cell_type": "code",
      "metadata": {
        "colab": {
          "base_uri": "https://localhost:8080/",
          "height": 542
        },
        "id": "060b144b",
        "outputId": "d859b6d3-1ab6-457c-fce1-aae7b92d37e8"
      },
      "source": [
        "import plotly.express as px\n",
        "\n",
        "fig = px.scatter(x=Y_test, y=test_data_prediction_tuned, labels={'x':'Actual Price', 'y':'Predicted Price'}, title='Actual Price vs Predicted Price (Tuned Model)')\n",
        "fig.show()"
      ],
      "execution_count": 10,
      "outputs": [
        {
          "output_type": "display_data",
          "data": {
            "text/html": [
              "<html>\n",
              "<head><meta charset=\"utf-8\" /></head>\n",
              "<body>\n",
              "    <div>            <script src=\"https://cdnjs.cloudflare.com/ajax/libs/mathjax/2.7.5/MathJax.js?config=TeX-AMS-MML_SVG\"></script><script type=\"text/javascript\">if (window.MathJax && window.MathJax.Hub && window.MathJax.Hub.Config) {window.MathJax.Hub.Config({SVG: {font: \"STIX-Web\"}});}</script>                <script type=\"text/javascript\">window.PlotlyConfig = {MathJaxConfig: 'local'};</script>\n",
              "        <script charset=\"utf-8\" src=\"https://cdn.plot.ly/plotly-2.35.2.min.js\"></script>                <div id=\"5688688b-0ae0-47a9-9bbb-3f0b9e4d8d0a\" class=\"plotly-graph-div\" style=\"height:525px; width:100%;\"></div>            <script type=\"text/javascript\">                                    window.PLOTLYENV=window.PLOTLYENV || {};                                    if (document.getElementById(\"5688688b-0ae0-47a9-9bbb-3f0b9e4d8d0a\")) {                    Plotly.newPlot(                        \"5688688b-0ae0-47a9-9bbb-3f0b9e4d8d0a\",                        [{\"hovertemplate\":\"Actual Price=%{x}\\u003cbr\\u003ePredicted Price=%{y}\\u003cextra\\u003e\\u003c\\u002fextra\\u003e\",\"legendgroup\":\"\",\"marker\":{\"color\":\"#636efa\",\"symbol\":\"circle\"},\"mode\":\"markers\",\"name\":\"\",\"showlegend\":false,\"x\":[2.787,2.076,0.967,3.538,3.905,3.088,2.813,0.675,0.99,2.822,2.688,1.631,3.459,0.863,3.53,0.672,1.125,2.443,1.591,1.449,1.625,5.00001,1.525,1.043,1.25,0.673,3.871,0.872,2.75,1.006,1.788,1.692,4.6,1.363,0.658,2.66,2.063,1.463,0.509,1.618,1.412,1.567,0.685,5.00001,1.969,1.92,3.365,5.00001,2.0,1.475,0.944,1.365,0.578,0.625,2.833,3.3,2.2,1.722,3.1,1.524,0.905,5.00001,2.444,2.229,5.00001,1.726,1.596,1.865,2.865,2.165,1.405,3.49,1.274,4.436,1.738,3.15,1.818,3.5,1.5,2.458,0.608,1.571,1.728,1.991,3.691,0.867,1.35,3.967,2.479,3.553,0.55,2.846,1.214,0.804,3.587,1.573,1.286,0.74,2.512,1.583,4.5,2.272,0.806,2.891,2.508,2.105,2.954,1.089,1.426,2.679,2.64,3.808,1.479,0.947,1.565,2.333,2.18,2.545,2.773,1.516,2.15,1.577,1.073,5.00001,1.539,1.625,3.236,0.813,1.658,2.667,2.647,1.934,3.864,1.821,2.102,1.862,2.272,1.333,1.139,5.00001,0.795,2.586,1.875,3.413,2.305,5.00001,2.554,1.82,4.773,5.00001,4.125,1.726,1.464,5.00001,1.675,1.359,2.75,1.08,1.717,1.103,2.375,2.905,0.993,0.803,1.981,1.844,2.33,2.281,0.788,1.641,1.152,1.808,2.798,1.814,2.113,3.977,0.55,0.59,3.333,3.5,3.559,1.706,0.968,2.527,0.859,4.808,1.812,2.975,5.00001,1.524,1.0,0.948,5.00001,2.432,2.472,0.415,1.698,1.79,5.00001,2.521,0.949,1.183,3.1,1.646,4.555,3.5,0.7,3.927,0.715,4.409,1.184,1.69,1.53,1.709,3.108,2.688,5.00001,1.625,0.668,2.188,1.456,3.825,1.925,4.0,0.982,3.0,1.381,3.05,1.805,1.807,1.695,1.608,1.856,1.339,5.00001,2.456,2.904,0.619,2.765,4.113,1.175,3.08,1.592,0.691,1.543,0.934,2.292,2.667,1.475,1.516,1.824,1.594,2.399,1.214,2.199,2.178,1.935,1.493,2.131,3.556,1.637,1.628,2.358,1.736,1.299,3.39,0.792,1.463,2.5,1.42,0.798,5.00001,4.054,2.772,2.433,1.524,0.632,3.417,1.013,1.715,2.326,5.00001,2.695,1.827,1.869,2.634,2.1,1.911,4.0,3.155,1.444,1.125,4.964,1.153,2.833,2.224,0.912,1.328,2.479,1.152,1.2,1.262,0.64,2.659,4.871,5.00001,4.667,4.097,3.81,4.05,4.025,2.407,1.324,3.14,2.153,3.394,1.907,1.446,1.573,2.051,2.481,1.755,1.631,1.161,1.875,2.247,1.75,1.358,2.26,1.856,2.388,0.779,3.5,1.563,1.298,3.091,2.397,3.191,1.265,2.369,1.63,1.75,1.14,3.056,1.432,0.724,4.364,1.538,0.943,4.357,4.912,1.747,1.482,0.825,1.095,1.426,1.462,1.185,1.441,2.405,3.936,1.341,0.421,0.463,0.99,0.617,1.604,1.727,0.834,3.528,3.0,1.356,2.544,1.468,2.372,2.5,1.449,0.76,1.186,2.389,3.9,0.528,0.731,1.583,1.581,2.296,2.348,4.333,1.467,1.118,1.775,2.458,2.224,3.543,1.225,1.148,1.269,1.656,1.577,2.833,2.098,1.972,2.917,0.78,2.38,1.598,2.438,2.444,2.616,1.496,0.632,0.978,2.229,1.99,2.081,1.429,0.859,0.55,5.00001,1.352,3.607,2.746,4.302,1.911,0.731,0.63,3.13,0.765,2.156,2.472,4.743,2.909,5.00001,1.351,1.948,0.868,1.288,2.328,2.473,1.738,3.74,1.375,2.984,2.199,2.211,2.989,0.818,1.188,2.233,2.328,2.161,1.639,1.243,1.393,1.44,1.85,1.175,1.075,0.483,3.01,0.933,2.274,1.457,0.921,1.008,1.933,1.446,1.625,1.968,1.927,2.339,0.648,1.66,0.813,2.133,0.773,5.00001,0.861,0.95,5.00001,2.5,1.608,1.5,2.375,4.148,1.412,2.453,0.633,0.691,1.172,1.273,2.852,1.315,0.842,1.594,2.684,2.647,2.438,3.106,1.373,0.652,1.676,3.61,0.69,0.544,2.875,2.185,2.123,2.949,2.135,2.29,2.707,1.607,5.00001,1.831,2.402,2.735,5.0,5.00001,2.449,1.875,0.95,0.67,1.457,0.486,5.00001,1.461,2.815,1.52,4.01,0.904,1.705,1.651,1.748,0.858,1.307,2.013,1.174,2.794,2.125,2.52,2.844,0.942,2.674,0.6,2.046,2.701,0.858,0.528,0.974,1.405,2.322,1.133,3.614,0.777,2.0,1.398,3.44,5.00001,1.284,0.737,2.575,2.065,0.531,2.385,3.316,1.083,2.541,4.347,2.803,0.784,1.74,1.125,0.746,2.148,1.373,2.043,1.708,3.504,2.119,0.927,1.775,2.306,5.00001,1.068,3.374,2.58,2.542,2.797,1.625,0.964,2.291,0.85,2.046,2.541,0.859,1.142,1.007,1.019,1.308,1.313,1.548,1.5,3.013,5.00001,1.568,0.729,1.375,1.223,1.914,2.852,2.545,1.141,2.358,1.163,3.5,2.425,1.431,0.792,1.125,1.815,0.983,1.913,1.392,0.967,2.463,2.619,1.513,1.75,0.543,1.582,1.402,1.75,1.279,1.805,2.374,1.26,0.725,0.945,2.89,1.346,2.135,2.38,2.229,1.896,1.353,2.335,5.00001,1.941,1.646,1.651,1.336,4.099,2.313,1.851,1.63,1.213,1.057,2.188,1.46,4.569,3.953,2.469,1.303,0.719,1.364,1.423,1.016,0.687,1.096,3.051,1.745,0.935,1.154,1.313,3.4,3.485,0.481,1.316,2.768,1.379,3.003,2.821,1.138,1.234,1.544,1.445,0.66,1.273,1.72,1.563,3.862,5.00001,0.581,5.00001,1.0,1.696,1.903,0.957,1.827,2.421,0.669,2.13,1.382,2.837,2.356,2.667,1.575,0.678,2.298,1.533,3.261,1.986,2.1,0.762,3.783,1.786,1.24,2.858,1.764,0.864,1.836,2.288,2.006,1.976,1.714,2.326,2.328,0.753,2.133,1.651,1.236,1.753,1.161,3.424,1.353,0.855,1.649,4.39,0.541,5.00001,3.5,2.099,0.672,3.063,1.883,0.498,1.434,0.927,1.711,2.448,1.57,1.599,0.706,1.356,1.707,5.0,1.654,0.475,1.054,0.554,1.213,3.405,1.625,2.083,2.034,2.558,1.8,1.875,3.255,5.00001,1.58,2.321,0.73,5.00001,1.042,0.866,1.849,5.00001,1.875,5.00001,1.967,1.894,2.307,1.347,1.943,0.669,1.47,1.432,0.878,2.5,2.959,1.519,0.714,3.422,5.00001,0.699,3.021,1.779,1.709,1.483,3.069,1.826,0.735,4.125,1.433,1.347,5.00001,2.231,1.706,1.862,1.941,2.583,3.639,4.063,1.575,2.438,1.167,1.134,0.658,1.088,2.671,1.188,0.882,0.747,5.00001,1.659,3.139,4.0,5.00001,1.289,3.337,4.007,1.963,1.645,0.65,5.00001,0.9,1.188,2.442,3.723,1.272,1.125,2.383,1.833,2.356,2.335,1.375,3.588,1.375,1.585,2.089,1.899,1.381,0.559,0.958,1.003,2.494,5.00001,1.118,1.667,1.525,2.386,0.991,2.343,3.979,2.861,5.00001,3.387,1.115,3.75,2.265,1.289,1.298,1.26,2.201,1.764,1.875,4.0,1.963,0.727,1.265,4.466,3.288,5.00001,1.655,2.5,2.289,1.469,2.159,5.00001,3.477,0.793,1.375,3.169,0.976,1.412,0.75,3.188,3.824,0.59,2.079,2.209,1.871,1.808,0.938,1.489,2.789,1.289,5.00001,2.581,2.923,2.574,1.307,2.662,0.508,2.743,2.239,2.605,1.791,2.613,0.876,1.229,5.00001,2.639,1.5,2.929,1.203,1.185,2.235,3.325,1.755,1.292,2.268,0.879,1.92,2.25,1.784,1.927,3.647,2.419,3.5,2.889,1.123,3.85,2.495,4.048,1.416,1.671,3.149,1.702,2.37,1.44,2.025,1.226,0.675,1.5,0.888,4.504,2.119,1.576,1.571,1.125,5.00001,1.781,1.913,1.75,3.238,0.427,3.648,0.633,2.276,4.714,1.185,0.625,5.00001,1.475,1.369,0.675,1.264,0.738,3.368,1.458,1.282,2.674,0.966,1.801,2.142,1.37,3.031,1.417,0.657,1.342,1.2,0.609,3.458,1.167,2.053,1.678,1.844,1.702,1.714,2.221,3.0,2.632,1.318,0.889,2.847,0.921,1.839,1.448,3.667,1.958,0.943,1.01,2.929,2.069,0.582,1.313,0.467,2.791,2.51,1.375,2.182,0.965,2.88,2.893,1.554,2.621,0.661,1.728,2.206,1.486,4.44,5.00001,2.225,2.258,1.125,2.841,1.602,0.475,4.147,0.557,2.006,3.5,1.918,1.853,4.231,1.828,1.076,4.364,2.335,0.869,2.701,1.587,1.61,1.236,1.724,2.049,3.379,1.453,0.574,1.568,0.591,1.548,1.234,3.478,2.72,0.761,1.658,1.933,5.00001,2.246,0.771,2.021,2.693,0.795,2.399,1.875,1.397,0.727,1.011,3.313,2.728,3.483,2.207,1.951,0.759,1.818,1.903,1.516,5.00001,3.5,1.565,3.549,1.271,0.87,2.445,1.45,0.851,2.394,0.778,1.93,1.928,1.984,2.238,2.134,1.918,2.07,1.018,1.997,2.13,0.987,1.572,5.00001,1.207,1.646,3.596,1.625,2.144,2.427,1.865,1.247,0.724,1.03,1.545,2.58,2.198,1.58,2.188,2.425,1.075,1.61,0.62,2.349,0.533,1.625,1.185,0.953,4.269,0.808,3.946,1.113,1.137,0.55,1.636,3.194,1.581,2.616,2.582,1.114,1.625,1.663,2.368,2.294,1.68,0.996,4.125,1.054,2.215,4.083,1.813,2.033,4.699,1.462,2.574,0.953,0.908,4.541,5.00001,0.872,2.743,3.313,2.094,0.14999,1.688,1.966,0.807,3.083,1.345,1.176,2.01,1.011,0.576,3.083,1.932,3.897,1.5,3.439,0.956,1.921,1.958,4.265,5.00001,5.00001,0.804,0.745,2.546,2.177,1.306,0.52,1.908,1.963,0.847,2.556,0.916,1.643,2.279,2.654,2.665,1.691,0.846,2.362,1.041,1.752,5.00001,0.668,1.769,1.564,5.00001,5.00001,0.854,1.192,2.306,1.102,5.00001,1.894,0.635,2.05,2.048,1.911,1.926,1.45,1.398,5.00001,4.264,0.598,5.00001,3.111,1.328,0.786,1.356,1.652,0.453,4.227,0.488,0.612,2.134,1.18,2.842,2.256,2.42,1.784,1.559,3.419,4.411,1.426,2.317,2.318,2.18,1.574,1.375,3.766,3.273,1.753,1.119,1.518,1.013,1.73,1.132,0.978,1.61,1.116,0.911,3.074,1.676,2.733,0.928,0.654,2.044,0.839,0.964,0.827,1.063,1.683,3.52,4.163,1.119,1.283,2.063,2.314,0.55,2.132,3.312,1.176,0.71,2.175,0.535,1.504,0.546,2.621,1.792,1.011,2.122,0.591,2.0,2.738,2.439,0.698,0.875,1.43,0.775,2.675,0.936,1.875,1.688,0.988,3.294,0.94,3.813,0.862,2.072,2.117,2.174,1.607,0.72,1.021,1.2,1.375,0.721,2.81,1.286,4.123,1.036,1.801,2.39,0.714,1.105,0.631,2.878,1.549,0.624,2.084,2.808,1.907,3.213,5.00001,2.351,1.468,1.663,1.364,1.207,1.875,1.067,3.364,2.983,1.751,2.773,2.237,3.305,1.839,2.707,0.827,2.415,1.555,2.69,0.713,0.857,1.335,5.00001,2.375,3.1,1.552,2.115,1.0,1.56,1.375,4.5,2.871,1.578,1.544,2.476,2.639,1.406,2.623,1.113,3.259,3.667,0.988,1.923,1.909,1.594,1.022,0.889,2.714,0.543,0.54,3.44,1.572,1.714,3.167,3.754,0.506,1.999,2.184,1.813,0.917,2.695,5.00001,1.962,2.107,0.649,3.767,1.533,1.098,0.656,3.316,3.978,5.00001,2.012,2.333,2.895,2.392,0.525,1.663,1.989,0.896,4.87,1.585,1.582,1.565,2.865,2.365,1.306,5.00001,0.471,1.625,1.909,1.434,1.891,1.753,1.624,2.25,1.292,1.708,1.354,3.5,2.424,1.464,1.067,1.508,1.261,0.903,2.939,1.606,3.5,5.00001,2.356,1.388,0.906,1.555,2.865,2.128,2.539,5.00001,1.535,3.382,2.776,2.717,0.953,2.682,0.857,1.739,1.125,1.125,1.931,1.631,3.388,2.438,1.394,3.507,1.855,1.607,2.75,1.847,1.156,1.644,1.6,1.648,0.623,1.768,1.322,1.538,4.976,5.00001,3.444,2.16,1.779,3.06,5.00001,5.00001,1.676,0.913,2.466,1.719,1.344,3.736,1.853,2.762,3.292,1.388,4.392,1.226,3.801,1.027,0.762,2.25,0.526,1.204,3.247,1.313,1.137,1.325,2.25,2.254,1.344,1.595,1.167,1.047,0.831,1.125,1.602,0.969,2.177,3.259,4.111,2.567,4.0,5.00001,1.77,0.802,2.865,1.328,0.65,1.139,2.836,1.786,5.00001,1.625,2.683,3.226,1.578,1.681,2.25,1.264,0.875,1.935,1.818,2.347,1.44,1.625,2.027,1.938,5.00001,0.725,0.918,2.549,2.75,1.211,1.549,1.657,1.938,1.791,1.168,5.00001,5.0,3.475,1.693,0.478,5.00001,3.481,3.404,1.539,0.643,1.034,2.75,5.00001,1.998,1.594,0.555,1.119,0.675,4.131,0.727,2.346,0.979,1.182,1.716,1.203,1.0,2.03,2.032,1.893,4.029,1.21,2.173,2.73,1.75,3.228,1.416,1.281,2.341,1.728,5.00001,0.698,3.392,2.265,1.917,1.792,1.689,5.00001,3.205,1.115,0.936,2.826,3.278,2.118,2.762,0.576,2.217,1.681,3.964,0.703,4.827,1.36,3.229,0.972,2.211,0.562,1.821,0.917,0.875,5.00001,4.388,1.504,1.599,0.74,0.943,2.271,0.526,1.827,2.587,1.268,0.803,1.593,1.525,4.592,3.692,0.855,1.464,0.945,1.857,1.268,1.52,0.786,1.854,1.288,5.00001,1.956,1.865,5.00001,3.556,1.75,5.00001,5.00001,0.585,0.756,1.233,1.875,1.781,1.036,3.261,5.00001,1.85,1.449,2.327,0.608,3.202,1.58,0.684,1.696,5.00001,1.59,0.825,2.552,1.059,3.408,0.952,1.027,2.781,2.407,5.00001,2.75,0.893,5.00001,2.122,1.035,1.833,1.177,0.911,3.656,3.569,2.081,1.772,0.865,2.735,2.25,3.539,1.525,2.345,0.884,1.192,1.234,2.054,1.713,4.125,1.182,1.341,2.672,2.086,2.623,0.653,1.563,1.704,2.563,1.889,0.961,0.675,2.542,1.188,0.79,1.456,1.375,0.934,2.3,1.778,1.23,3.409,1.142,1.553,5.00001,2.221,2.028,5.00001,3.074,1.857,2.613,3.0,1.917,2.405,5.0,0.867,1.911,1.896,2.15,1.905,1.448,2.31,2.714,2.44,1.964,1.741,2.904,2.669,0.713,1.471,1.857,1.109,5.00001,1.291,0.474,0.743,3.5,1.598,2.783,0.942,1.139,2.603,1.842,0.617,2.576,3.63,0.582,0.943,2.718,0.967,1.86,2.017,1.665,2.563,2.706,1.783,1.499,2.096,4.159,1.744,5.00001,5.00001,1.168,1.798,1.195,2.713,0.84,2.308,5.00001,1.795,1.319,1.163,1.214,0.955,2.175,1.849,1.102,0.697,5.00001,3.0,2.327,1.75,0.624,2.312,1.629,3.597,1.75,5.00001,1.889,1.232,0.906,2.94,0.85,0.854,0.438,0.56,0.857,1.434,4.538,1.205,3.596,1.227,1.918,2.953,2.094,1.061,2.357,0.932,1.701,1.919,0.969,3.423,2.095,4.864,1.565,2.594,4.5,4.125,1.506,3.5,1.806,1.343,0.95,1.089,0.895,1.826,2.312,0.926,2.233,1.32,1.017,1.909,1.113,2.75,1.642,1.156,3.287,2.876,0.594,3.162,1.679,1.917,1.091,5.00001,0.673,2.018,1.831,0.934,2.075,3.78,1.488,3.804,1.394,2.663,0.495,5.00001,4.112,2.605,1.89,1.073,2.667,3.559,0.66,2.247,1.606,1.554,2.527,4.776,1.304,0.739,2.899,2.801,2.313,1.31,1.833,1.955,1.786,1.383,1.936,2.508,1.659,0.743,2.854,1.9,4.107,1.375,0.906,1.25,1.907,0.901,2.208,2.406,1.127,0.689,1.994,1.5,1.266,1.125,2.212,3.011,2.875,1.245,1.622,0.938,1.097,1.542,1.097,1.929,2.041,1.75,1.653,1.578,1.531,1.04,2.074,3.609,0.859,0.916,2.403,2.171,1.977,3.718,1.601,0.774,0.951,5.00001,1.321,0.655,3.415,1.019,1.576,1.869,1.635,4.13,1.426,4.3,4.833,1.719,3.661,2.311,2.098,1.286,1.542,1.523,2.199,1.608,1.944,4.616,0.915,2.393,0.613,1.817,1.108,1.614,4.25,2.538,1.563,0.771,5.00001,0.918,4.922,2.028,2.217,5.00001,1.712,3.185,2.108,1.356,2.815,2.042,1.294,1.325,1.719,3.487,0.783,2.502,3.178,2.559,2.75,0.55,1.5,1.928,0.958,1.625,1.648,4.392,2.798,5.00001,1.996,2.541,2.636,4.896,3.342,0.904,0.612,2.559,1.354,3.422,1.544,2.511,1.545,2.637,2.045,0.788,1.094,1.791,1.08,1.477,1.442,1.063,4.554,1.165,3.0,3.969,1.868,4.062,2.15,1.104,2.27,1.659,1.438,3.404,0.737,1.669,1.609,1.909,2.379,5.00001,5.00001,1.375,0.175,2.413,3.476,2.613,2.667,1.925,3.229,3.106,2.839,0.709,2.586,1.612,1.632,1.362,1.583,1.005,1.596,0.792,3.527,5.00001,2.984,2.618,2.988,2.266,1.849,3.086,2.228,2.3,2.561,4.286,0.734,1.695,2.875,0.915,0.677,0.972,0.723,2.494,1.722,3.147,1.773,0.856,3.318,3.545,0.909,4.188,1.406,0.869,1.923,2.978,2.83,1.0,1.336,2.118,2.373,5.00001,0.813,1.509,3.087,1.905,0.668,3.892,1.507,3.307,2.586,5.00001,0.875,0.57,1.031,1.789,2.738,2.132,0.58,1.279,1.569,3.625,1.221,4.068,1.155,1.782,3.467,1.582,0.95,3.5,1.163,1.865,2.896,2.333,0.896,2.155,1.875,2.705,1.837,1.517,1.428,1.246,1.471,5.00001,0.576,0.679,2.182,1.115,1.984,1.555,1.782,1.795,1.063,2.346,2.592,3.844,0.725,1.554,0.693,2.205,1.088,1.668,0.573,3.119,2.109,0.766,3.103,2.848,2.237,1.754,1.485,0.926,1.331,4.956,1.951,3.563,2.148,2.674,2.423,3.153,3.208,2.685,5.00001,5.00001,1.406,1.681,3.334,1.525,2.298,0.748,2.44,1.019,2.212,0.52,1.364,2.688,0.702,3.277,3.192,1.838,1.379,0.679,2.154,5.00001,1.165,2.932,1.187,1.838,2.778,4.125,1.143,3.079,0.675,5.00001,1.625,1.45,2.051,1.342,3.484,1.731,2.788,2.168,1.93,0.789,1.892,3.206,2.388,4.955,0.862,3.5,1.31,1.821,2.137,1.582,3.979,2.422,1.825,1.135,0.886,2.208,0.847,1.632,1.313,3.429,0.831,1.733,1.083,1.688,2.575,4.108,1.627,1.488,1.375,2.461,3.727,0.934,0.816,0.905,1.355,5.00001,5.00001,1.406,2.712,0.893,3.02,1.046,0.719,0.73,0.914,2.294,1.325,2.206,1.063,1.697,0.628,0.85,1.097,0.869,1.411,2.656,1.665,2.494,3.068,1.522,1.979,2.193,1.759,2.607,0.828,0.875,1.635,3.5,3.3,1.926,0.942,3.453,3.527,1.589,2.549,1.771,1.634,3.354,2.344,4.637,1.375,1.094,0.718,1.898,1.429,2.678,1.176,1.382,1.841,2.792,1.813,2.019,2.096,1.025,1.625,0.516,1.407,1.842,0.948,1.311,0.802,2.25,2.555,1.99,5.00001,1.74,2.481,2.403,2.269,0.439,0.814,1.198,2.706,1.376,1.372,2.027,1.918,2.25,5.00001,1.133,2.77,2.413,1.833,1.711,1.955,0.555,3.403,2.352,1.557,3.01,1.682,1.639,2.725,3.115,0.833,1.016,5.00001,1.589,5.00001,1.813,2.406,2.293,2.326,1.958,2.25,1.55,4.574,1.875,2.693,2.894,1.281,2.563,4.853,0.938,1.746,1.401,2.155,1.661,3.238,1.538,0.517,1.708,1.885,1.891,1.05,2.0,1.558,0.813,0.908,3.107,1.864,3.547,1.625,2.913,5.00001,2.06,1.583,3.011,2.75,4.954,1.523,2.037,3.714,1.375,0.753,1.464,2.368,1.074,2.209,1.701,1.367,5.0,5.00001,1.792,0.712,1.073,1.469,0.637,0.798,0.837,1.057,0.89,4.251,1.595,2.447,0.912,1.683,2.725,1.987,1.734,3.188,0.857,3.663,5.00001,5.00001,0.654,2.681,1.118,5.00001,3.677,2.993,0.669,2.171,1.052,3.5,1.622,1.655,0.992,2.277,1.621,3.189,1.615,1.485,0.875,5.0,1.452,2.624,1.108,1.569,2.875,1.055,5.00001,1.482,0.425,3.077,1.78,5.00001,5.00001,4.528,1.056,2.089,1.393,2.273,0.711,2.849,0.978,1.038,1.7,0.62,1.114,3.268,0.813,1.919,2.382,2.404,5.00001,4.35,1.181,1.448,0.523,2.242,1.625,3.728,2.677,3.025,1.375,2.61,1.25,2.643,4.93,1.908,0.743,0.483,2.731,3.267,1.615,2.462,2.132,1.357,2.535,1.228,1.154,0.936,2.665,1.902,1.583,1.207,1.479,3.385,0.64,1.875,0.498,0.814,1.228,3.5,0.67,2.659,1.607,1.538,2.918,2.109,1.538,3.451,1.886,1.875,3.981,1.214,0.786,1.616,1.584,4.224,1.649,5.00001,1.094,4.393,1.948,0.924,2.386,1.14,2.125,0.833,1.781,3.93,1.417,0.868,1.848,3.213,0.874,0.894,1.426,2.61,3.154,2.189,3.052,3.28,2.285,1.475,0.919,0.388,2.664,1.857,5.00001,1.438,2.337,2.323,2.258,1.647,1.41,0.714,1.108,3.59,1.75,4.153,0.721,1.154,0.845,3.396,0.786,1.387,1.705,2.534,2.141,3.277,5.00001,0.95,3.49,3.8,0.675,1.653,1.356,4.611,2.52,2.972,1.689,1.347,1.026,2.894,1.778,1.625,1.952,2.484,2.47,1.433,5.00001,0.789,1.505,1.202,3.483,4.234,0.676,1.628,2.761,1.387,1.421,5.00001,3.207,1.594,0.766,0.561,0.62,2.276,1.28,2.008,2.641,0.718,2.641,3.407,1.643,1.782,3.422,1.884,2.559,1.654,1.543,2.58,3.406,1.288,1.193,2.718,3.677,2.349,3.615,2.327,0.813,2.2,1.929,0.74,1.88,3.881,1.505,2.194,3.197,0.964,0.943,1.878,0.882,2.202,5.00001,0.63,1.188,2.772,1.578,2.625,1.875,2.182,2.56,2.375,3.502,5.00001,2.043,2.731,0.659,2.407,0.738,3.044,3.694,5.00001,1.922,3.5,2.941,2.166,1.75,1.236,4.03,1.95,4.04,3.291,0.889,1.836,5.00001,2.781,1.032,0.525,4.277,3.081,2.131,2.273,3.25,0.893,1.576,1.432,1.008,2.482,1.444,2.523,1.32,1.706,1.438,1.76,0.927,0.869,1.059,2.833,2.257,1.356,2.306,2.107,1.066,3.867,0.675,1.549,1.438,5.00001,2.222,0.741,1.161,3.567,1.31,2.078,1.573,2.053,0.993,3.373,2.603,2.387,1.764,0.963,5.00001,0.854,2.316,1.105,2.167,3.683,1.991,1.625,5.00001,1.575,0.661,1.839,1.216,2.883,4.438,0.864,2.111,2.464,1.853,3.37,2.331,2.146,2.885,1.403,4.801,2.152,2.014,1.493,1.28,3.238,2.109,1.148,1.739,0.991,2.677,2.273,1.75,0.736,1.875,2.813,1.438,1.0,1.837,1.5,1.0,1.567,0.701,0.588,2.25,1.217,1.166,1.495,0.928,2.125,3.11,2.23,0.797,1.432,1.268,1.151,1.5,2.649,2.019,1.366,0.43,1.107,1.727,1.495,2.25,1.928,0.903,3.734,2.446,1.917,2.426,2.579,1.042,0.883,0.663,2.259,1.107,1.418,1.858,1.099,0.444,1.948,2.13,2.736,3.07,2.706,2.239,2.373,4.964,0.784,2.381,1.195,1.478,5.00001,3.109,2.523,1.568,3.313,1.653,1.929,5.0,1.393,1.773,4.628,1.75,5.00001,1.042,0.696,1.177,1.761,4.29,1.125,3.742,1.707,1.125,0.982,1.55,1.659,1.64,1.188,1.288,1.102,3.75,0.876,5.00001,1.761,1.392,1.844,5.00001,1.993,5.00001,2.233,1.413,2.197,5.00001,2.28,3.339,2.926,1.313,2.262,2.385,1.331,1.737,2.081,0.713,3.7,1.265,3.24,2.071,0.953,2.278,1.272,4.562,3.285,1.609,1.736,0.884,2.392,1.938,1.529,1.324,5.00001,1.842,3.698,0.717,3.143,1.201,1.104,0.475,1.561,1.625,2.833,1.142,0.803,1.875,2.664,2.188,1.681,1.946,3.139,0.698,1.391,1.656,1.452,1.415,0.835,0.575,1.397,1.125,1.648,3.555,2.023,1.438,4.359,2.75,1.875,1.637,4.17,2.883,1.908,1.115,2.875,1.961,1.65,0.67,2.676,1.397,1.898,1.631,1.456,0.55,4.806,1.911,1.092,1.582,2.13,1.2,1.181,1.938,1.625,1.742,0.985,0.983,3.433,2.514,2.219,3.901,2.61,1.904,2.49,2.782,0.996,0.611,1.625,2.68,2.75,1.956,1.578,2.317,0.481,0.799,1.185,1.679,1.455,1.181,2.044,0.992,1.795,1.391,1.173,0.653,1.628,2.545,0.552,1.18,5.00001,2.504,2.143,1.585,0.847,2.0,1.517,3.088,4.357,0.505,2.333,1.25,4.986,0.6,1.44,3.694,3.068,3.5,5.00001,1.011,2.45,3.401,4.373,1.75,2.616,2.925,1.627,2.813,1.031,3.032,1.825,3.5,0.793,2.947,1.625,2.673,5.00001,0.713,1.975,1.591,1.742,1.851,0.613,1.625,3.058,2.758,2.238,1.875,1.6,1.399,1.71,2.309,2.183,2.25,1.194,1.268,1.625,1.543,1.097,1.055,4.375,2.638,3.454,2.19,2.219,1.139,3.844,0.754,1.669,4.815,1.083,0.769,1.813,0.879,1.854,1.391,1.491,1.75,1.656,0.57,0.815,1.403,0.95,0.847,3.0,2.221,1.942,2.291,2.625,1.134,2.823,2.881,0.458,2.058,1.862,4.778,0.89,0.742,1.458,5.00001,2.225,4.421,0.75,0.869,2.78,3.749,1.931,2.476,2.016,1.378,2.192,1.158,1.808,1.848,3.447,1.563,1.875,0.775,1.987,1.896,1.713,2.25,1.463,2.421,0.73,0.4,2.147,0.94,2.132,2.939,3.809,3.565,3.458,5.00001,1.107,0.504,2.803,2.062,1.917,0.832,1.342,0.971,2.556,0.756,3.796,2.293,1.297,0.972,4.168,4.25,0.948,1.218,1.063,1.879,2.181,1.08,0.7,1.538,0.607,5.00001,1.613,1.0,1.22,5.00001,1.298,0.851,1.414,1.025,1.507,1.955,2.316,0.929,1.96,2.296,4.5,2.896,1.188,1.49,1.857,3.15,3.447,3.617,3.133,2.672,1.57,1.875,2.067,0.75,1.034,4.92,2.663,0.552,2.411,3.183,2.815,3.155,2.231,3.307,0.611,3.48,0.942,2.403,1.07,1.88,1.225,2.48,1.637,3.265,2.825,1.99,3.499,1.431,2.325,1.375,2.598,3.72,2.192,2.0,2.861,1.435,1.588,5.00001,3.0,2.072,0.913,3.692,1.99,5.00001,1.606,1.188,1.031,1.239,5.00001,1.399,1.71,1.029,2.083,5.00001,3.963,3.328,1.449,4.638,1.438,1.66,1.024,1.875,2.038,1.0,1.072,1.327,1.145,0.604,2.821,1.654,0.438,2.214,2.464,1.1,4.461,1.819,1.855,1.975,5.00001,3.587,3.585,1.592,2.478,2.956,2.239,0.993,1.01,3.021,2.414,2.153,2.609,2.371,1.938,1.8,1.643,1.965,1.01,2.481,4.326,2.906,1.741,2.942,1.137,0.819,2.167,4.0,1.141,1.375,2.063,1.857,5.00001,3.512,0.817,2.5,0.936,1.542,2.841,5.00001,4.293,1.358,0.697,1.042,3.781,0.991,1.125,4.359,1.18,0.586,2.058,1.962,2.348,2.349,1.038,2.93,1.313,5.00001,1.27,0.758,1.109,2.4,1.688,1.512,1.917,3.655,1.125,2.328,2.286,0.875,1.907,1.125,2.073,2.065,1.802,1.3,2.51,2.4,1.734,0.846,0.675,1.0,2.961,1.726,4.255,1.97,2.464,0.62,2.264,0.829,2.391,1.301,2.003,1.125,1.633,2.831,2.405,2.105,1.866,1.742,2.267,2.25,0.723,1.85,1.869,0.784,0.968,2.317,2.135,1.306,2.521,1.411,3.929,1.648,2.318,0.488,3.16,1.0,1.653,2.469,0.683,2.365,0.595,2.674,2.189,5.00001,0.963,1.896,2.481,1.837,0.701,2.27,1.254,1.925,1.75,0.952,0.855,1.804,2.318,3.039,1.685,0.815,1.554,1.815,3.609,1.987,1.094,1.584,3.389,0.85,2.601,5.00001,1.297,1.968,1.63,2.636,5.00001,1.094,0.834,0.964,1.629,0.985,0.615,1.867,1.393,0.542,2.8,0.695,3.95,3.5,1.686,1.652,1.575,2.304,1.4,5.00001,1.3,5.00001,2.034,1.55,0.844,1.217,0.96,1.993,0.813,1.448,1.924,1.922,4.452,1.805,1.426,1.306,3.083,0.918,1.054,0.534,3.243,1.235,3.158,2.729,0.586,0.917,1.181,0.79,3.105,1.073,2.817,1.902,1.088,3.535,0.431,2.234,4.75,2.216,1.53,3.5,2.484,3.341,3.391,1.19,1.722,0.56,4.347,2.239,1.694,0.533,2.295,1.586,2.741,1.425,0.956,1.705,3.738,1.247,5.00001,1.366,1.6,0.896,0.963,1.595,2.028,1.446,4.345,5.00001,1.194,2.282,1.227,1.375,2.197,1.292,3.231,5.00001,1.859,2.375,2.029,2.168,4.063,0.964,2.651,0.55,1.607,0.935,1.506,2.443,3.415,1.983,2.489,0.55,0.993,0.689,0.814,2.1,0.747,1.16,1.315,2.73,2.054,1.651,1.612,2.227,0.888,1.132,2.125,3.313,0.559,1.054,3.762,2.12,1.338,1.341,1.443,2.535,5.00001,4.345,3.558,2.039,1.141,1.597,1.913,3.181,1.656,2.566,1.064,2.364,0.707,2.241,2.006,0.959,0.667,4.383,0.932,4.504,1.861,0.544,5.00001,1.206,1.435,3.462,0.592,1.883,5.00001,1.889,3.314,1.98,1.875,1.694,0.967,3.596,0.521,4.553,5.00001,1.039,1.88,2.434,1.671,2.231,2.524,2.345,2.069,3.745,0.853,0.838,5.00001,1.113,5.00001,4.889,2.195,2.063,1.281,1.313,1.84,0.891,2.647,2.654,1.625,2.667,0.663,0.435,1.62,2.313,3.531,1.759,1.595,3.7,1.643,0.704,1.137,0.819,2.633,1.853,1.726,1.981,1.405,0.708,2.208,0.736,0.801,1.06,1.287,2.394,0.84,1.339,1.686,1.83,3.156,3.638,1.514,5.00001,1.183,0.575,1.783,0.9,1.749,5.00001,2.139,3.618,2.688,3.905,1.519,1.526,5.00001,0.579,3.024,2.375,4.604,0.888,2.13,3.331,0.704,2.113,2.669,1.276,1.569,0.973,1.143,4.73,1.75,5.00001,3.467,1.696,2.531,3.964,1.639,3.015,1.78,1.016,3.397,3.722,1.531,1.308,2.414,1.207,3.407,3.611,0.332,0.649,1.875,1.921,1.625,0.548,0.994,2.132,1.445,0.972,1.148,2.175,0.658,4.0,1.525,5.00001,4.5,1.686,0.705,1.875,2.557,1.618,5.00001,0.771,1.025,0.758,2.055,1.364,1.781,2.118,2.457,4.167,1.489,1.664,0.831,1.349,1.884,0.904,2.097,1.625,2.264,0.695,4.7,5.00001,0.846,5.00001,5.00001,3.494,0.6,1.757,5.00001,2.487,3.294,1.591,3.034,0.788,0.815,1.651,2.691,1.713,0.67,5.00001,0.692,4.0,3.123,0.954,3.459,0.788,1.364,0.912,4.429,2.033,1.405,1.403,1.015,2.335,1.625,1.006,0.994,0.729,2.291,1.352,1.375,3.769,0.73,2.395,1.602,2.059,1.38,2.436,2.261,2.188,0.546,2.5,0.947,0.993,3.875,1.307,3.527,1.375,1.994,1.011,1.859,0.738,1.443,2.25,2.713,2.728,4.401,2.25,0.758,2.511,1.45,1.792,0.973,2.286,0.615,2.75,0.98,3.952,1.074,1.125,2.785,2.249,0.799,2.267,2.09,1.181,1.42,2.706,1.4,1.728,1.443,3.267,1.734,0.744,1.379,1.875,1.021,0.916,1.117,1.14,3.949,1.255,1.018,1.476,1.969,0.904,0.875,0.742,1.566,2.093,0.721,4.515,0.625,0.748,4.771,1.35,3.018,3.552,1.663,5.00001,0.948,0.689,1.036,2.342,1.655,2.708,2.75,1.457,3.659,1.506,1.813,1.745,1.639,3.425,2.037,1.984,1.075,1.403,1.535,0.872,2.974,0.861,1.573,1.177,1.655,1.658,2.132,0.715,0.567,2.674,4.409,2.595,0.6,1.561,0.983,5.00001,5.00001,0.953,1.183,1.705,2.307,2.211,3.397,3.247,2.171,2.006,5.00001,1.485,1.343,1.914,1.767,1.392,5.00001,1.135,1.375,1.35,3.355,4.338,0.846,2.283,1.851,2.197,2.122,2.708,2.32,3.211,2.217,4.586,1.337,1.015,1.693,5.00001,1.135,1.382,2.838,1.012,2.072,0.467,2.239,2.79,3.138,1.375,0.993,2.058,3.068,0.89,2.302,2.832,3.369,4.361,2.667,2.841,3.136,3.067,3.335,1.821,3.043,2.449,5.00001,1.301,2.348,0.736,0.871,1.428,1.392,1.076,1.527,0.96,1.468,0.933,1.375,0.828,5.00001,2.994,3.216,5.00001,0.4,1.082,2.835,3.223,1.541,2.905,1.803,2.641,0.903,2.869,2.858,2.73,1.852,1.442,3.004,1.557,0.992,0.3,0.628,0.758,2.93,0.952,1.083,1.607,2.523,0.924,1.125,2.353,0.648,0.903,1.167,2.0,1.84,2.422,0.813,1.603,1.63,3.875,1.447,2.583,1.0,5.00001,1.677,1.797,1.996,0.801,4.464,0.623,0.682,5.00001,1.914,2.387,1.992,3.393,0.871,1.937,1.832,1.375,1.969,2.711,2.419,0.815,3.021,2.369,2.391,1.806,4.319,1.085,0.889,1.617,5.00001,2.264,2.535,0.554,2.25,1.875,2.374,5.00001,3.22,1.813,0.554,0.966,0.996,0.69,1.283,3.5,5.00001,2.405,1.569,0.632,0.999,1.889,0.913,1.667,1.76,2.676,1.7,2.337,4.5,5.00001,0.87,1.125,2.932,1.906,1.585,1.561,1.309,0.872,0.597,1.466,0.566,1.76,0.773,2.354],\"xaxis\":\"x\",\"y\":[2.941478,1.6328167,0.852016,3.8871787,3.8536062,1.9794282,2.673615,1.094348,1.2712466,2.845138,2.175995,1.5952593,4.2173443,0.9269398,2.8814926,0.630051,0.76120436,3.0310714,1.5934117,1.3790368,1.605235,4.9329515,1.3166504,1.335654,1.3992319,0.8726569,3.588845,1.0270596,2.9131663,1.115313,1.7494932,2.3271797,4.4503274,1.5110122,0.59893966,2.2643282,2.29956,2.6907008,0.502875,1.3102648,1.6099052,1.4640319,0.8104772,3.7379127,1.34663,1.8759247,3.6768312,5.314918,2.2007546,1.3472462,0.90695167,1.7128149,0.5345268,0.6419895,3.0853488,4.078204,2.242674,1.6271926,3.6197574,1.4368584,0.95804214,4.680599,1.5597575,1.6289928,3.8541439,1.8230541,2.2117193,1.9158912,2.7838297,1.9475552,2.0071323,3.400703,1.4337627,4.0901318,1.880649,3.5228276,1.4300339,1.9485421,1.5474951,2.4987657,0.55447865,1.5895028,1.7607768,2.0124252,3.998498,0.9244901,1.3899469,3.658156,2.552815,4.7100058,3.3858886,3.6436126,1.4049108,0.91157293,4.417931,1.236381,1.0815796,1.3162705,2.2300682,2.116189,3.428354,1.6632398,1.0085866,3.3033369,1.9928038,2.5126367,2.5945725,1.1825408,1.2668831,3.0645409,2.7010643,3.8547149,1.3388823,1.342236,1.7428496,1.6452566,2.6182294,2.4231627,3.4020338,1.4617164,2.1688435,1.3261704,1.0893378,3.0847557,1.7701228,1.9541129,2.646359,0.70831436,1.8612162,2.845493,2.8208158,1.9431188,3.2360764,1.7772111,2.250913,1.966056,2.248776,1.4574672,1.4298086,4.8840895,0.61629343,2.5275862,2.386375,3.3124843,1.9695481,4.4529705,2.7685668,1.9025264,3.5687993,4.850469,4.328271,1.7519069,1.7075323,5.0020313,1.3217932,1.2659727,1.934113,0.89152974,2.3907893,1.1779084,3.3078253,2.4828658,1.0426803,0.7374366,1.8488896,1.823463,1.8117388,1.4440081,0.7150864,2.188339,1.1569494,1.970486,2.5511837,1.6965518,2.6903963,3.9779522,1.5315015,0.5546212,3.811449,1.4960461,4.2824774,1.5621878,1.1930434,2.5010495,0.8230081,2.6258051,1.8806069,3.1595771,4.3543634,1.4965973,0.95073247,0.9836102,3.7507114,2.2810736,2.8897939,0.51155674,1.5818188,1.4180716,4.311858,2.2723017,1.0863692,1.2767026,3.6947544,1.5155208,4.5702467,2.3862293,0.8740279,4.0433803,0.78269476,3.9416428,1.2903062,2.169119,1.5932531,1.7627468,3.259898,3.23127,2.554951,1.3268089,0.90960175,1.2466455,1.2630037,3.2702827,1.7309676,4.1064887,1.0263352,2.0709019,1.3689326,2.0353966,1.7316202,2.08022,1.9582472,1.6380153,1.7840167,1.2983365,4.518927,2.3822055,2.8777688,0.79832983,3.1591275,3.0055795,1.4843966,2.5598261,1.4684147,0.6014693,1.6435493,0.9233684,2.8490744,3.308746,1.8357153,2.289335,2.4239197,1.7760859,2.5104687,1.388999,2.3173358,2.0731335,1.9196705,1.3729688,2.4068165,3.6008077,1.7117302,1.6391256,2.6510966,1.8338128,1.3703287,3.8742588,0.88312036,1.7871667,2.71343,1.5008308,0.80134416,5.1172924,2.9473937,2.5435247,2.3521955,2.3335454,0.5970878,3.7040284,1.1665283,1.7872448,2.3360815,4.980918,2.926475,2.4370594,2.7034903,2.717831,1.8832936,2.212122,4.2140136,2.9985442,1.50795,2.0846553,3.955877,1.1226844,3.1759367,2.8917692,0.9802601,0.90961593,2.3964677,1.2219563,1.337459,1.4587069,0.6183175,2.8990607,3.9409807,5.350258,4.8288937,3.3515258,3.9800475,4.0327716,3.8578491,2.2854283,1.3378127,3.4233947,2.4508724,2.8637729,1.7937075,1.68768,1.623281,1.9438611,1.9880714,1.8117713,1.7241216,1.2128997,1.3358924,2.6073942,1.4033042,1.2764826,2.3447669,1.8142426,3.8484533,0.85579944,3.3694472,1.6993676,1.5932262,3.5220156,2.618099,3.0232072,1.3043252,2.3344142,1.7435225,2.3623087,1.2435439,3.1952453,1.6103098,0.79026073,3.9042487,1.6064246,0.90106237,4.1213145,4.015046,1.8627758,2.3497763,1.1237512,1.045427,1.7772478,1.258992,1.244194,1.588509,2.1684403,4.683043,1.471822,0.5244615,0.94062245,0.9979512,0.55760366,1.6134564,1.7168881,1.2846707,3.0203207,3.3675852,1.1452805,2.3502252,1.2205765,2.481581,2.492358,1.4769529,1.1060491,1.3456727,2.453025,3.6661067,0.4898158,0.9186116,1.5588373,1.9115441,2.3722746,2.0415328,4.319721,1.7682469,0.8809019,1.7157537,2.9432166,2.1614735,3.7137985,1.678533,1.0152099,1.6867458,2.2404273,1.7097776,3.155241,1.9009398,2.0923357,3.794173,0.87634706,2.555269,1.3175681,3.089477,2.4325652,1.9399842,1.5241557,0.68858105,1.0203422,2.4318168,1.7437065,1.8266478,1.348328,0.8815101,2.3860426,3.6919918,1.2966578,4.253675,3.0653646,4.2495804,2.085639,0.7482523,0.6574054,2.9418125,0.80322534,2.6360588,2.6754308,4.758137,3.5362139,4.796031,1.1707919,1.9555954,0.9987124,1.3107767,1.9123111,2.8337827,1.8081932,4.007005,1.395392,1.9418448,2.2477078,2.1299136,3.038736,0.6784841,1.2369319,2.0975957,1.6959877,2.6039317,1.9016025,1.4179168,1.1148652,1.700372,1.9573755,1.1738027,1.0315206,0.7138057,3.0232148,1.035129,2.1369255,1.2022084,0.91930413,1.7027853,1.9744831,1.4222168,1.9218006,2.5481186,2.000387,3.0092719,0.8864466,1.8444655,0.66568375,1.9556718,0.93041503,5.053948,1.1062827,0.9439759,3.3228729,3.5947325,1.5765703,1.5748912,2.5166473,2.6636324,1.4052287,2.035863,0.80653,0.54771787,1.3524017,1.3947012,2.9545453,1.3814527,0.8606074,1.2782906,2.290952,3.1768613,2.6875412,2.328073,1.6840321,1.0590465,1.7658658,2.7703445,0.8395367,0.6249739,2.6588335,2.934226,2.0993054,3.4147036,2.0703354,2.150501,2.8371325,1.5734035,4.669835,1.8604985,1.9187084,1.8641251,3.9247646,4.2529335,2.3746397,1.8750764,1.6000062,0.74023056,1.4557304,0.5837139,3.1296363,1.6161088,2.5033016,1.7343173,4.047453,1.1718929,1.7386552,1.8721459,2.174093,0.6857356,0.7306067,1.5189766,1.3061649,2.806687,2.5633037,2.2938325,2.9278314,0.7950634,3.1210709,0.5879875,2.4540045,2.6646805,0.9352949,1.0814251,1.4307936,1.4629453,2.4063745,1.1201487,3.5581381,0.75102234,2.0262828,2.0001194,3.6959858,4.87884,1.3656201,0.52112997,2.5524204,2.2210672,0.545846,2.2035103,3.2189956,1.0581048,2.1689653,2.7717807,2.9952645,1.1514803,1.714681,1.4993187,0.8977292,1.500503,1.9771631,2.0449317,1.8058763,3.2491229,1.9199363,0.8349874,1.6976712,2.247273,4.5748906,1.1779054,3.3029313,2.5915344,2.5812764,2.3335257,1.6340317,1.117879,2.1797638,1.1144669,1.896499,2.7937405,0.8944926,1.0853065,1.1811256,1.2322118,1.1855277,1.5338571,1.4820873,1.2752846,3.1939328,4.692719,1.537234,0.903026,2.1631162,1.3668665,2.1441975,3.3414636,2.5244162,1.1775,2.7290502,1.2059975,1.5672243,2.274413,2.1433034,0.8355769,1.0205102,1.9368217,1.030591,2.0070093,1.1349474,1.0314151,1.9183171,2.8999386,1.691196,2.3123786,0.87430763,1.6216711,1.696719,1.4951501,1.1790049,1.5490845,2.2731886,1.458218,1.0336584,0.88429743,2.2086062,1.3557161,2.3915513,2.4609058,2.6368058,1.5319189,1.439867,1.7728164,4.8372483,1.953996,1.4659783,1.6886274,1.2433606,3.9917355,2.2909076,2.6761904,1.6682489,1.2501116,1.2361943,2.5532937,1.8390329,4.7267427,3.5881453,2.1729538,0.91556424,0.5142377,1.7751032,1.8271914,1.043896,0.9518777,1.2743078,2.9521322,3.1855822,1.3288876,1.3287934,2.2813885,3.8301811,3.6635983,0.61029553,1.0931188,2.8565571,1.3415353,2.822788,2.7118707,1.288883,1.3642658,1.7092664,1.6452713,0.76067865,1.2954055,2.1096063,1.644586,3.2223866,4.435509,0.6397071,3.4326408,1.084175,1.6558325,1.9121368,0.85736704,1.861598,1.7012607,0.77917975,2.4928932,1.9409143,3.1290586,2.1121528,2.3664331,0.994011,0.67893946,3.1369355,1.3974253,2.9504943,2.2699547,1.6149576,0.7822477,3.5805864,2.3565497,1.1909213,2.8602715,1.6258473,0.94022566,2.1660588,2.4193444,1.6674403,1.5919365,1.6411386,2.4292188,2.1606026,0.81739753,2.3497982,1.3828484,1.5905914,1.9079297,1.1829401,2.6776586,1.2897503,1.1707814,1.6605189,3.129768,0.58770794,4.0827103,2.4804785,2.2266653,0.6117497,2.4036815,2.0760326,0.49523315,1.5840417,0.9694924,1.9633234,2.6029701,1.7555221,1.808782,0.7251889,1.1925448,1.7412511,4.0964117,1.6047024,0.7653965,1.1126269,0.5898829,1.4884763,4.124108,1.4062424,2.1097343,2.0397885,2.6323032,1.4906173,1.9395416,2.910908,3.443212,1.574695,2.223763,1.0167443,4.7934947,1.0729731,1.1013464,1.9463494,4.22878,1.750318,4.6661515,2.7161338,1.8552438,2.1594112,2.178021,1.7656996,0.5863173,1.3859975,1.1507177,0.9256032,1.0498444,4.0156965,1.6199193,0.9455639,3.1778176,4.3026414,0.9156847,2.7316778,1.2342305,2.0070176,1.7991638,3.4123151,1.6242243,0.83740246,3.580534,1.740867,1.2481712,5.060352,1.6168544,1.697099,1.8916821,2.315387,2.2993696,3.7185495,3.7735326,1.574204,2.8321161,0.97953755,1.04156,0.69906235,1.2168505,2.432249,2.66677,0.8954289,0.81932086,5.0551233,1.9733518,3.0707808,3.4404895,4.3560944,1.2744049,3.2954612,4.2056537,1.6283346,2.081394,0.65756637,4.6822996,1.0833601,2.1738322,1.2890793,3.812568,1.5319277,1.7767985,1.8995576,1.455125,2.702271,1.9238143,1.4913642,4.0830545,1.3615123,1.6081532,2.249864,2.1210165,1.3496245,0.5479439,1.0968741,1.0849723,2.6645873,5.1212,1.3226192,2.2143784,1.0385652,2.6761892,1.1932794,3.4181683,3.0559843,2.5382745,4.447641,3.1144428,1.0043545,3.9969137,1.6834383,1.2528305,1.2557094,1.5592871,2.532415,1.6876335,1.4085805,3.5884604,2.3005795,0.8381469,1.31465,4.0791802,2.3257847,4.2410893,1.647817,2.7584662,2.388054,2.006972,2.2746322,4.589402,3.0514576,0.8642744,1.0496716,3.0667806,1.0354725,1.8044657,1.1277059,2.7780125,3.3750067,0.6059107,1.8248563,2.5079217,1.8035002,1.8616081,1.0258812,1.9661775,3.0376623,0.6833594,5.2699203,2.853452,3.3286064,2.2053735,1.4460943,3.1796057,0.49110368,2.0909562,2.5051868,2.5621037,1.4129921,2.4316573,0.8984102,1.5941255,4.6332846,2.5542607,1.3082371,2.1339622,1.0812612,1.1960809,2.6065128,2.955929,1.9346514,0.7385572,2.2746043,1.1841741,2.014389,2.24077,1.6114624,1.8018485,3.6580598,2.7339413,2.4618719,2.7076888,1.3256351,2.9391198,2.5047781,3.7434485,2.3441868,2.2252786,3.0371356,1.4347291,2.063018,1.5810804,1.6814604,1.1818358,0.8433618,2.3254387,0.8375095,4.5474443,1.9286824,1.3078113,1.7341955,0.7993434,5.197099,2.3311548,2.2727723,1.4572495,3.4517827,0.5951166,3.0388494,0.7603557,2.357498,3.9049797,1.250822,0.87757754,4.8499627,1.3256723,1.0751053,0.62797296,1.0143573,0.9213551,2.169629,1.4732914,1.4479213,2.9741812,1.1194904,2.5532038,2.1732886,1.5754869,2.7062173,1.1660653,0.7304181,1.4810793,1.1707884,0.60530525,3.6641655,1.1379545,2.0977426,2.3602328,2.2151272,1.5255723,1.5207924,2.3967333,3.1548254,2.899008,1.3976663,1.1347644,2.6854436,0.86445194,1.5720415,1.3018464,3.142537,2.9554796,1.0824765,1.0417024,3.7617226,2.1898143,0.70404524,1.6052011,0.54864043,2.6092298,2.6859725,0.75611013,2.3626487,1.1356499,2.5820005,2.2691827,1.7482871,2.8146427,0.71642995,1.7461162,2.1593542,1.5179167,4.3031063,4.6118445,2.2898998,2.771516,1.1512916,3.0393379,2.1910977,1.9442956,4.0756845,1.243153,1.8141924,3.4530594,2.1440916,2.1337566,4.5707545,1.8520356,1.0212653,2.4871325,2.5524752,0.92633927,3.1575305,1.7297591,3.1106308,1.5070455,1.9286963,2.248269,3.8383746,1.1851808,0.4917159,1.7747588,0.5334173,1.5509995,1.1759377,3.2935905,3.1907685,0.70265424,1.8216091,2.1374435,4.433551,2.244626,0.72181153,2.4975967,2.83825,1.0069675,2.428279,1.843537,1.7213666,0.87032413,1.1430967,3.0788186,3.5072203,3.1776783,2.0341196,2.5809827,0.8224159,1.793368,1.9598441,1.392196,3.05735,1.9735466,1.7779218,3.8739886,1.2584203,1.0697361,2.7078888,1.4966813,0.8897333,1.9309524,0.87232,1.7199558,1.7022936,2.6094475,2.7068179,2.3180492,2.174759,1.9615844,2.1559498,2.1610942,1.9283012,1.2412112,1.7123007,4.862844,1.2930614,1.8856549,3.8623965,1.7322226,2.3331585,1.8774254,1.9642568,1.6323795,0.6401124,1.1037546,2.3078728,2.1576176,2.2974474,1.5021744,2.363157,2.2860103,1.2750622,1.8330551,0.7126728,2.1770658,0.6629088,2.3059945,1.1611506,1.0769265,3.422071,0.9463329,4.082251,1.0034945,1.2717011,0.95586884,1.161996,2.7542436,1.3544221,2.4931433,3.4932632,0.9621259,1.3130487,1.5592526,2.3990128,2.2335238,2.6389892,1.157447,3.14367,0.960604,2.61896,3.088317,1.9216349,2.7474608,4.4683657,1.7931664,2.6926177,1.6980015,1.0675769,3.743366,2.9627295,0.8740992,2.923316,3.5184517,2.204097,1.8592743,2.1884825,2.5372202,1.0290987,3.4881833,1.6138835,1.4053907,2.1157565,1.1401275,0.5294332,2.5211403,1.5176528,3.8946726,1.4041222,3.3828988,0.8352056,1.7935753,2.0871038,3.5747085,4.9432425,4.9728875,1.1971253,0.75503623,2.716326,1.9025661,1.3838247,0.56919575,2.0414186,2.2118106,0.55615443,1.8226706,1.399364,1.7898983,2.0609453,3.3029742,2.3929536,1.9747131,1.1846567,2.3441517,1.1762654,1.6513289,5.0506845,0.64391893,2.1754377,1.5548282,4.6832547,5.1086545,1.3822483,0.9981487,1.7256527,1.0928051,4.9427314,2.0070612,0.72824436,2.6636705,2.5587246,2.1735492,2.0311263,1.579755,1.4339943,4.7613735,3.8269393,0.6168374,4.9884176,2.6814995,1.5910244,0.77060634,1.3308876,1.8951066,0.5603314,4.2619443,0.4823368,0.57578695,2.083294,1.1973948,2.6525497,1.5757549,2.5338197,2.2108335,1.6108639,3.8591487,3.6201103,1.4606565,2.3261762,2.4102285,1.8041179,1.8821868,1.6677536,4.2459273,3.1027617,1.7418556,1.2055,1.46371,0.9287231,2.3541539,1.4428389,1.1997458,1.9676781,1.1927003,0.92111796,2.8358066,1.6028534,3.5644982,0.9158343,0.6560378,2.280361,0.7102218,1.0401254,0.8933949,0.64848274,1.9244531,3.2314017,4.250521,1.5867544,1.3862268,2.6663563,2.319794,1.08626,3.0611672,3.3435457,0.8713863,0.75561243,2.418715,0.51939636,1.7539325,0.50723046,2.7107527,1.3662723,1.2411448,2.1744988,0.685563,2.3496912,2.4532778,2.4094057,0.9559379,0.59168446,1.5004307,0.8568819,3.6618736,1.083015,1.8692479,1.731463,1.0497048,3.6296577,1.0714667,3.3730593,0.9016742,1.7942363,1.7998105,2.3010597,0.9342568,0.96089476,1.1115147,1.2920384,3.012986,0.8609208,2.6714358,1.6819314,4.46684,1.0078651,2.0051336,2.4457622,0.8750364,1.1862607,0.7059134,2.9646602,1.0501224,0.7518921,2.1575923,2.5766559,1.752214,3.4833856,4.146485,2.5927684,1.6000261,1.6071347,1.6190343,1.1948131,3.0843942,1.0632056,3.1963704,3.77625,1.8884897,2.6450996,2.2116184,2.5579934,1.8692685,2.6351557,1.0855416,2.3163657,1.8338926,3.3358212,0.8759901,0.9482868,1.9151046,4.5340495,2.3106751,1.472506,1.6724025,2.3290632,2.2066646,1.7708526,1.1473656,3.891631,3.0340374,1.6484942,1.644075,3.120007,2.2652142,1.6874858,2.890156,1.1678476,2.160911,3.5173154,1.1551116,1.8117664,2.1568859,1.6047993,1.089996,1.263123,3.0043278,0.50399697,0.65455616,3.3814888,1.8087177,1.9401826,2.6913881,4.126459,0.8560101,2.3581927,2.1738956,2.105118,1.1544889,2.4717789,4.309961,1.9036868,2.3228369,1.1507853,2.657483,1.6638606,1.3407812,0.7281754,3.2229483,3.76952,4.840187,1.4658304,2.7211568,2.2199593,2.461865,0.73376614,1.1480994,1.9148601,0.94740593,4.769251,2.2621164,1.763339,1.8522037,2.115493,2.2138162,1.2393912,4.904465,0.43616685,2.5423238,1.7715414,1.62458,2.0704796,2.1409009,1.8286858,2.2184167,1.9234623,1.5454892,1.8993042,2.5787842,2.794126,1.220493,1.2503647,1.3809066,1.2780122,0.60682654,3.8495483,1.340776,2.6024535,4.543601,2.2763643,1.3775587,0.78084785,1.7386972,2.119172,1.8910671,1.5843482,4.5246606,1.6461169,3.2189355,3.396434,2.3747149,0.9492708,2.7502499,0.8525639,2.101337,0.89100134,1.3533672,1.7592237,1.7930245,3.2596498,2.1548262,1.6421263,3.7849307,1.900622,1.648847,2.6197696,1.6950934,1.2426192,1.4866285,1.5862023,1.598347,0.89033943,1.7326998,1.7866395,1.8570714,4.3247776,4.8395457,1.9006764,2.21814,1.9529048,3.375946,4.697144,2.57131,2.2592309,1.1178721,2.4097095,1.8782907,1.5769043,3.8383787,2.0064824,3.1059282,3.138636,1.2887301,4.358968,1.0360926,4.238863,1.3889171,0.7807567,2.6328154,0.7906384,1.5683529,3.501359,1.9583508,1.3413701,1.2623081,2.1321933,2.23297,1.1522057,1.5594236,1.1147666,1.2867614,1.2735753,1.1664782,1.4353783,0.75971717,1.9138708,3.712204,3.6085541,2.1954558,4.11388,4.5481467,1.1043987,0.89265704,2.6586807,1.3494349,0.65069205,1.1638274,2.7601852,1.4913052,4.140393,1.5845945,2.2455666,3.3658104,1.6066334,1.7064375,2.7683032,1.1114066,1.9663507,1.9661013,1.8224492,2.7127526,1.6057596,1.229362,2.1374655,1.6952052,4.9335256,0.5692263,0.8573635,2.6683185,2.7675025,1.2126509,1.3044336,1.4974688,2.0936172,1.8765138,1.3089195,2.4293094,3.107827,3.8300076,2.0738196,0.623773,5.202979,3.4437149,3.295157,1.565245,0.7413483,0.83891684,0.7065044,4.7525086,2.2376792,1.3384757,0.43359292,1.0699036,1.0651089,4.8776193,0.83937156,2.01411,1.0299668,1.4579587,1.8537041,0.78403425,1.1176507,2.2947721,2.2707155,1.7458162,3.7754896,1.2287245,2.2841015,2.832756,1.4604992,3.0996552,1.035109,1.3291517,2.1149762,1.8559986,5.181905,0.69719,2.9156673,1.7170087,2.12059,1.9412019,1.8026901,4.54352,3.162795,0.7904713,0.92647374,2.091801,3.6610065,1.515031,2.613168,0.6131596,2.1826906,1.3189667,4.2589498,1.3518292,4.2306232,1.4047173,3.910194,1.5765661,2.1060543,0.7369696,2.0468097,1.0919855,1.3886569,4.6211944,3.6279395,1.5464938,1.5293308,0.72143346,1.3630564,2.210887,0.51551735,1.8404276,2.7632477,1.3908372,0.828918,1.7124244,1.568124,4.5176287,4.030499,1.1112673,1.3050512,1.578932,2.0438876,1.1085489,1.5795884,1.4285635,2.0735273,1.4561819,4.9500885,1.979793,1.9211171,3.9368086,4.027452,1.7912837,5.454215,4.8937416,0.6061862,0.7378388,1.2438277,4.2580166,2.1515322,1.0118322,2.986365,3.7266607,1.7391161,1.4942523,2.340771,0.60763437,3.5786042,1.6721818,0.7737273,1.5087128,4.5380993,1.6789571,1.1588788,2.4259691,1.2432806,3.0193152,1.5434569,1.2553478,2.1408834,3.2651544,5.4304533,2.3211458,0.8792524,5.062061,2.0814211,1.2973886,1.352599,1.3167795,1.2684315,3.510783,3.4500237,2.1456835,1.5000567,1.1101209,2.6230133,2.87003,3.8128061,1.7345294,2.3974283,0.81904185,1.1317947,1.1107069,1.9366438,2.024781,3.8480163,1.232368,1.5924077,2.4108531,2.2996688,3.3537414,0.8288696,2.5010238,1.773449,2.644991,1.9280386,0.82840353,1.0228877,2.547486,1.0410537,0.81271434,1.6335216,1.5581065,0.79342884,2.1541936,1.5178488,1.3314227,3.642479,1.0465604,1.7499269,3.3188322,1.7916713,2.5014591,3.7608593,2.870348,1.5088153,2.5472703,2.0714586,2.4113138,2.1384783,4.2133203,1.2670922,2.2813485,1.8213493,2.051214,1.9668888,1.3506601,2.5774195,2.7354686,2.4913418,1.8240267,1.7015288,2.7549903,1.9850898,0.9034846,1.5971692,2.06004,1.3347768,5.007032,1.1857144,0.58388716,0.90094864,4.216366,1.5134699,2.883994,1.2165738,1.7206379,2.4191961,1.907354,0.6784618,2.799445,4.332842,1.1204332,1.0754796,2.5760384,1.0009888,2.0758126,1.9086146,1.4286445,2.574355,3.0586202,1.7106851,1.9973531,1.8503827,4.3439507,1.839942,5.103981,4.8283753,0.920912,1.6538332,1.1188905,2.7468832,0.9761522,2.1751375,5.191679,1.8787246,1.1687257,1.5041814,1.1501135,0.90016896,2.154734,1.9273738,1.3492322,0.776825,3.6136365,2.260738,3.2137575,1.936343,0.9003356,2.049552,2.083176,3.4429324,1.9542557,5.1274204,2.4372017,1.5281361,0.79349416,2.432925,2.995538,1.0046638,1.0930936,0.6241877,0.97561926,1.5440527,4.288513,1.4708383,3.715167,1.2622992,2.0076883,2.5426965,2.4288948,0.73688745,2.2675526,0.9900023,1.4385427,2.0034883,1.1459872,4.22632,1.9595898,4.8979015,1.7073164,2.1814337,2.4556253,3.8337502,1.8223509,1.6090144,1.988592,1.3906703,1.330408,1.1754407,1.1055499,1.4751034,2.251222,1.1866912,1.8296511,1.3921406,1.3079715,2.9951692,1.8293376,2.5394502,1.5368288,1.3497415,3.338459,2.8788943,0.9943301,3.7815564,1.941979,1.7649019,0.9909959,4.9960127,0.737961,1.8568099,1.7067721,0.9487126,2.2908113,2.4518816,1.507353,3.590499,1.7864677,2.9582043,0.5884261,3.123837,3.7317863,2.881342,2.064059,1.0556997,2.6354241,3.933483,0.65961826,2.355106,2.2165034,2.4696145,2.4604275,4.633851,1.5147864,0.70165974,3.2190185,3.0793812,1.8030326,1.3632797,1.9367169,2.0952344,2.477285,1.4429308,2.0522747,2.5040011,1.8697113,0.62369657,3.3486729,1.8679366,2.665009,2.724303,0.970576,1.2725532,1.8002836,0.99604326,1.2581815,3.0960686,1.2089255,0.6058711,2.7467732,1.5729098,1.1130617,1.1923518,2.4890327,2.6143079,3.4429224,1.0106173,1.8991505,1.01606,1.1681566,1.7318693,1.4340286,1.9711324,2.4612906,2.2567496,1.7423321,1.6722033,1.930068,1.4276599,1.9865353,4.2995358,0.9340762,1.4092613,2.5743108,2.0308719,1.970124,3.7743154,1.7195239,0.736645,0.9530512,4.7172403,1.3611373,0.64761984,3.1147969,1.1960589,1.4609169,1.7116617,1.2715006,3.9768405,1.338698,3.5569522,4.311462,1.5210587,4.0534,2.162108,2.4577107,1.1974605,3.0288637,1.5326699,2.0360355,1.6874524,1.8262197,4.4128146,0.99297076,2.7554307,1.3699933,1.7565422,1.1146188,2.002658,3.9151933,2.9280787,0.99133664,0.83312917,4.456269,0.84432596,4.6614614,1.6878977,2.1105516,4.923888,1.725717,3.200953,2.2579238,1.3887466,2.2695973,1.5740759,1.3903823,1.2971098,1.6617045,3.681837,0.7277272,2.265126,4.0238214,3.1110313,2.9847484,1.0287149,1.1874315,1.9498749,1.1746714,1.2825626,2.271454,4.2132854,3.01921,5.076052,2.1724079,1.856869,2.0165973,1.6044204,3.1316898,1.0909708,0.6364808,2.3935928,1.9919946,3.5944865,1.627899,1.603095,1.3997353,2.674976,2.5866694,0.60879457,1.0187402,1.8350413,1.2633028,1.3038712,1.9638107,1.1975881,3.9677808,1.2581025,3.3097682,3.6644309,1.8725172,3.7479243,1.8764468,0.91552883,2.1968772,1.6564252,1.4253919,4.055987,0.7703251,1.5557504,1.9500247,2.1855483,2.5197935,4.4337544,5.077454,1.393753,2.3648956,2.576814,3.2280734,2.1682658,3.181832,1.757861,3.1664543,2.8208506,3.1903265,0.65086025,2.4301858,1.5630575,1.4946235,1.1956948,1.6521565,1.4301732,1.7307731,0.8246966,3.914187,4.3265257,2.5967162,4.0741444,3.3521059,2.6490178,1.749263,3.3209524,2.0970955,2.5769703,2.3056362,4.045033,0.97663975,1.9926199,2.5647917,0.9309775,0.7145051,1.214438,0.6294053,2.9228337,2.011606,3.0150156,2.2186332,0.57521826,3.400676,3.8210151,1.8237704,4.2675147,1.6419735,1.0151405,2.1308846,2.8732107,2.7129416,0.7488838,1.5307597,1.8694884,2.1870267,4.851797,1.8151064,1.7758957,3.2716005,1.6716117,0.5818405,3.5967789,1.3110232,3.3431342,2.5469406,5.176174,1.1521363,0.6281919,1.4001521,2.4134436,1.978634,2.3521357,0.7605188,1.5000852,1.9669789,4.8010035,1.0034549,4.1182704,1.4093592,1.7097741,3.4656498,1.3379903,1.0001309,3.0202718,1.1477885,2.069958,3.121195,2.570217,0.9505395,2.3145409,1.5848837,2.9101915,1.6584716,1.2798536,1.3834019,1.3562928,1.6258466,4.991294,0.7679561,0.67146623,2.0899549,1.2944673,1.7975417,1.5327506,1.5302588,1.7997551,1.7436975,2.3224857,2.1427126,3.4136443,0.9517924,1.8378257,0.8240441,2.287304,1.1293058,1.8454984,0.5299139,3.3748116,2.5360107,0.80434245,2.1121287,3.1103542,2.1969643,1.7178433,1.7981735,1.0660192,1.4864515,5.057466,1.74385,4.304194,1.9768958,2.1605148,2.5863469,3.209786,2.4984982,2.0213869,3.967165,4.523733,1.4765843,1.3931153,3.4640048,1.1177554,2.305755,0.78618723,2.0387282,1.052257,1.9796053,0.54230654,1.9058402,2.2413473,0.9602328,2.9835196,3.7483175,1.9407939,1.1501096,0.6654954,1.9491228,2.7536519,1.1166495,3.4747722,1.3563315,1.9064615,2.381224,3.1555815,1.2711246,2.7135818,1.8742715,5.029012,1.8198222,1.5395694,2.690536,1.2337574,3.4804883,1.9316981,3.2730162,2.2758384,2.0863516,0.927533,1.2731998,2.8380773,2.4518952,4.1050363,0.7876298,2.9983506,1.7292207,1.7534374,1.8467778,1.7956498,2.5644293,2.015269,1.9752291,1.2644072,0.95323974,2.2370677,0.8384393,1.6863856,2.1244907,3.9071891,1.025773,1.6942109,1.2247896,1.3671643,3.24227,4.489088,1.4752125,1.5718184,2.074768,3.0114474,3.3567934,0.92219144,1.0574001,1.179476,1.5701272,5.0831184,3.5924163,1.177663,2.4390407,1.0208795,2.804171,1.0459361,0.7049653,0.73519516,0.79188335,2.0446572,1.3840284,2.21724,2.2774239,1.4648938,0.7763586,1.0000343,1.2368698,0.9607973,1.3568255,2.587137,1.651449,2.7182593,3.2327697,1.5150635,2.364195,1.9804537,1.3027462,2.441893,1.0467832,2.7000344,2.1718037,2.3249037,3.5935853,1.8219601,0.89626324,3.078453,3.278691,1.3751985,2.414806,2.0536091,1.6950976,2.9219563,2.9440558,5.0859437,1.3475153,1.2512351,0.8729684,1.8786812,1.7405988,2.5123649,1.187857,1.634782,1.814387,2.490317,2.1625369,1.6595833,2.2498078,1.3781414,2.45041,0.5885429,1.1402564,2.374751,1.2100447,1.6281842,0.809982,2.2566383,2.8236735,1.9156901,4.438891,1.591048,2.3642335,2.0368044,2.1349118,0.57947546,0.86310333,1.205721,2.9190648,1.3464026,1.8660026,2.0139806,2.0330226,1.0033252,4.2564435,1.1897565,1.6265013,2.7889414,1.8703406,1.7559999,1.8645337,0.51546496,3.873542,2.8200936,1.4622645,3.4562993,1.86186,1.7246335,2.7923775,3.0491197,0.8607585,0.99561024,4.5066113,1.5422224,4.309298,1.9028119,2.5085804,2.3187864,2.6061256,2.1339126,1.7677776,1.9128525,3.8348854,2.0104885,2.450529,2.32726,1.5243866,3.1370492,3.483366,0.8095056,1.7122879,1.1731684,2.1785629,1.5000955,2.291283,1.5013328,0.49368447,1.7250862,1.6665854,1.7780836,1.3453398,1.5335628,1.6487713,0.8266677,1.0035857,3.1582062,1.9135417,3.9462245,1.0678209,2.5158305,4.6953783,1.8382682,1.4689081,2.017854,2.74895,4.937092,1.7607555,1.987788,2.1282723,1.136095,0.66742957,1.4784365,2.4635875,1.3664299,2.1568522,1.2101684,1.2294004,4.2939444,4.8706026,1.6598464,0.8508305,1.3123857,1.1915691,0.7547469,0.8392323,0.79795784,1.1123202,1.0894424,4.7732916,1.4220755,2.771153,1.1293919,1.5989935,2.4374824,2.2862031,1.90535,2.9290698,1.0098788,3.1976123,5.011208,4.886446,0.62748784,2.1908288,1.1386617,4.1142044,3.7705803,1.994263,0.68691474,1.8001093,1.0880741,1.4684778,1.4790598,1.2776248,1.1948143,2.333117,1.6013714,2.8348603,2.216471,1.1096423,1.0551965,4.3988085,2.0734997,2.7227864,1.1723398,1.7137955,4.7099147,1.1454384,4.8077116,1.3719325,0.569101,3.441637,1.6865501,4.8220344,4.6894336,3.0823433,1.1459352,1.9900471,1.3696607,2.917036,0.69911623,3.3499787,0.91657555,0.9129377,1.922532,0.6914198,1.6003512,3.8964698,0.7434272,2.0963569,2.3251789,2.8029132,4.8520446,4.579079,1.6483953,1.7233402,0.5239833,2.1503909,1.8287035,3.9725819,2.6747744,3.6523795,1.3514044,3.1778631,1.1671553,3.482538,4.856986,1.9228138,0.8308315,0.68885887,1.8867452,2.9904435,1.5017612,2.0792432,2.1924648,0.755226,2.612054,1.2393556,1.1418041,1.2235148,2.1075327,1.2028736,1.6550155,1.2121527,1.479237,3.5584393,0.69352925,1.4314631,0.4917902,1.0684464,1.3869522,3.6871676,1.1421515,2.8042834,1.5838931,1.5185053,3.3454769,2.3883843,1.5883034,3.472587,2.0594332,2.1171334,3.9187887,1.5018572,1.1196259,2.0526278,1.5592537,4.43968,1.9134727,3.8192837,1.5320714,4.0908246,1.986251,0.71460104,2.426636,1.3909086,2.9657764,1.4720052,1.5242815,3.2444072,1.8025563,0.8577996,1.9207785,2.9333189,1.1087872,0.86231583,1.5081745,2.292484,2.5120902,2.3472736,2.731489,3.081981,2.2324908,1.3683518,0.7851126,0.80787045,2.3142269,1.8344055,4.7086663,1.5079048,2.5421643,1.9562621,2.4517205,1.6599374,1.4882631,0.6298793,1.0722803,2.6399636,1.1098274,3.771759,0.8354875,1.3126471,0.7694398,3.162369,0.6713256,1.3292109,1.7379135,2.7707162,2.5920908,2.740642,3.950135,0.9498952,3.2188542,4.5742717,1.436778,1.9023294,1.5378704,4.2885866,2.4089637,3.7736816,1.9775437,1.435334,1.2590302,2.9532163,1.968624,1.044442,1.7429413,2.690975,2.2159815,1.7169216,5.133469,0.72495335,1.891155,0.77705103,3.5728042,4.1064615,0.6348894,1.6120384,2.461853,1.6272334,1.7038352,4.9696217,2.4760745,1.4615744,0.6193961,0.57840335,0.82846075,2.3848855,1.7220408,2.2232258,2.3843253,0.80111283,2.6041737,2.701234,1.673839,2.0318244,2.3370988,2.166906,2.5725727,1.5084493,1.5990666,2.595769,2.717704,1.1252236,1.4977129,3.103113,3.659166,2.3811557,3.870509,2.3861437,1.1847737,2.1064339,2.053276,0.8810991,2.0038924,4.172536,1.3710579,2.3967478,3.4313028,0.9742492,0.8322698,2.3996742,1.0407066,2.2888234,4.913813,1.1582505,2.208452,2.2824996,1.8276974,2.6984146,2.209166,2.3858066,2.6240509,2.7784593,3.2902486,4.187084,2.3936641,3.174527,0.78691995,2.7568161,1.2930658,3.5217605,3.7823787,5.0717382,2.192688,3.850732,3.303141,1.8184135,1.6135535,1.697495,4.3313956,1.7881225,4.129122,3.4588387,1.1310372,1.4957756,3.807156,3.5951593,1.2297266,0.6557822,3.9382017,2.975747,2.2604873,2.287591,3.4731247,1.3767583,1.4466118,1.435123,1.2903664,1.7492067,1.2526575,3.4699588,1.3460345,1.678774,1.5745262,1.9513321,1.2030795,1.159751,1.0488068,2.45784,2.7839875,1.6779265,2.3758101,1.8197637,1.1490138,4.1646914,0.7769996,1.1390555,1.6472623,4.810959,1.4072151,1.0780107,1.1038327,3.309832,1.3118777,2.244242,1.57877,1.7137194,0.98015034,3.9657273,2.4457645,2.5225358,2.1916773,1.0071405,5.574655,0.93936944,1.8335168,1.1971414,2.4602504,3.1016147,1.4565238,1.5776068,4.7165813,1.7410012,0.9483188,2.4551134,1.382111,2.915661,3.7382476,1.4257113,2.3778515,2.2060452,2.3198202,3.8885505,2.0705152,2.5234704,3.3391373,1.4944693,3.8308802,2.0464625,2.0744717,2.0370026,1.1950419,3.3070762,2.0077145,1.4263809,1.6075145,1.0090142,2.8264947,2.2399378,2.4664333,1.0226511,2.2920828,2.3923376,1.2692955,0.4923231,1.8852856,1.861286,1.3053813,1.5623455,0.75350183,0.71645135,2.172017,1.1039772,2.7637434,1.6062573,0.98386365,1.9370832,3.217692,2.3248227,0.7974518,0.94337493,1.4472576,1.3204709,1.0639546,2.7300246,2.121255,1.4846373,0.53774625,1.2157536,1.7265701,1.2908903,1.7206999,1.88648,1.072364,3.5782292,2.526718,2.0787575,1.9826909,2.2733777,0.93633646,0.9866422,0.61397904,1.6027381,1.1186192,1.5860056,2.0540075,1.2158599,0.56629163,1.9574395,1.3231193,2.6127973,2.7370198,1.9617891,2.5261765,2.4764154,4.638198,0.78629684,2.2051618,1.0878574,1.3950585,4.328004,3.3480291,2.2696874,1.1902441,2.9413006,1.5904174,1.8207998,2.6790254,1.9772526,1.5923611,4.3897243,3.1025286,5.0845704,0.95382804,0.6469049,1.0295665,1.6562078,4.6639996,1.8716525,2.6981885,1.8644284,0.9583344,0.7520001,1.5480391,1.7734942,1.860819,1.1573691,1.4877367,1.1187936,3.8839147,1.0017956,4.9611297,2.0340943,1.4907994,1.9853872,5.1519036,2.1701224,3.3828247,1.9851424,1.2585119,1.8835516,4.5304356,1.5985485,3.6137826,2.8125257,1.6555884,1.8863745,2.0662925,1.0631411,1.7683601,2.016466,1.1751957,4.5920696,1.5283577,3.3099532,1.7222071,1.265159,2.1929808,1.7176504,3.5109525,3.4981394,1.5472027,1.7915729,1.035019,1.4989718,1.4489967,1.539391,1.1705502,4.708726,1.632806,3.8670905,0.56784904,2.7415369,1.2205153,0.84430003,0.56891984,1.4398526,1.7760593,2.009762,1.4113703,0.8588567,1.8830112,2.0941494,2.042369,1.888729,2.0370274,2.62063,1.4391505,1.0080487,1.5467138,1.4877704,1.2675616,1.1383991,0.6114061,1.2884223,1.0406758,2.250319,3.2543046,1.9381808,1.3504118,3.7638032,1.4649316,1.8480381,1.6514292,4.6614137,3.1858737,2.1405537,1.1727449,2.526025,2.052125,1.515329,0.95732945,1.7128309,0.93360287,2.2018619,1.5580133,1.7760247,0.7195325,3.114644,2.0908635,1.2970113,1.4251246,1.674489,1.8167448,1.0995733,1.8877556,1.8796982,2.2023327,1.2514001,0.91528773,3.673533,1.6104946,2.5642908,3.7936733,2.8698745,1.9949379,2.7500467,3.4567738,0.93824226,0.6579574,1.326213,2.4267905,2.2414773,1.2205956,1.8314663,2.3407724,0.55073595,0.6879017,1.4605561,1.6089557,2.0111864,1.1590129,3.1603131,1.1588178,1.7812628,1.2288636,1.9593594,0.8050983,1.5806364,2.3764372,0.59058976,1.3151116,4.752491,2.3470302,2.4370458,1.9076865,1.1426449,1.8453008,1.966245,3.6895213,3.6088026,0.9142845,2.0286822,1.1971654,4.7479634,2.542077,1.9999653,2.9551947,2.2621343,4.160411,5.201108,1.0850631,1.8143733,3.4497697,4.5580378,2.4769297,2.1123958,2.0285573,1.5300897,3.812203,1.0972095,3.2680087,2.2535133,3.6436012,0.5461441,2.9138567,1.6290673,2.9397569,2.0847485,1.1782395,1.7739398,1.4292443,2.4657352,1.9070958,0.6267769,1.8812743,3.2757914,2.4243371,2.2601767,2.1096,1.9764968,1.786633,1.9146917,2.343925,3.013789,2.602207,1.0135267,0.990831,1.991106,1.6452013,1.0535833,1.1315218,1.7688968,2.7379272,3.7329166,2.0313022,1.4685756,1.2478826,3.6224763,0.70831376,1.8276205,4.0644574,1.0539292,0.9724593,2.5106118,0.9953173,1.2194245,1.2483134,1.3283747,1.9362475,2.1758554,0.7627828,1.0290756,1.5740424,1.0146337,0.7794636,2.7537272,2.1365418,1.9335835,2.1714935,1.3194801,1.1084663,3.6625843,3.0038078,0.7397272,1.5331824,1.5926079,4.7484117,0.7327027,0.6756871,1.5689347,4.884193,2.0441391,4.799935,1.1321068,0.7544442,2.5228176,3.3598979,2.8668282,2.3455322,2.1803777,1.3674326,2.1252904,1.6039264,1.5595547,1.7569299,2.8813128,1.0569168,2.30204,0.6227278,1.8405519,2.1744227,1.6056194,3.6623962,1.3400512,1.8797467,0.71074873,0.6927516,1.9189548,1.8981969,2.1847818,2.4592948,3.8320458,2.8646853,3.3308284,3.9326744,1.2503157,0.7439065,3.4072778,2.77734,2.5037787,1.0527759,1.3336723,1.1003195,2.9311528,0.66614276,4.4613395,2.6946497,1.0508882,1.0589514,3.9612415,3.7687564,0.85280347,1.3861481,1.1263058,2.046218,2.3414307,0.8799626,1.0924256,1.291072,0.7006212,2.4639251,1.7975883,1.1231953,1.0981668,5.0410833,1.9399022,0.86307806,1.295903,1.0788379,1.6977806,1.7434068,2.725257,1.119927,2.0130143,2.1150475,4.3702116,2.8642375,1.0114635,0.95162535,2.065046,2.3077228,3.2801275,3.1239915,3.730466,2.6856773,1.7789874,2.2803793,2.4727547,2.6026375,1.1172107,4.469585,2.466853,0.5343041,2.8377557,3.8789082,2.6917145,3.0237844,2.3947697,3.2674084,0.83001167,3.7891717,1.0000825,2.1703732,1.1864744,2.0887966,1.4616374,2.5901575,1.9866314,1.7743545,3.1645093,1.97403,3.1925669,1.437126,1.9300228,2.1873648,2.6692417,4.5172963,2.129458,2.9384048,2.3624823,2.3701794,1.7144367,4.7264876,1.5917597,2.392593,0.7907815,4.173835,1.9079473,4.9980826,1.4942101,1.6467158,1.3140666,1.1723028,4.3189154,1.1161261,1.9179096,1.1220254,1.7259974,4.4868984,3.016843,3.0596547,1.0720024,4.0967197,1.6853753,1.2090293,1.1105893,3.833071,1.8611218,0.71779734,1.2450216,1.3759977,1.3083713,0.6982955,2.4750829,0.79938847,0.7193674,1.5681616,2.6034184,0.99688005,4.4000535,1.6086178,2.2104154,2.225536,5.2048206,4.427097,4.285367,1.6576921,2.5525594,3.353287,2.2819386,1.3649472,1.0608989,2.4313445,2.2922268,1.4383878,3.03282,1.9123588,2.120533,2.2962356,1.8336083,2.3952127,1.2870752,2.1733155,4.633838,2.6425502,1.5262719,3.3488135,1.0029124,0.9388977,2.584528,3.4077547,1.0670224,1.8782314,2.237771,1.7982944,4.893798,3.614155,0.77287257,2.3392491,1.0963167,2.1019366,2.8420653,4.04103,4.457032,1.3660779,0.678064,1.2077192,3.6890478,1.051518,0.6630793,3.0429735,1.2979847,0.53398335,1.9318132,2.5353503,2.4554515,2.3800766,1.1992754,2.854249,1.0816395,4.909688,1.1524312,0.79915035,1.4377317,2.4199452,1.687841,1.2890825,2.3582923,3.8793604,1.2669715,1.8094329,2.239819,1.311761,1.8738697,3.2077312,1.9966753,2.177101,2.0533159,1.001091,2.3628876,2.145539,1.9125602,0.8938551,0.3959479,1.8079909,3.3999908,1.7303275,2.8305147,2.548065,2.576981,0.6453229,2.3274763,1.0072764,2.385938,0.95852053,1.8910867,1.347275,1.550488,2.6605678,2.7635987,2.0465426,1.9214865,1.9900895,1.945321,2.35901,0.73416317,2.0180678,1.8723352,0.78860027,0.9625832,1.9577081,1.7621111,1.2505134,2.0578022,1.49066,2.7012541,1.7460066,2.4379458,0.5269984,1.9560449,1.3672739,1.5964928,3.230934,0.6203066,2.538663,0.50814015,2.5876477,2.177378,4.819843,1.371827,1.5443605,1.9998115,1.9556497,0.6576904,2.5691614,1.4442409,2.096725,2.1668086,1.001325,0.8157093,1.685198,2.656499,3.0512586,1.4230721,1.0990671,1.5422171,2.271255,3.439586,2.1182642,1.28784,1.7637302,1.8448673,0.8647619,2.6472704,5.0431156,1.2269231,1.9149821,1.5513912,2.7222712,4.6114044,1.2840247,0.9157753,1.260202,1.840277,1.5369385,0.76045966,1.7881082,1.3835299,0.7317832,3.236537,0.795355,3.617545,4.409885,1.617349,1.777833,1.841246,2.6039095,1.7215499,5.2050986,1.3043146,5.1425357,1.8768356,1.4652582,1.0087309,1.1042426,1.0483814,1.935627,1.1867242,1.3651059,2.4918933,1.8802197,3.7945426,1.9992987,1.6613573,1.9376569,2.9590194,1.071805,0.81197774,0.69225794,3.1742692,0.94911635,2.6704142,2.2716005,0.5818198,1.0581735,1.7950827,1.0685045,2.660812,1.0305601,2.054365,2.0486097,1.1582984,3.4684682,0.49678528,2.6179752,1.3603705,1.9805323,1.2645062,3.1859694,2.6084344,3.1474292,4.114137,1.4842423,2.0235763,0.7689979,2.6537325,2.2808826,1.667934,0.9016067,2.301807,1.3996329,2.6995609,1.6197336,1.3312496,2.096781,3.4309065,0.93082,5.214305,1.5377222,2.4050617,0.9846757,0.82768726,1.2696044,2.110568,1.7907618,4.4642053,4.2623925,1.421286,2.274479,1.034027,1.2947248,2.2502825,0.7383298,2.9964504,5.044022,1.9555993,2.3973472,2.5563142,2.2723997,2.2540972,1.3719914,2.8645406,0.7964006,1.7246469,0.87318647,1.5806694,2.0708342,2.9968116,2.0764034,3.144388,0.83080745,0.9572788,1.0965585,0.79909635,1.3139619,0.9604526,1.2337816,1.29982,2.3547945,2.7861795,1.68412,1.793214,4.2004924,1.0917412,1.3479743,1.8278795,1.7003727,0.6083444,1.0599868,3.3656495,1.9834634,1.5468535,1.1860825,2.076817,2.4912202,4.632429,3.8746,3.98453,2.5878415,1.0057353,1.5921044,1.9523315,2.108521,2.077915,2.605774,1.2298983,2.4898183,0.5452347,2.7019634,2.2448986,1.1075381,0.7810969,2.56976,0.9347273,4.2723765,1.7950258,0.7430648,4.8868294,1.2357358,1.3694584,3.298413,0.703855,2.2664077,4.318065,2.1068358,3.7633257,1.9837759,1.8826739,1.8315744,1.2116678,3.457525,0.9327343,4.4504366,4.1786675,1.7734231,2.4535935,2.3484328,2.197889,2.9520059,2.8359087,1.864929,2.2707977,4.1203737,0.83724,0.7050046,4.7290726,1.2395785,2.7060463,2.4796367,2.9529593,2.2063947,1.3541938,1.4237931,1.946027,0.8982478,1.7073865,3.3148923,1.0490286,2.9078877,0.76693326,0.5802487,1.7473274,2.0585663,3.306635,1.6141732,1.8153932,4.053992,1.4314945,0.779112,1.1711955,0.8711993,2.6149633,1.9911872,1.9802686,2.0177047,1.3286725,1.0965445,2.0534873,0.9254505,0.7013906,1.1598874,1.4347584,2.6589725,0.9850025,1.7015716,2.2490928,2.024415,3.471267,3.9904149,1.2442516,4.218575,1.5536542,0.5127852,1.9204347,1.1361676,1.6446861,4.4460397,2.2783325,3.5746114,3.0271232,3.6375453,1.747049,1.4184524,3.5208373,0.46354052,3.335851,1.2699436,4.1463223,1.1781602,2.768718,3.4209297,0.76947117,2.0312066,2.5735025,1.3027633,0.9767065,1.6871791,1.1759918,4.021273,1.3522905,4.929088,3.2778163,1.716723,2.363911,4.1117034,2.967842,2.8160136,1.6253018,1.2982486,3.1602335,3.0385056,1.4951304,1.2563766,2.2638242,1.4825995,3.588106,2.240656,0.52533454,0.57674277,2.7285557,1.8846309,0.9842944,0.54271835,2.5763109,2.332789,1.1436982,1.1224644,1.0649196,2.4018092,0.5758509,4.190793,2.5710056,4.0484023,2.3214338,1.9733164,0.71396667,1.8545853,2.5560122,1.8017126,4.873216,0.84098,1.027947,1.2160796,2.254889,1.4150742,2.1967776,2.259693,2.6973755,4.0496626,1.5320047,1.83599,0.8097943,1.508077,2.198878,0.9959641,1.9044973,1.518769,2.209316,0.71688217,3.742236,5.578222,0.9543465,4.3863306,3.3943758,3.345067,2.3493228,1.906929,5.1405416,2.3790798,3.8360338,1.6711378,2.6585531,0.9950805,0.8534062,1.2817911,2.5320292,2.0502098,0.6384711,5.009195,0.6102527,3.0177457,2.7985032,0.7930413,3.365507,0.8737826,1.4975741,1.6557575,3.7895532,2.0368667,1.6373333,1.4713016,0.81070584,2.671331,1.7612227,0.88976115,1.1689068,0.7334369,2.4865777,1.4834179,1.4685068,3.6979718,1.157943,2.357326,1.4285673,1.9393467,1.3810153,2.8450713,2.846384,2.0565104,0.7211426,1.3260484,1.0276173,1.2260844,4.379143,1.2757691,3.8403914,1.3655148,2.6377275,1.1880004,2.052654,0.7518846,2.0097725,2.2496793,3.3138142,2.7583404,4.1685405,1.8431169,1.0483887,2.9080567,1.3444527,1.2271553,1.0825294,2.3592365,0.6855591,2.2281165,1.1422886,3.668392,1.2024384,1.1671058,2.615024,2.744626,0.93698245,1.8129078,2.2003708,1.2521836,1.8679732,3.335348,1.3784276,1.2890235,1.5343698,3.3921568,1.0584738,0.91995907,1.490625,2.141587,1.644374,1.1377835,1.0914812,1.4138423,3.1575365,1.3568119,1.2720957,1.5368832,2.5158827,0.8652243,1.021676,0.964515,1.7474091,2.1626177,1.0862296,4.073097,0.7794936,0.87438816,4.8901167,1.1282811,3.4919536,3.100144,2.5481825,3.7165482,0.9793106,0.5464557,1.1449759,2.3223195,1.8688048,2.6386554,2.3499777,1.9383351,2.514349,1.7447332,2.3404212,2.36179,1.9424791,3.9458704,2.233916,2.1104915,1.2334708,1.376149,1.5842355,1.2316746,3.2607014,1.1864443,1.6049289,1.4904742,2.2304442,1.8260614,1.8357946,0.9221232,0.583209,2.8016973,3.0713537,2.7416956,0.5600122,1.3833736,1.0373297,5.0421276,4.9203057,1.0854383,1.1301144,1.8322558,2.7209435,2.9200792,3.0464885,3.4648206,2.316179,2.1182458,2.43793,1.6555172,1.3343328,1.8709614,1.6640989,1.8483981,4.8948913,1.3185022,1.4872681,1.2920477,3.367281,4.577976,0.9658871,3.5618744,1.9234768,2.4747212,1.566807,3.0065048,2.3215575,3.0064597,2.611919,3.45447,1.28949,1.0148332,1.8202146,5.2688503,1.1913761,1.4366851,2.8432143,1.1132619,2.3112698,0.5689392,2.3986874,4.1869054,2.906527,1.4673232,1.082182,2.30863,2.9054618,0.8995748,2.4097674,2.7703316,3.0651045,3.8809066,2.5271575,3.052163,3.4170158,2.293438,3.4834409,1.7790192,2.868502,2.522277,4.509347,1.2786715,2.5451124,0.7944258,0.8988913,1.6907603,1.3656284,0.94815636,1.9813727,0.62864196,1.6730243,1.4055486,1.4662646,1.1984465,4.457124,2.8772743,3.38286,4.8866262,0.8884535,1.1227691,2.6529613,3.0424285,1.5823029,2.9974377,2.5069556,2.4650316,1.0088165,3.045865,2.5481663,2.255918,1.8839533,1.4843181,2.9478395,1.4919438,1.2088504,0.65450156,0.681171,0.78523684,3.4587328,1.5589633,1.1985182,2.2243347,2.8118005,1.0598699,0.681023,2.1756783,0.7007073,0.9287329,1.162922,2.0369933,1.7727956,2.7820375,0.8591811,1.6617045,1.6639513,3.7211642,1.5637908,1.3839722,0.7998857,3.6997497,1.7055376,1.3141351,1.9719977,0.83940756,3.292059,0.58615243,0.9122833,3.8848174,1.772925,2.6778805,2.0680087,2.7692785,1.0662926,1.9931986,1.8448579,2.108782,2.1437008,2.7960126,2.3201056,0.9008134,3.7303603,2.1689606,1.8483777,1.9337355,4.290567,1.1781073,0.67899656,1.5106987,4.280948,2.1565483,2.63675,0.6595141,1.5185761,2.1039143,2.717981,4.5422144,3.7378674,1.7088183,0.5352203,1.129647,1.0222123,0.791002,1.1774788,3.8159742,4.7577395,2.6078243,1.0995381,0.5460001,1.1152008,1.9550626,1.1915804,2.8428195,1.8214053,2.9898732,2.155362,1.9686832,5.255926,4.5720034,0.8924333,1.1110641,3.020619,1.9027063,1.55465,1.1954718,1.489859,0.8197128,0.57611066,1.5465878,0.56230825,1.7052208,0.92275256,2.0404599],\"yaxis\":\"y\",\"type\":\"scattergl\"}],                        {\"template\":{\"data\":{\"histogram2dcontour\":[{\"type\":\"histogram2dcontour\",\"colorbar\":{\"outlinewidth\":0,\"ticks\":\"\"},\"colorscale\":[[0.0,\"#0d0887\"],[0.1111111111111111,\"#46039f\"],[0.2222222222222222,\"#7201a8\"],[0.3333333333333333,\"#9c179e\"],[0.4444444444444444,\"#bd3786\"],[0.5555555555555556,\"#d8576b\"],[0.6666666666666666,\"#ed7953\"],[0.7777777777777778,\"#fb9f3a\"],[0.8888888888888888,\"#fdca26\"],[1.0,\"#f0f921\"]]}],\"choropleth\":[{\"type\":\"choropleth\",\"colorbar\":{\"outlinewidth\":0,\"ticks\":\"\"}}],\"histogram2d\":[{\"type\":\"histogram2d\",\"colorbar\":{\"outlinewidth\":0,\"ticks\":\"\"},\"colorscale\":[[0.0,\"#0d0887\"],[0.1111111111111111,\"#46039f\"],[0.2222222222222222,\"#7201a8\"],[0.3333333333333333,\"#9c179e\"],[0.4444444444444444,\"#bd3786\"],[0.5555555555555556,\"#d8576b\"],[0.6666666666666666,\"#ed7953\"],[0.7777777777777778,\"#fb9f3a\"],[0.8888888888888888,\"#fdca26\"],[1.0,\"#f0f921\"]]}],\"heatmap\":[{\"type\":\"heatmap\",\"colorbar\":{\"outlinewidth\":0,\"ticks\":\"\"},\"colorscale\":[[0.0,\"#0d0887\"],[0.1111111111111111,\"#46039f\"],[0.2222222222222222,\"#7201a8\"],[0.3333333333333333,\"#9c179e\"],[0.4444444444444444,\"#bd3786\"],[0.5555555555555556,\"#d8576b\"],[0.6666666666666666,\"#ed7953\"],[0.7777777777777778,\"#fb9f3a\"],[0.8888888888888888,\"#fdca26\"],[1.0,\"#f0f921\"]]}],\"heatmapgl\":[{\"type\":\"heatmapgl\",\"colorbar\":{\"outlinewidth\":0,\"ticks\":\"\"},\"colorscale\":[[0.0,\"#0d0887\"],[0.1111111111111111,\"#46039f\"],[0.2222222222222222,\"#7201a8\"],[0.3333333333333333,\"#9c179e\"],[0.4444444444444444,\"#bd3786\"],[0.5555555555555556,\"#d8576b\"],[0.6666666666666666,\"#ed7953\"],[0.7777777777777778,\"#fb9f3a\"],[0.8888888888888888,\"#fdca26\"],[1.0,\"#f0f921\"]]}],\"contourcarpet\":[{\"type\":\"contourcarpet\",\"colorbar\":{\"outlinewidth\":0,\"ticks\":\"\"}}],\"contour\":[{\"type\":\"contour\",\"colorbar\":{\"outlinewidth\":0,\"ticks\":\"\"},\"colorscale\":[[0.0,\"#0d0887\"],[0.1111111111111111,\"#46039f\"],[0.2222222222222222,\"#7201a8\"],[0.3333333333333333,\"#9c179e\"],[0.4444444444444444,\"#bd3786\"],[0.5555555555555556,\"#d8576b\"],[0.6666666666666666,\"#ed7953\"],[0.7777777777777778,\"#fb9f3a\"],[0.8888888888888888,\"#fdca26\"],[1.0,\"#f0f921\"]]}],\"surface\":[{\"type\":\"surface\",\"colorbar\":{\"outlinewidth\":0,\"ticks\":\"\"},\"colorscale\":[[0.0,\"#0d0887\"],[0.1111111111111111,\"#46039f\"],[0.2222222222222222,\"#7201a8\"],[0.3333333333333333,\"#9c179e\"],[0.4444444444444444,\"#bd3786\"],[0.5555555555555556,\"#d8576b\"],[0.6666666666666666,\"#ed7953\"],[0.7777777777777778,\"#fb9f3a\"],[0.8888888888888888,\"#fdca26\"],[1.0,\"#f0f921\"]]}],\"mesh3d\":[{\"type\":\"mesh3d\",\"colorbar\":{\"outlinewidth\":0,\"ticks\":\"\"}}],\"scatter\":[{\"fillpattern\":{\"fillmode\":\"overlay\",\"size\":10,\"solidity\":0.2},\"type\":\"scatter\"}],\"parcoords\":[{\"type\":\"parcoords\",\"line\":{\"colorbar\":{\"outlinewidth\":0,\"ticks\":\"\"}}}],\"scatterpolargl\":[{\"type\":\"scatterpolargl\",\"marker\":{\"colorbar\":{\"outlinewidth\":0,\"ticks\":\"\"}}}],\"bar\":[{\"error_x\":{\"color\":\"#2a3f5f\"},\"error_y\":{\"color\":\"#2a3f5f\"},\"marker\":{\"line\":{\"color\":\"#E5ECF6\",\"width\":0.5},\"pattern\":{\"fillmode\":\"overlay\",\"size\":10,\"solidity\":0.2}},\"type\":\"bar\"}],\"scattergeo\":[{\"type\":\"scattergeo\",\"marker\":{\"colorbar\":{\"outlinewidth\":0,\"ticks\":\"\"}}}],\"scatterpolar\":[{\"type\":\"scatterpolar\",\"marker\":{\"colorbar\":{\"outlinewidth\":0,\"ticks\":\"\"}}}],\"histogram\":[{\"marker\":{\"pattern\":{\"fillmode\":\"overlay\",\"size\":10,\"solidity\":0.2}},\"type\":\"histogram\"}],\"scattergl\":[{\"type\":\"scattergl\",\"marker\":{\"colorbar\":{\"outlinewidth\":0,\"ticks\":\"\"}}}],\"scatter3d\":[{\"type\":\"scatter3d\",\"line\":{\"colorbar\":{\"outlinewidth\":0,\"ticks\":\"\"}},\"marker\":{\"colorbar\":{\"outlinewidth\":0,\"ticks\":\"\"}}}],\"scattermapbox\":[{\"type\":\"scattermapbox\",\"marker\":{\"colorbar\":{\"outlinewidth\":0,\"ticks\":\"\"}}}],\"scatterternary\":[{\"type\":\"scatterternary\",\"marker\":{\"colorbar\":{\"outlinewidth\":0,\"ticks\":\"\"}}}],\"scattercarpet\":[{\"type\":\"scattercarpet\",\"marker\":{\"colorbar\":{\"outlinewidth\":0,\"ticks\":\"\"}}}],\"carpet\":[{\"aaxis\":{\"endlinecolor\":\"#2a3f5f\",\"gridcolor\":\"white\",\"linecolor\":\"white\",\"minorgridcolor\":\"white\",\"startlinecolor\":\"#2a3f5f\"},\"baxis\":{\"endlinecolor\":\"#2a3f5f\",\"gridcolor\":\"white\",\"linecolor\":\"white\",\"minorgridcolor\":\"white\",\"startlinecolor\":\"#2a3f5f\"},\"type\":\"carpet\"}],\"table\":[{\"cells\":{\"fill\":{\"color\":\"#EBF0F8\"},\"line\":{\"color\":\"white\"}},\"header\":{\"fill\":{\"color\":\"#C8D4E3\"},\"line\":{\"color\":\"white\"}},\"type\":\"table\"}],\"barpolar\":[{\"marker\":{\"line\":{\"color\":\"#E5ECF6\",\"width\":0.5},\"pattern\":{\"fillmode\":\"overlay\",\"size\":10,\"solidity\":0.2}},\"type\":\"barpolar\"}],\"pie\":[{\"automargin\":true,\"type\":\"pie\"}]},\"layout\":{\"autotypenumbers\":\"strict\",\"colorway\":[\"#636efa\",\"#EF553B\",\"#00cc96\",\"#ab63fa\",\"#FFA15A\",\"#19d3f3\",\"#FF6692\",\"#B6E880\",\"#FF97FF\",\"#FECB52\"],\"font\":{\"color\":\"#2a3f5f\"},\"hovermode\":\"closest\",\"hoverlabel\":{\"align\":\"left\"},\"paper_bgcolor\":\"white\",\"plot_bgcolor\":\"#E5ECF6\",\"polar\":{\"bgcolor\":\"#E5ECF6\",\"angularaxis\":{\"gridcolor\":\"white\",\"linecolor\":\"white\",\"ticks\":\"\"},\"radialaxis\":{\"gridcolor\":\"white\",\"linecolor\":\"white\",\"ticks\":\"\"}},\"ternary\":{\"bgcolor\":\"#E5ECF6\",\"aaxis\":{\"gridcolor\":\"white\",\"linecolor\":\"white\",\"ticks\":\"\"},\"baxis\":{\"gridcolor\":\"white\",\"linecolor\":\"white\",\"ticks\":\"\"},\"caxis\":{\"gridcolor\":\"white\",\"linecolor\":\"white\",\"ticks\":\"\"}},\"coloraxis\":{\"colorbar\":{\"outlinewidth\":0,\"ticks\":\"\"}},\"colorscale\":{\"sequential\":[[0.0,\"#0d0887\"],[0.1111111111111111,\"#46039f\"],[0.2222222222222222,\"#7201a8\"],[0.3333333333333333,\"#9c179e\"],[0.4444444444444444,\"#bd3786\"],[0.5555555555555556,\"#d8576b\"],[0.6666666666666666,\"#ed7953\"],[0.7777777777777778,\"#fb9f3a\"],[0.8888888888888888,\"#fdca26\"],[1.0,\"#f0f921\"]],\"sequentialminus\":[[0.0,\"#0d0887\"],[0.1111111111111111,\"#46039f\"],[0.2222222222222222,\"#7201a8\"],[0.3333333333333333,\"#9c179e\"],[0.4444444444444444,\"#bd3786\"],[0.5555555555555556,\"#d8576b\"],[0.6666666666666666,\"#ed7953\"],[0.7777777777777778,\"#fb9f3a\"],[0.8888888888888888,\"#fdca26\"],[1.0,\"#f0f921\"]],\"diverging\":[[0,\"#8e0152\"],[0.1,\"#c51b7d\"],[0.2,\"#de77ae\"],[0.3,\"#f1b6da\"],[0.4,\"#fde0ef\"],[0.5,\"#f7f7f7\"],[0.6,\"#e6f5d0\"],[0.7,\"#b8e186\"],[0.8,\"#7fbc41\"],[0.9,\"#4d9221\"],[1,\"#276419\"]]},\"xaxis\":{\"gridcolor\":\"white\",\"linecolor\":\"white\",\"ticks\":\"\",\"title\":{\"standoff\":15},\"zerolinecolor\":\"white\",\"automargin\":true,\"zerolinewidth\":2},\"yaxis\":{\"gridcolor\":\"white\",\"linecolor\":\"white\",\"ticks\":\"\",\"title\":{\"standoff\":15},\"zerolinecolor\":\"white\",\"automargin\":true,\"zerolinewidth\":2},\"scene\":{\"xaxis\":{\"backgroundcolor\":\"#E5ECF6\",\"gridcolor\":\"white\",\"linecolor\":\"white\",\"showbackground\":true,\"ticks\":\"\",\"zerolinecolor\":\"white\",\"gridwidth\":2},\"yaxis\":{\"backgroundcolor\":\"#E5ECF6\",\"gridcolor\":\"white\",\"linecolor\":\"white\",\"showbackground\":true,\"ticks\":\"\",\"zerolinecolor\":\"white\",\"gridwidth\":2},\"zaxis\":{\"backgroundcolor\":\"#E5ECF6\",\"gridcolor\":\"white\",\"linecolor\":\"white\",\"showbackground\":true,\"ticks\":\"\",\"zerolinecolor\":\"white\",\"gridwidth\":2}},\"shapedefaults\":{\"line\":{\"color\":\"#2a3f5f\"}},\"annotationdefaults\":{\"arrowcolor\":\"#2a3f5f\",\"arrowhead\":0,\"arrowwidth\":1},\"geo\":{\"bgcolor\":\"white\",\"landcolor\":\"#E5ECF6\",\"subunitcolor\":\"white\",\"showland\":true,\"showlakes\":true,\"lakecolor\":\"white\"},\"title\":{\"x\":0.05},\"mapbox\":{\"style\":\"light\"}}},\"xaxis\":{\"anchor\":\"y\",\"domain\":[0.0,1.0],\"title\":{\"text\":\"Actual Price\"}},\"yaxis\":{\"anchor\":\"x\",\"domain\":[0.0,1.0],\"title\":{\"text\":\"Predicted Price\"}},\"legend\":{\"tracegroupgap\":0},\"title\":{\"text\":\"Actual Price vs Predicted Price (Tuned Model)\"}},                        {\"responsive\": true}                    ).then(function(){\n",
              "                            \n",
              "var gd = document.getElementById('5688688b-0ae0-47a9-9bbb-3f0b9e4d8d0a');\n",
              "var x = new MutationObserver(function (mutations, observer) {{\n",
              "        var display = window.getComputedStyle(gd).display;\n",
              "        if (!display || display === 'none') {{\n",
              "            console.log([gd, 'removed!']);\n",
              "            Plotly.purge(gd);\n",
              "            observer.disconnect();\n",
              "        }}\n",
              "}});\n",
              "\n",
              "// Listen for the removal of the full notebook cells\n",
              "var notebookContainer = gd.closest('#notebook-container');\n",
              "if (notebookContainer) {{\n",
              "    x.observe(notebookContainer, {childList: true});\n",
              "}}\n",
              "\n",
              "// Listen for the clearing of the current output cell\n",
              "var outputEl = gd.closest('.output');\n",
              "if (outputEl) {{\n",
              "    x.observe(outputEl, {childList: true});\n",
              "}}\n",
              "\n",
              "                        })                };                            </script>        </div>\n",
              "</body>\n",
              "</html>"
            ]
          },
          "metadata": {}
        }
      ]
    },
    {
      "cell_type": "markdown",
      "source": [
        "Visualize the actuale prices and predicted prices"
      ],
      "metadata": {
        "id": "0HXbIXMpl0Sh"
      }
    },
    {
      "cell_type": "code",
      "source": [
        "plt.scatter(Y_train, training_data_prediction)\n",
        "plt.xlabel(\"Actual Price\")\n",
        "plt.ylabel(\"Predicted Price\")\n",
        "plt.title(\"Actual Price vs Predicted Price\")\n",
        "plt.show()"
      ],
      "metadata": {
        "colab": {
          "base_uri": "https://localhost:8080/",
          "height": 472
        },
        "id": "AkX_8rbol6X6",
        "outputId": "cc88d8a9-8bcb-45ed-b985-420876d243bf"
      },
      "execution_count": null,
      "outputs": [
        {
          "output_type": "display_data",
          "data": {
            "text/plain": [
              "<Figure size 640x480 with 1 Axes>"
            ],
            "image/png": "[encoded data removed]"
          },
          "metadata": {}
        }
      ]
    },
    {
      "cell_type": "markdown",
      "source": [
        "Prediction on test data"
      ],
      "metadata": {
        "id": "YshfEu3WlNaf"
      }
    },
    {
      "cell_type": "code",
      "source": [
        "# accuracy for prediction on test data\n",
        "test_data_prediction = model.predict(X_test)"
      ],
      "metadata": {
        "id": "jKJotv_lkqPi"
      },
      "execution_count": null,
      "outputs": []
    },
    {
      "cell_type": "code",
      "source": [
        "# R Squared Error\n",
        "score_1 = metrics.r2_score(Y_test, test_data_prediction)\n",
        "\n",
        "# Mean Absolute Error\n",
        "score_2 = metrics.mean_absolute_error(Y_test, test_data_prediction)\n",
        "\n",
        "print('R Sqaured Error:', score_1)\n",
        "print('Mean Absolute Error:', score_2)"
      ],
      "metadata": {
        "colab": {
          "base_uri": "https://localhost:8080/"
        },
        "id": "QZIaQ0bZlYU8",
        "outputId": "ee10e939-0b09-4b82-d187-1a3687914457"
      },
      "execution_count": null,
      "outputs": [
        {
          "output_type": "stream",
          "name": "stdout",
          "text": [
            "R Sqaured Error: 0.8412904408180302\n",
            "Mean Absolute Error: 0.30753655785801337\n"
          ]
        }
      ]
    },
    {
      "cell_type": "code",
      "source": [],
      "metadata": {
        "id": "3NA45vC_lj3Y"
      },
      "execution_count": null,
      "outputs": []
    },
    {
      "cell_type": "markdown",
      "metadata": {
        "id": "47945d87"
      },
      "source": [
        "# Task\n",
        "Tune the hyperparameters of the XGBoost Regressor model for price prediction and evaluate its performance."
      ]
    },
    {
      "cell_type": "markdown",
      "metadata": {
        "id": "34031af3"
      },
      "source": [
        "## Define hyperparameter search space\n",
        "\n",
        "### Subtask:\n",
        "Define the range of hyperparameters to search for the XGBoost Regressor model.\n"
      ]
    },
    {
      "cell_type": "markdown",
      "metadata": {
        "id": "414207a3"
      },
      "source": [
        "**Reasoning**:\n",
        "Define a dictionary `param_grid` with hyperparameter ranges for XGBoost.\n",
        "\n"
      ]
    },
    {
      "cell_type": "code",
      "metadata": {
        "id": "e1194813"
      },
      "source": [
        "param_grid = {\n",
        "    'n_estimators': [100, 200, 300],\n",
        "    'learning_rate': [0.01, 0.1, 0.2],\n",
        "    'max_depth': [3, 5, 7],\n",
        "    'subsample': [0.8, 1.0],\n",
        "    'colsample_bytree': [0.8, 1.0]\n",
        "}"
      ],
      "execution_count": 1,
      "outputs": []
    },
    {
      "cell_type": "markdown",
      "metadata": {
        "id": "5f48b03b"
      },
      "source": [
        "## Implement hyperparameter tuning\n",
        "\n",
        "### Subtask:\n",
        "Use a technique like GridSearchCV or RandomizedSearchCV to find the best hyperparameters.\n"
      ]
    },
    {
      "cell_type": "markdown",
      "metadata": {
        "id": "b9229ab3"
      },
      "source": [
        "**Reasoning**:\n",
        "Import GridSearchCV and perform the grid search to find the best hyperparameters for the XGBoost model.\n",
        "\n"
      ]
    },
    {
      "cell_type": "code",
      "metadata": {
        "colab": {
          "base_uri": "https://localhost:8080/",
          "height": 219
        },
        "id": "99f98fd9",
        "outputId": "2a7df208-a3ae-4adf-e3b6-1143590b7793"
      },
      "source": [
        "from sklearn.model_selection import GridSearchCV\n",
        "\n",
        "grid_search = GridSearchCV(estimator=model, param_grid=param_grid, cv=5)\n",
        "grid_search.fit(X_train, Y_train)\n",
        "\n",
        "print(\"Best hyperparameters:\", grid_search.best_params_)"
      ],
      "execution_count": 2,
      "outputs": [
        {
          "output_type": "error",
          "ename": "NameError",
          "evalue": "name 'model' is not defined",
          "traceback": [
            "\u001b[0;31m---------------------------------------------------------------------------\u001b[0m",
            "\u001b[0;31mNameError\u001b[0m                                 Traceback (most recent call last)",
            "\u001b[0;32m/tmp/ipython-input-1522581610.py\u001b[0m in \u001b[0;36m<cell line: 0>\u001b[0;34m()\u001b[0m\n\u001b[1;32m      1\u001b[0m \u001b[0;32mfrom\u001b[0m \u001b[0msklearn\u001b[0m\u001b[0;34m.\u001b[0m\u001b[0mmodel_selection\u001b[0m \u001b[0;32mimport\u001b[0m \u001b[0mGridSearchCV\u001b[0m\u001b[0;34m\u001b[0m\u001b[0;34m\u001b[0m\u001b[0m\n\u001b[1;32m      2\u001b[0m \u001b[0;34m\u001b[0m\u001b[0m\n\u001b[0;32m----> 3\u001b[0;31m \u001b[0mgrid_search\u001b[0m \u001b[0;34m=\u001b[0m \u001b[0mGridSearchCV\u001b[0m\u001b[0;34m(\u001b[0m\u001b[0mestimator\u001b[0m\u001b[0;34m=\u001b[0m\u001b[0mmodel\u001b[0m\u001b[0;34m,\u001b[0m \u001b[0mparam_grid\u001b[0m\u001b[0;34m=\u001b[0m\u001b[0mparam_grid\u001b[0m\u001b[0;34m,\u001b[0m \u001b[0mcv\u001b[0m\u001b[0;34m=\u001b[0m\u001b[0;36m5\u001b[0m\u001b[0;34m)\u001b[0m\u001b[0;34m\u001b[0m\u001b[0;34m\u001b[0m\u001b[0m\n\u001b[0m\u001b[1;32m      4\u001b[0m \u001b[0mgrid_search\u001b[0m\u001b[0;34m.\u001b[0m\u001b[0mfit\u001b[0m\u001b[0;34m(\u001b[0m\u001b[0mX_train\u001b[0m\u001b[0;34m,\u001b[0m \u001b[0mY_train\u001b[0m\u001b[0;34m)\u001b[0m\u001b[0;34m\u001b[0m\u001b[0;34m\u001b[0m\u001b[0m\n\u001b[1;32m      5\u001b[0m \u001b[0;34m\u001b[0m\u001b[0m\n",
            "\u001b[0;31mNameError\u001b[0m: name 'model' is not defined"
          ]
        }
      ]
    },
    {
      "cell_type": "markdown",
      "metadata": {
        "id": "53ba46b4"
      },
      "source": [
        "**Reasoning**:\n",
        "The previous code failed because the `model` variable was not defined in the current session. Re-instantiate the `XGBRegressor` model before creating the `GridSearchCV` object and fitting it to the data.\n",
        "\n"
      ]
    },
    {
      "cell_type": "code",
      "metadata": {
        "colab": {
          "base_uri": "https://localhost:8080/",
          "height": 219
        },
        "id": "XQr7dJ1F27DZ",
        "outputId": "c0a91d84-4788-47eb-8104-fbb233d84307"
      },
      "source": [
        "from sklearn.model_selection import GridSearchCV\n",
        "from xgboost import XGBRegressor\n",
        "\n",
        "model = XGBRegressor()\n",
        "grid_search = GridSearchCV(estimator=model, param_grid=param_grid, cv=5)\n",
        "grid_search.fit(X_train, Y_train)\n",
        "\n",
        "print(\"Best hyperparameters:\", grid_search.best_params_)"
      ],
      "execution_count": 3,
      "outputs": [
        {
          "output_type": "error",
          "ename": "NameError",
          "evalue": "name 'X_train' is not defined",
          "traceback": [
            "\u001b[0;31m---------------------------------------------------------------------------\u001b[0m",
            "\u001b[0;31mNameError\u001b[0m                                 Traceback (most recent call last)",
            "\u001b[0;32m/tmp/ipython-input-1624500049.py\u001b[0m in \u001b[0;36m<cell line: 0>\u001b[0;34m()\u001b[0m\n\u001b[1;32m      4\u001b[0m \u001b[0mmodel\u001b[0m \u001b[0;34m=\u001b[0m \u001b[0mXGBRegressor\u001b[0m\u001b[0;34m(\u001b[0m\u001b[0;34m)\u001b[0m\u001b[0;34m\u001b[0m\u001b[0;34m\u001b[0m\u001b[0m\n\u001b[1;32m      5\u001b[0m \u001b[0mgrid_search\u001b[0m \u001b[0;34m=\u001b[0m \u001b[0mGridSearchCV\u001b[0m\u001b[0;34m(\u001b[0m\u001b[0mestimator\u001b[0m\u001b[0;34m=\u001b[0m\u001b[0mmodel\u001b[0m\u001b[0;34m,\u001b[0m \u001b[0mparam_grid\u001b[0m\u001b[0;34m=\u001b[0m\u001b[0mparam_grid\u001b[0m\u001b[0;34m,\u001b[0m \u001b[0mcv\u001b[0m\u001b[0;34m=\u001b[0m\u001b[0;36m5\u001b[0m\u001b[0;34m)\u001b[0m\u001b[0;34m\u001b[0m\u001b[0;34m\u001b[0m\u001b[0m\n\u001b[0;32m----> 6\u001b[0;31m \u001b[0mgrid_search\u001b[0m\u001b[0;34m.\u001b[0m\u001b[0mfit\u001b[0m\u001b[0;34m(\u001b[0m\u001b[0mX_train\u001b[0m\u001b[0;34m,\u001b[0m \u001b[0mY_train\u001b[0m\u001b[0;34m)\u001b[0m\u001b[0;34m\u001b[0m\u001b[0;34m\u001b[0m\u001b[0m\n\u001b[0m\u001b[1;32m      7\u001b[0m \u001b[0;34m\u001b[0m\u001b[0m\n\u001b[1;32m      8\u001b[0m \u001b[0mprint\u001b[0m\u001b[0;34m(\u001b[0m\u001b[0;34m\"Best hyperparameters:\"\u001b[0m\u001b[0;34m,\u001b[0m \u001b[0mgrid_search\u001b[0m\u001b[0;34m.\u001b[0m\u001b[0mbest_params_\u001b[0m\u001b[0;34m)\u001b[0m\u001b[0;34m\u001b[0m\u001b[0;34m\u001b[0m\u001b[0m\n",
            "\u001b[0;31mNameError\u001b[0m: name 'X_train' is not defined"
          ]
        }
      ]
    },
    {
      "cell_type": "markdown",
      "metadata": {
        "id": "9c9c1238"
      },
      "source": [
        "**Reasoning**:\n",
        "The previous code failed because `X_train` and `Y_train` were not defined. These variables were created in a previous cell but are not available in the current session. The data needs to be loaded, split into features and target, and then split into training and test sets again.\n",
        "\n"
      ]
    },
    {
      "cell_type": "code",
      "metadata": {
        "colab": {
          "base_uri": "https://localhost:8080/"
        },
        "id": "4Ee1N6qO2-Om",
        "outputId": "b62cb768-b3a0-4398-b590-23ca6841afe0"
      },
      "source": [
        "import pandas as pd\n",
        "import sklearn.datasets\n",
        "from sklearn.model_selection import train_test_split, GridSearchCV\n",
        "from xgboost import XGBRegressor\n",
        "\n",
        "# Reload the dataset and split the data\n",
        "house_price_dataset = sklearn.datasets.fetch_california_housing()\n",
        "house_price_dataframe = pd.DataFrame(house_price_dataset.data, columns = house_price_dataset.feature_names)\n",
        "house_price_dataframe['price'] = house_price_dataset.target\n",
        "\n",
        "X = house_price_dataframe.drop(['price'], axis=1)\n",
        "Y = house_price_dataframe['price']\n",
        "\n",
        "X_train, X_test, Y_train, Y_test = train_test_split(X,Y, test_size=0.2, random_state=2)\n",
        "\n",
        "# Re-instantiate the model and perform grid search\n",
        "model = XGBRegressor()\n",
        "grid_search = GridSearchCV(estimator=model, param_grid=param_grid, cv=5)\n",
        "grid_search.fit(X_train, Y_train)\n",
        "\n",
        "print(\"Best hyperparameters:\", grid_search.best_params_)"
      ],
      "execution_count": 4,
      "outputs": [
        {
          "output_type": "stream",
          "name": "stdout",
          "text": [
            "Best hyperparameters: {'colsample_bytree': 0.8, 'learning_rate': 0.1, 'max_depth': 7, 'n_estimators': 300, 'subsample': 0.8}\n"
          ]
        }
      ]
    },
    {
      "cell_type": "markdown",
      "metadata": {
        "id": "11f003da"
      },
      "source": [
        "## Train the model with best hyperparameters\n",
        "\n",
        "### Subtask:\n",
        "Train the XGBoost Regressor model using the best hyperparameters found during tuning.\n"
      ]
    },
    {
      "cell_type": "markdown",
      "metadata": {
        "id": "61aece38"
      },
      "source": [
        "**Reasoning**:\n",
        "Instantiate a new XGBoostRegressor model with the best hyperparameters and train it on the training data.\n",
        "\n"
      ]
    },
    {
      "cell_type": "code",
      "metadata": {
        "colab": {
          "base_uri": "https://localhost:8080/",
          "height": 253
        },
        "id": "b8cece9e",
        "outputId": "d78b07d4-03b1-4d48-eef8-ab8192ca361d"
      },
      "source": [
        "best_model = XGBRegressor(**grid_search.best_params_)\n",
        "best_model.fit(X_train, Y_train)"
      ],
      "execution_count": 5,
      "outputs": [
        {
          "output_type": "execute_result",
          "data": {
            "text/plain": [
              "XGBRegressor(base_score=None, booster=None, callbacks=None,\n",
              "             colsample_bylevel=None, colsample_bynode=None,\n",
              "             colsample_bytree=0.8, device=None, early_stopping_rounds=None,\n",
              "             enable_categorical=False, eval_metric=None, feature_types=None,\n",
              "             feature_weights=None, gamma=None, grow_policy=None,\n",
              "             importance_type=None, interaction_constraints=None,\n",
              "             learning_rate=0.1, max_bin=None, max_cat_threshold=None,\n",
              "             max_cat_to_onehot=None, max_delta_step=None, max_depth=7,\n",
              "             max_leaves=None, min_child_weight=None, missing=nan,\n",
              "             monotone_constraints=None, multi_strategy=None, n_estimators=300,\n",
              "             n_jobs=None, num_parallel_tree=None, ...)"
            ],
            "text/html": [
              "<style>#sk-container-id-1 {\n",
              "  /* Definition of color scheme common for light and dark mode */\n",
              "  --sklearn-color-text: #000;\n",
              "  --sklearn-color-text-muted: #666;\n",
              "  --sklearn-color-line: gray;\n",
              "  /* Definition of color scheme for unfitted estimators */\n",
              "  --sklearn-color-unfitted-level-0: #fff5e6;\n",
              "  --sklearn-color-unfitted-level-1: #f6e4d2;\n",
              "  --sklearn-color-unfitted-level-2: #ffe0b3;\n",
              "  --sklearn-color-unfitted-level-3: chocolate;\n",
              "  /* Definition of color scheme for fitted estimators */\n",
              "  --sklearn-color-fitted-level-0: #f0f8ff;\n",
              "  --sklearn-color-fitted-level-1: #d4ebff;\n",
              "  --sklearn-color-fitted-level-2: #b3dbfd;\n",
              "  --sklearn-color-fitted-level-3: cornflowerblue;\n",
              "\n",
              "  /* Specific color for light theme */\n",
              "  --sklearn-color-text-on-default-background: var(--sg-text-color, var(--theme-code-foreground, var(--jp-content-font-color1, black)));\n",
              "  --sklearn-color-background: var(--sg-background-color, var(--theme-background, var(--jp-layout-color0, white)));\n",
              "  --sklearn-color-border-box: var(--sg-text-color, var(--theme-code-foreground, var(--jp-content-font-color1, black)));\n",
              "  --sklearn-color-icon: #696969;\n",
              "\n",
              "  @media (prefers-color-scheme: dark) {\n",
              "    /* Redefinition of color scheme for dark theme */\n",
              "    --sklearn-color-text-on-default-background: var(--sg-text-color, var(--theme-code-foreground, var(--jp-content-font-color1, white)));\n",
              "    --sklearn-color-background: var(--sg-background-color, var(--theme-background, var(--jp-layout-color0, #111)));\n",
              "    --sklearn-color-border-box: var(--sg-text-color, var(--theme-code-foreground, var(--jp-content-font-color1, white)));\n",
              "    --sklearn-color-icon: #878787;\n",
              "  }\n",
              "}\n",
              "\n",
              "#sk-container-id-1 {\n",
              "  color: var(--sklearn-color-text);\n",
              "}\n",
              "\n",
              "#sk-container-id-1 pre {\n",
              "  padding: 0;\n",
              "}\n",
              "\n",
              "#sk-container-id-1 input.sk-hidden--visually {\n",
              "  border: 0;\n",
              "  clip: rect(1px 1px 1px 1px);\n",
              "  clip: rect(1px, 1px, 1px, 1px);\n",
              "  height: 1px;\n",
              "  margin: -1px;\n",
              "  overflow: hidden;\n",
              "  padding: 0;\n",
              "  position: absolute;\n",
              "  width: 1px;\n",
              "}\n",
              "\n",
              "#sk-container-id-1 div.sk-dashed-wrapped {\n",
              "  border: 1px dashed var(--sklearn-color-line);\n",
              "  margin: 0 0.4em 0.5em 0.4em;\n",
              "  box-sizing: border-box;\n",
              "  padding-bottom: 0.4em;\n",
              "  background-color: var(--sklearn-color-background);\n",
              "}\n",
              "\n",
              "#sk-container-id-1 div.sk-container {\n",
              "  /* jupyter's `normalize.less` sets `[hidden] { display: none; }`\n",
              "     but bootstrap.min.css set `[hidden] { display: none !important; }`\n",
              "     so we also need the `!important` here to be able to override the\n",
              "     default hidden behavior on the sphinx rendered scikit-learn.org.\n",
              "     See: https://github.com/scikit-learn/scikit-learn/issues/21755 */\n",
              "  display: inline-block !important;\n",
              "  position: relative;\n",
              "}\n",
              "\n",
              "#sk-container-id-1 div.sk-text-repr-fallback {\n",
              "  display: none;\n",
              "}\n",
              "\n",
              "div.sk-parallel-item,\n",
              "div.sk-serial,\n",
              "div.sk-item {\n",
              "  /* draw centered vertical line to link estimators */\n",
              "  background-image: linear-gradient(var(--sklearn-color-text-on-default-background), var(--sklearn-color-text-on-default-background));\n",
              "  background-size: 2px 100%;\n",
              "  background-repeat: no-repeat;\n",
              "  background-position: center center;\n",
              "}\n",
              "\n",
              "/* Parallel-specific style estimator block */\n",
              "\n",
              "#sk-container-id-1 div.sk-parallel-item::after {\n",
              "  content: \"\";\n",
              "  width: 100%;\n",
              "  border-bottom: 2px solid var(--sklearn-color-text-on-default-background);\n",
              "  flex-grow: 1;\n",
              "}\n",
              "\n",
              "#sk-container-id-1 div.sk-parallel {\n",
              "  display: flex;\n",
              "  align-items: stretch;\n",
              "  justify-content: center;\n",
              "  background-color: var(--sklearn-color-background);\n",
              "  position: relative;\n",
              "}\n",
              "\n",
              "#sk-container-id-1 div.sk-parallel-item {\n",
              "  display: flex;\n",
              "  flex-direction: column;\n",
              "}\n",
              "\n",
              "#sk-container-id-1 div.sk-parallel-item:first-child::after {\n",
              "  align-self: flex-end;\n",
              "  width: 50%;\n",
              "}\n",
              "\n",
              "#sk-container-id-1 div.sk-parallel-item:last-child::after {\n",
              "  align-self: flex-start;\n",
              "  width: 50%;\n",
              "}\n",
              "\n",
              "#sk-container-id-1 div.sk-parallel-item:only-child::after {\n",
              "  width: 0;\n",
              "}\n",
              "\n",
              "/* Serial-specific style estimator block */\n",
              "\n",
              "#sk-container-id-1 div.sk-serial {\n",
              "  display: flex;\n",
              "  flex-direction: column;\n",
              "  align-items: center;\n",
              "  background-color: var(--sklearn-color-background);\n",
              "  padding-right: 1em;\n",
              "  padding-left: 1em;\n",
              "}\n",
              "\n",
              "\n",
              "/* Toggleable style: style used for estimator/Pipeline/ColumnTransformer box that is\n",
              "clickable and can be expanded/collapsed.\n",
              "- Pipeline and ColumnTransformer use this feature and define the default style\n",
              "- Estimators will overwrite some part of the style using the `sk-estimator` class\n",
              "*/\n",
              "\n",
              "/* Pipeline and ColumnTransformer style (default) */\n",
              "\n",
              "#sk-container-id-1 div.sk-toggleable {\n",
              "  /* Default theme specific background. It is overwritten whether we have a\n",
              "  specific estimator or a Pipeline/ColumnTransformer */\n",
              "  background-color: var(--sklearn-color-background);\n",
              "}\n",
              "\n",
              "/* Toggleable label */\n",
              "#sk-container-id-1 label.sk-toggleable__label {\n",
              "  cursor: pointer;\n",
              "  display: flex;\n",
              "  width: 100%;\n",
              "  margin-bottom: 0;\n",
              "  padding: 0.5em;\n",
              "  box-sizing: border-box;\n",
              "  text-align: center;\n",
              "  align-items: start;\n",
              "  justify-content: space-between;\n",
              "  gap: 0.5em;\n",
              "}\n",
              "\n",
              "#sk-container-id-1 label.sk-toggleable__label .caption {\n",
              "  font-size: 0.6rem;\n",
              "  font-weight: lighter;\n",
              "  color: var(--sklearn-color-text-muted);\n",
              "}\n",
              "\n",
              "#sk-container-id-1 label.sk-toggleable__label-arrow:before {\n",
              "  /* Arrow on the left of the label */\n",
              "  content: \"▸\";\n",
              "  float: left;\n",
              "  margin-right: 0.25em;\n",
              "  color: var(--sklearn-color-icon);\n",
              "}\n",
              "\n",
              "#sk-container-id-1 label.sk-toggleable__label-arrow:hover:before {\n",
              "  color: var(--sklearn-color-text);\n",
              "}\n",
              "\n",
              "/* Toggleable content - dropdown */\n",
              "\n",
              "#sk-container-id-1 div.sk-toggleable__content {\n",
              "  max-height: 0;\n",
              "  max-width: 0;\n",
              "  overflow: hidden;\n",
              "  text-align: left;\n",
              "  /* unfitted */\n",
              "  background-color: var(--sklearn-color-unfitted-level-0);\n",
              "}\n",
              "\n",
              "#sk-container-id-1 div.sk-toggleable__content.fitted {\n",
              "  /* fitted */\n",
              "  background-color: var(--sklearn-color-fitted-level-0);\n",
              "}\n",
              "\n",
              "#sk-container-id-1 div.sk-toggleable__content pre {\n",
              "  margin: 0.2em;\n",
              "  border-radius: 0.25em;\n",
              "  color: var(--sklearn-color-text);\n",
              "  /* unfitted */\n",
              "  background-color: var(--sklearn-color-unfitted-level-0);\n",
              "}\n",
              "\n",
              "#sk-container-id-1 div.sk-toggleable__content.fitted pre {\n",
              "  /* unfitted */\n",
              "  background-color: var(--sklearn-color-fitted-level-0);\n",
              "}\n",
              "\n",
              "#sk-container-id-1 input.sk-toggleable__control:checked~div.sk-toggleable__content {\n",
              "  /* Expand drop-down */\n",
              "  max-height: 200px;\n",
              "  max-width: 100%;\n",
              "  overflow: auto;\n",
              "}\n",
              "\n",
              "#sk-container-id-1 input.sk-toggleable__control:checked~label.sk-toggleable__label-arrow:before {\n",
              "  content: \"▾\";\n",
              "}\n",
              "\n",
              "/* Pipeline/ColumnTransformer-specific style */\n",
              "\n",
              "#sk-container-id-1 div.sk-label input.sk-toggleable__control:checked~label.sk-toggleable__label {\n",
              "  color: var(--sklearn-color-text);\n",
              "  background-color: var(--sklearn-color-unfitted-level-2);\n",
              "}\n",
              "\n",
              "#sk-container-id-1 div.sk-label.fitted input.sk-toggleable__control:checked~label.sk-toggleable__label {\n",
              "  background-color: var(--sklearn-color-fitted-level-2);\n",
              "}\n",
              "\n",
              "/* Estimator-specific style */\n",
              "\n",
              "/* Colorize estimator box */\n",
              "#sk-container-id-1 div.sk-estimator input.sk-toggleable__control:checked~label.sk-toggleable__label {\n",
              "  /* unfitted */\n",
              "  background-color: var(--sklearn-color-unfitted-level-2);\n",
              "}\n",
              "\n",
              "#sk-container-id-1 div.sk-estimator.fitted input.sk-toggleable__control:checked~label.sk-toggleable__label {\n",
              "  /* fitted */\n",
              "  background-color: var(--sklearn-color-fitted-level-2);\n",
              "}\n",
              "\n",
              "#sk-container-id-1 div.sk-label label.sk-toggleable__label,\n",
              "#sk-container-id-1 div.sk-label label {\n",
              "  /* The background is the default theme color */\n",
              "  color: var(--sklearn-color-text-on-default-background);\n",
              "}\n",
              "\n",
              "/* On hover, darken the color of the background */\n",
              "#sk-container-id-1 div.sk-label:hover label.sk-toggleable__label {\n",
              "  color: var(--sklearn-color-text);\n",
              "  background-color: var(--sklearn-color-unfitted-level-2);\n",
              "}\n",
              "\n",
              "/* Label box, darken color on hover, fitted */\n",
              "#sk-container-id-1 div.sk-label.fitted:hover label.sk-toggleable__label.fitted {\n",
              "  color: var(--sklearn-color-text);\n",
              "  background-color: var(--sklearn-color-fitted-level-2);\n",
              "}\n",
              "\n",
              "/* Estimator label */\n",
              "\n",
              "#sk-container-id-1 div.sk-label label {\n",
              "  font-family: monospace;\n",
              "  font-weight: bold;\n",
              "  display: inline-block;\n",
              "  line-height: 1.2em;\n",
              "}\n",
              "\n",
              "#sk-container-id-1 div.sk-label-container {\n",
              "  text-align: center;\n",
              "}\n",
              "\n",
              "/* Estimator-specific */\n",
              "#sk-container-id-1 div.sk-estimator {\n",
              "  font-family: monospace;\n",
              "  border: 1px dotted var(--sklearn-color-border-box);\n",
              "  border-radius: 0.25em;\n",
              "  box-sizing: border-box;\n",
              "  margin-bottom: 0.5em;\n",
              "  /* unfitted */\n",
              "  background-color: var(--sklearn-color-unfitted-level-0);\n",
              "}\n",
              "\n",
              "#sk-container-id-1 div.sk-estimator.fitted {\n",
              "  /* fitted */\n",
              "  background-color: var(--sklearn-color-fitted-level-0);\n",
              "}\n",
              "\n",
              "/* on hover */\n",
              "#sk-container-id-1 div.sk-estimator:hover {\n",
              "  /* unfitted */\n",
              "  background-color: var(--sklearn-color-unfitted-level-2);\n",
              "}\n",
              "\n",
              "#sk-container-id-1 div.sk-estimator.fitted:hover {\n",
              "  /* fitted */\n",
              "  background-color: var(--sklearn-color-fitted-level-2);\n",
              "}\n",
              "\n",
              "/* Specification for estimator info (e.g. \"i\" and \"?\") */\n",
              "\n",
              "/* Common style for \"i\" and \"?\" */\n",
              "\n",
              ".sk-estimator-doc-link,\n",
              "a:link.sk-estimator-doc-link,\n",
              "a:visited.sk-estimator-doc-link {\n",
              "  float: right;\n",
              "  font-size: smaller;\n",
              "  line-height: 1em;\n",
              "  font-family: monospace;\n",
              "  background-color: var(--sklearn-color-background);\n",
              "  border-radius: 1em;\n",
              "  height: 1em;\n",
              "  width: 1em;\n",
              "  text-decoration: none !important;\n",
              "  margin-left: 0.5em;\n",
              "  text-align: center;\n",
              "  /* unfitted */\n",
              "  border: var(--sklearn-color-unfitted-level-1) 1pt solid;\n",
              "  color: var(--sklearn-color-unfitted-level-1);\n",
              "}\n",
              "\n",
              ".sk-estimator-doc-link.fitted,\n",
              "a:link.sk-estimator-doc-link.fitted,\n",
              "a:visited.sk-estimator-doc-link.fitted {\n",
              "  /* fitted */\n",
              "  border: var(--sklearn-color-fitted-level-1) 1pt solid;\n",
              "  color: var(--sklearn-color-fitted-level-1);\n",
              "}\n",
              "\n",
              "/* On hover */\n",
              "div.sk-estimator:hover .sk-estimator-doc-link:hover,\n",
              ".sk-estimator-doc-link:hover,\n",
              "div.sk-label-container:hover .sk-estimator-doc-link:hover,\n",
              ".sk-estimator-doc-link:hover {\n",
              "  /* unfitted */\n",
              "  background-color: var(--sklearn-color-unfitted-level-3);\n",
              "  color: var(--sklearn-color-background);\n",
              "  text-decoration: none;\n",
              "}\n",
              "\n",
              "div.sk-estimator.fitted:hover .sk-estimator-doc-link.fitted:hover,\n",
              ".sk-estimator-doc-link.fitted:hover,\n",
              "div.sk-label-container:hover .sk-estimator-doc-link.fitted:hover,\n",
              ".sk-estimator-doc-link.fitted:hover {\n",
              "  /* fitted */\n",
              "  background-color: var(--sklearn-color-fitted-level-3);\n",
              "  color: var(--sklearn-color-background);\n",
              "  text-decoration: none;\n",
              "}\n",
              "\n",
              "/* Span, style for the box shown on hovering the info icon */\n",
              ".sk-estimator-doc-link span {\n",
              "  display: none;\n",
              "  z-index: 9999;\n",
              "  position: relative;\n",
              "  font-weight: normal;\n",
              "  right: .2ex;\n",
              "  padding: .5ex;\n",
              "  margin: .5ex;\n",
              "  width: min-content;\n",
              "  min-width: 20ex;\n",
              "  max-width: 50ex;\n",
              "  color: var(--sklearn-color-text);\n",
              "  box-shadow: 2pt 2pt 4pt #999;\n",
              "  /* unfitted */\n",
              "  background: var(--sklearn-color-unfitted-level-0);\n",
              "  border: .5pt solid var(--sklearn-color-unfitted-level-3);\n",
              "}\n",
              "\n",
              ".sk-estimator-doc-link.fitted span {\n",
              "  /* fitted */\n",
              "  background: var(--sklearn-color-fitted-level-0);\n",
              "  border: var(--sklearn-color-fitted-level-3);\n",
              "}\n",
              "\n",
              ".sk-estimator-doc-link:hover span {\n",
              "  display: block;\n",
              "}\n",
              "\n",
              "/* \"?\"-specific style due to the `<a>` HTML tag */\n",
              "\n",
              "#sk-container-id-1 a.estimator_doc_link {\n",
              "  float: right;\n",
              "  font-size: 1rem;\n",
              "  line-height: 1em;\n",
              "  font-family: monospace;\n",
              "  background-color: var(--sklearn-color-background);\n",
              "  border-radius: 1rem;\n",
              "  height: 1rem;\n",
              "  width: 1rem;\n",
              "  text-decoration: none;\n",
              "  /* unfitted */\n",
              "  color: var(--sklearn-color-unfitted-level-1);\n",
              "  border: var(--sklearn-color-unfitted-level-1) 1pt solid;\n",
              "}\n",
              "\n",
              "#sk-container-id-1 a.estimator_doc_link.fitted {\n",
              "  /* fitted */\n",
              "  border: var(--sklearn-color-fitted-level-1) 1pt solid;\n",
              "  color: var(--sklearn-color-fitted-level-1);\n",
              "}\n",
              "\n",
              "/* On hover */\n",
              "#sk-container-id-1 a.estimator_doc_link:hover {\n",
              "  /* unfitted */\n",
              "  background-color: var(--sklearn-color-unfitted-level-3);\n",
              "  color: var(--sklearn-color-background);\n",
              "  text-decoration: none;\n",
              "}\n",
              "\n",
              "#sk-container-id-1 a.estimator_doc_link.fitted:hover {\n",
              "  /* fitted */\n",
              "  background-color: var(--sklearn-color-fitted-level-3);\n",
              "}\n",
              "</style><div id=\"sk-container-id-1\" class=\"sk-top-container\"><div class=\"sk-text-repr-fallback\"><pre>XGBRegressor(base_score=None, booster=None, callbacks=None,\n",
              "             colsample_bylevel=None, colsample_bynode=None,\n",
              "             colsample_bytree=0.8, device=None, early_stopping_rounds=None,\n",
              "             enable_categorical=False, eval_metric=None, feature_types=None,\n",
              "             feature_weights=None, gamma=None, grow_policy=None,\n",
              "             importance_type=None, interaction_constraints=None,\n",
              "             learning_rate=0.1, max_bin=None, max_cat_threshold=None,\n",
              "             max_cat_to_onehot=None, max_delta_step=None, max_depth=7,\n",
              "             max_leaves=None, min_child_weight=None, missing=nan,\n",
              "             monotone_constraints=None, multi_strategy=None, n_estimators=300,\n",
              "             n_jobs=None, num_parallel_tree=None, ...)</pre><b>In a Jupyter environment, please rerun this cell to show the HTML representation or trust the notebook. <br />On GitHub, the HTML representation is unable to render, please try loading this page with nbviewer.org.</b></div><div class=\"sk-container\" hidden><div class=\"sk-item\"><div class=\"sk-estimator fitted sk-toggleable\"><input class=\"sk-toggleable__control sk-hidden--visually\" id=\"sk-estimator-id-1\" type=\"checkbox\" checked><label for=\"sk-estimator-id-1\" class=\"sk-toggleable__label fitted sk-toggleable__label-arrow\"><div><div>XGBRegressor</div></div><div><a class=\"sk-estimator-doc-link fitted\" rel=\"noreferrer\" target=\"_blank\" href=\"https://xgboost.readthedocs.io/en/release_3.0.0/python/python_api.html#xgboost.XGBRegressor\">?<span>Documentation for XGBRegressor</span></a><span class=\"sk-estimator-doc-link fitted\">i<span>Fitted</span></span></div></label><div class=\"sk-toggleable__content fitted\"><pre>XGBRegressor(base_score=None, booster=None, callbacks=None,\n",
              "             colsample_bylevel=None, colsample_bynode=None,\n",
              "             colsample_bytree=0.8, device=None, early_stopping_rounds=None,\n",
              "             enable_categorical=False, eval_metric=None, feature_types=None,\n",
              "             feature_weights=None, gamma=None, grow_policy=None,\n",
              "             importance_type=None, interaction_constraints=None,\n",
              "             learning_rate=0.1, max_bin=None, max_cat_threshold=None,\n",
              "             max_cat_to_onehot=None, max_delta_step=None, max_depth=7,\n",
              "             max_leaves=None, min_child_weight=None, missing=nan,\n",
              "             monotone_constraints=None, multi_strategy=None, n_estimators=300,\n",
              "             n_jobs=None, num_parallel_tree=None, ...)</pre></div> </div></div></div></div>"
            ]
          },
          "metadata": {},
          "execution_count": 5
        }
      ]
    },
    {
      "cell_type": "markdown",
      "metadata": {
        "id": "561b6ca6"
      },
      "source": [
        "## Evaluate the tuned model\n",
        "\n",
        "### Subtask:\n",
        "Evaluate the performance of the tuned model using appropriate metrics like R-squared and Mean Absolute Error on the test data.\n"
      ]
    },
    {
      "cell_type": "markdown",
      "metadata": {
        "id": "ba5cd42e"
      },
      "source": [
        "**Reasoning**:\n",
        "Use the trained best model to make predictions on the test data and then calculate the R-squared and Mean Absolute Error. Finally, print the calculated metrics.\n",
        "\n"
      ]
    },
    {
      "cell_type": "code",
      "metadata": {
        "colab": {
          "base_uri": "https://localhost:8080/",
          "height": 219
        },
        "id": "133f326d",
        "outputId": "ca39505f-f136-4eef-8065-41f0ead36fe8"
      },
      "source": [
        "# 1. Use the trained best_model to make predictions on the test data X_test.\n",
        "test_data_prediction_tuned = best_model.predict(X_test)\n",
        "\n",
        "# 2. Calculate the R-squared error.\n",
        "score_r2_tuned = metrics.r2_score(Y_test, test_data_prediction_tuned)\n",
        "\n",
        "# 3. Calculate the Mean Absolute Error (MAE).\n",
        "score_mae_tuned = metrics.mean_absolute_error(Y_test, test_data_prediction_tuned)\n",
        "\n",
        "# 4. Print the calculated R-squared error and Mean Absolute Error.\n",
        "print('Tuned Model - R Sqaured Error:', score_r2_tuned)\n",
        "print('Tuned Model - Mean Absolute Error:', score_mae_tuned)"
      ],
      "execution_count": 6,
      "outputs": [
        {
          "output_type": "error",
          "ename": "NameError",
          "evalue": "name 'metrics' is not defined",
          "traceback": [
            "\u001b[0;31m---------------------------------------------------------------------------\u001b[0m",
            "\u001b[0;31mNameError\u001b[0m                                 Traceback (most recent call last)",
            "\u001b[0;32m/tmp/ipython-input-4232095151.py\u001b[0m in \u001b[0;36m<cell line: 0>\u001b[0;34m()\u001b[0m\n\u001b[1;32m      3\u001b[0m \u001b[0;34m\u001b[0m\u001b[0m\n\u001b[1;32m      4\u001b[0m \u001b[0;31m# 2. Calculate the R-squared error.\u001b[0m\u001b[0;34m\u001b[0m\u001b[0;34m\u001b[0m\u001b[0m\n\u001b[0;32m----> 5\u001b[0;31m \u001b[0mscore_r2_tuned\u001b[0m \u001b[0;34m=\u001b[0m \u001b[0mmetrics\u001b[0m\u001b[0;34m.\u001b[0m\u001b[0mr2_score\u001b[0m\u001b[0;34m(\u001b[0m\u001b[0mY_test\u001b[0m\u001b[0;34m,\u001b[0m \u001b[0mtest_data_prediction_tuned\u001b[0m\u001b[0;34m)\u001b[0m\u001b[0;34m\u001b[0m\u001b[0;34m\u001b[0m\u001b[0m\n\u001b[0m\u001b[1;32m      6\u001b[0m \u001b[0;34m\u001b[0m\u001b[0m\n\u001b[1;32m      7\u001b[0m \u001b[0;31m# 3. Calculate the Mean Absolute Error (MAE).\u001b[0m\u001b[0;34m\u001b[0m\u001b[0;34m\u001b[0m\u001b[0m\n",
            "\u001b[0;31mNameError\u001b[0m: name 'metrics' is not defined"
          ]
        }
      ]
    },
    {
      "cell_type": "markdown",
      "metadata": {
        "id": "37a5859c"
      },
      "source": [
        "**Reasoning**:\n",
        "The previous code block failed because the `metrics` module was not imported. I need to re-generate the code block including the necessary import.\n",
        "\n"
      ]
    },
    {
      "cell_type": "code",
      "metadata": {
        "colab": {
          "base_uri": "https://localhost:8080/"
        },
        "id": "V8Ho9dXq4nm2",
        "outputId": "63b044d2-1bb6-4f46-bafa-65f892fb1f2e"
      },
      "source": [
        "import sklearn.metrics as metrics\n",
        "\n",
        "# 1. Use the trained best_model to make predictions on the test data X_test.\n",
        "test_data_prediction_tuned = best_model.predict(X_test)\n",
        "\n",
        "# 2. Calculate the R-squared error.\n",
        "score_r2_tuned = metrics.r2_score(Y_test, test_data_prediction_tuned)\n",
        "\n",
        "# 3. Calculate the Mean Absolute Error (MAE).\n",
        "score_mae_tuned = metrics.mean_absolute_error(Y_test, test_data_prediction_tuned)\n",
        "\n",
        "# 4. Print the calculated R-squared error and Mean Absolute Error.\n",
        "print('Tuned Model - R Sqaured Error:', score_r2_tuned)\n",
        "print('Tuned Model - Mean Absolute Error:', score_mae_tuned)"
      ],
      "execution_count": 7,
      "outputs": [
        {
          "output_type": "stream",
          "name": "stdout",
          "text": [
            "Tuned Model - R Sqaured Error: 0.8523627549110115\n",
            "Tuned Model - Mean Absolute Error: 0.2898461287849587\n"
          ]
        }
      ]
    },
    {
      "cell_type": "markdown",
      "metadata": {
        "id": "50f28b37"
      },
      "source": [
        "## Visualize predictions\n",
        "\n",
        "### Subtask:\n",
        "Visualize the actual vs. predicted prices for the test data using the tuned model.\n"
      ]
    },
    {
      "cell_type": "markdown",
      "metadata": {
        "id": "836128a0"
      },
      "source": [
        "**Reasoning**:\n",
        "Visualize the actual vs. predicted prices for the test data using the tuned model.\n",
        "\n"
      ]
    },
    {
      "cell_type": "code",
      "metadata": {
        "colab": {
          "base_uri": "https://localhost:8080/",
          "height": 219
        },
        "id": "0fb9ce6d",
        "outputId": "311b2aa6-22a7-4b99-ea36-b7eea88f88f0"
      },
      "source": [
        "plt.scatter(Y_test, test_data_prediction_tuned)\n",
        "plt.xlabel(\"Actual Price\")\n",
        "plt.ylabel(\"Predicted Price\")\n",
        "plt.title(\"Actual Price vs Predicted Price (Tuned Model)\")\n",
        "plt.show()"
      ],
      "execution_count": 8,
      "outputs": [
        {
          "output_type": "error",
          "ename": "NameError",
          "evalue": "name 'plt' is not defined",
          "traceback": [
            "\u001b[0;31m---------------------------------------------------------------------------\u001b[0m",
            "\u001b[0;31mNameError\u001b[0m                                 Traceback (most recent call last)",
            "\u001b[0;32m/tmp/ipython-input-3233428216.py\u001b[0m in \u001b[0;36m<cell line: 0>\u001b[0;34m()\u001b[0m\n\u001b[0;32m----> 1\u001b[0;31m \u001b[0mplt\u001b[0m\u001b[0;34m.\u001b[0m\u001b[0mscatter\u001b[0m\u001b[0;34m(\u001b[0m\u001b[0mY_test\u001b[0m\u001b[0;34m,\u001b[0m \u001b[0mtest_data_prediction_tuned\u001b[0m\u001b[0;34m)\u001b[0m\u001b[0;34m\u001b[0m\u001b[0;34m\u001b[0m\u001b[0m\n\u001b[0m\u001b[1;32m      2\u001b[0m \u001b[0mplt\u001b[0m\u001b[0;34m.\u001b[0m\u001b[0mxlabel\u001b[0m\u001b[0;34m(\u001b[0m\u001b[0;34m\"Actual Price\"\u001b[0m\u001b[0;34m)\u001b[0m\u001b[0;34m\u001b[0m\u001b[0;34m\u001b[0m\u001b[0m\n\u001b[1;32m      3\u001b[0m \u001b[0mplt\u001b[0m\u001b[0;34m.\u001b[0m\u001b[0mylabel\u001b[0m\u001b[0;34m(\u001b[0m\u001b[0;34m\"Predicted Price\"\u001b[0m\u001b[0;34m)\u001b[0m\u001b[0;34m\u001b[0m\u001b[0;34m\u001b[0m\u001b[0m\n\u001b[1;32m      4\u001b[0m \u001b[0mplt\u001b[0m\u001b[0;34m.\u001b[0m\u001b[0mtitle\u001b[0m\u001b[0;34m(\u001b[0m\u001b[0;34m\"Actual Price vs Predicted Price (Tuned Model)\"\u001b[0m\u001b[0;34m)\u001b[0m\u001b[0;34m\u001b[0m\u001b[0;34m\u001b[0m\u001b[0m\n\u001b[1;32m      5\u001b[0m \u001b[0mplt\u001b[0m\u001b[0;34m.\u001b[0m\u001b[0mshow\u001b[0m\u001b[0;34m(\u001b[0m\u001b[0;34m)\u001b[0m\u001b[0;34m\u001b[0m\u001b[0;34m\u001b[0m\u001b[0m\n",
            "\u001b[0;31mNameError\u001b[0m: name 'plt' is not defined"
          ]
        }
      ]
    },
    {
      "cell_type": "markdown",
      "metadata": {
        "id": "05faab0d"
      },
      "source": [
        "**Reasoning**:\n",
        "Import the matplotlib.pyplot module as plt and then create the scatter plot to visualize the actual vs. predicted prices for the test data.\n",
        "\n"
      ]
    },
    {
      "cell_type": "code",
      "metadata": {
        "colab": {
          "base_uri": "https://localhost:8080/",
          "height": 472
        },
        "id": "o8W4XrXL4uxr",
        "outputId": "6f264a95-d279-41f1-b9b8-ca54fe05bf1b"
      },
      "source": [
        "import matplotlib.pyplot as plt\n",
        "\n",
        "plt.scatter(Y_test, test_data_prediction_tuned)\n",
        "plt.xlabel(\"Actual Price\")\n",
        "plt.ylabel(\"Predicted Price\")\n",
        "plt.title(\"Actual Price vs Predicted Price (Tuned Model)\")\n",
        "plt.show()"
      ],
      "execution_count": 9,
      "outputs": [
        {
          "output_type": "display_data",
          "data": {
            "text/plain": [
              "<Figure size 640x480 with 1 Axes>"
            ],
            "image/png": "[encoded data removed]"
          },
          "metadata": {}
        }
      ]
    },
    {
      "cell_type": "markdown",
      "metadata": {
        "id": "dc982520"
      },
      "source": [
        "## Summary:\n",
        "\n",
        "### Data Analysis Key Findings\n",
        "\n",
        "*   The best hyperparameters found for the XGBoost Regressor model using GridSearchCV were `{'colsample_bytree': 0.8, 'learning_rate': 0.1, 'max_depth': 7, 'n_estimators': 300, 'subsample': 0.8}`.\n",
        "*   The tuned XGBoost model achieved an R-squared error of approximately 0.852 on the test set.\n",
        "*   The tuned XGBoost model resulted in a Mean Absolute Error (MAE) of approximately 0.290 on the test set.\n",
        "\n",
        "### Insights or Next Steps\n",
        "\n",
        "*   Compare the performance of the tuned model with an untuned model to quantify the improvement gained from hyperparameter tuning.\n",
        "*   Explore other hyperparameter tuning techniques like RandomizedSearchCV or Bayesian Optimization to potentially find even better hyperparameter combinations.\n"
      ]
    }
  ]
}